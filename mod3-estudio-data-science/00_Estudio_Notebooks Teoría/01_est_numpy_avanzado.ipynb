{
  "cells": [
    {
      "cell_type": "markdown",
      "metadata": {
        "id": "view-in-github",
        "colab_type": "text"
      },
      "source": [
        "<a href=\"https://colab.research.google.com/github/CaroliCosas/Bootcamp_Data_Science/blob/main/01_numpy_avanzado.ipynb\" target=\"_parent\"><img src=\"https://colab.research.google.com/assets/colab-badge.svg\" alt=\"Open In Colab\"/></a>"
      ]
    },
    {
      "cell_type": "markdown",
      "id": "221cc933",
      "metadata": {
        "id": "221cc933"
      },
      "source": [
        "## NumPy - Avanzado\n",
        "\n",
        "En este notebook vamos a explorar diferentes funciones de esta librería enfocadas al trabajo con elementos **bi-dimensionales** (matrices) y manipulación de arrays.\n",
        "\n",
        "- Indexing y Slicing en NumPy.\n",
        "- Atributos de los arrays.\n",
        "- Funciones de agregación.\n",
        "- Funciones de ordenamiento.\n",
        "- Manipulación de arrays.\n",
        "- Creación de arrays.\n",
        "- Números Aleatorios en NumPy."
      ]
    },
    {
      "cell_type": "code",
      "execution_count": 1,
      "id": "04664844",
      "metadata": {
        "id": "04664844"
      },
      "outputs": [],
      "source": [
        "import numpy as np"
      ]
    },
    {
      "cell_type": "code",
      "execution_count": 2,
      "id": "1363fced-422d-4ae2-bdae-0327756d0148",
      "metadata": {
        "tags": [],
        "colab": {
          "base_uri": "https://localhost:8080/"
        },
        "id": "1363fced-422d-4ae2-bdae-0327756d0148",
        "outputId": "6a953b20-aeae-43d9-d013-663ce6de5851"
      },
      "outputs": [
        {
          "output_type": "stream",
          "name": "stdout",
          "text": [
            "numpy==1.26.4\n"
          ]
        }
      ],
      "source": [
        "# Versión de NumPy\n",
        "\n",
        "print(f\"numpy=={np.__version__}\")"
      ]
    },
    {
      "cell_type": "markdown",
      "id": "ea923638-ad67-43b7-bcad-affac7295ce8",
      "metadata": {
        "id": "ea923638-ad67-43b7-bcad-affac7295ce8"
      },
      "source": [
        "### Indexing y Slicing en NumPy\n",
        "\n",
        "#### Indexing\n",
        "\n",
        "En Python para hacer _**indexing**_ de una lista de listas debiamos escribir primero la _**fila**_ y de segundo la _**columna**_ asi:\n",
        "```python\n",
        "lista[a][b]\n",
        "```\n",
        "\n",
        "Usando un _**np.array()**_ podemos usar la siguiente notación:\n",
        "```python\n",
        "array[a, b]\n",
        "```\n",
        "\n",
        "#### Slicing\n",
        "\n",
        "En Python para hacer _**slicing**_ de una lista de listas debiamos escribir primero la _**fila**_ y de segundo la _**columna**_ asi:\n",
        "```python\n",
        "lista[a1:a2][b1:b2]\n",
        "```\n",
        "\n",
        "Usando un _**np.array()**_ podemos usar la siguiente notación:\n",
        "```python\n",
        "array[a1:a2, b1:b2]\n",
        "```\n",
        "\n",
        "También podemos hacer _**slicing**_ dentro del _**indexing**_ (esta operación retorna un array):\n",
        "\n",
        "```python\n",
        "array[[a1, a3], [b2, b4]]\n",
        "```\n",
        "\n",
        "**Siempre el primer elemento hace referencia a las filas y el segundo hace referencia a las columnas.**"
      ]
    },
    {
      "cell_type": "code",
      "execution_count": 3,
      "id": "15735cfa-ee88-4891-87cd-f1e8767b67f3",
      "metadata": {
        "colab": {
          "base_uri": "https://localhost:8080/"
        },
        "id": "15735cfa-ee88-4891-87cd-f1e8767b67f3",
        "outputId": "6e4bedfa-498d-4e6b-b607-d1cd20f41392"
      },
      "outputs": [
        {
          "output_type": "stream",
          "name": "stdout",
          "text": [
            "[[1 0 0 0 0]\n",
            " [0 0 2 0 0]\n",
            " [1 1 0 0 1]\n",
            " [2 1 1 1 0]\n",
            " [1 2 1 2 2]]\n"
          ]
        }
      ],
      "source": [
        "# matriz de ejemplo\n",
        "\n",
        "matriz = np.array([[1, 0, 0, 0, 0],\n",
        "                   [0, 0, 2, 0, 0],\n",
        "                   [1, 1, 0, 0, 1],\n",
        "                   [2, 1, 1, 1, 0],\n",
        "                   [1, 2, 1, 2, 2]])\n",
        "\n",
        "print(matriz)"
      ]
    },
    {
      "cell_type": "code",
      "execution_count": 4,
      "id": "21dbaeca",
      "metadata": {
        "colab": {
          "base_uri": "https://localhost:8080/"
        },
        "id": "21dbaeca",
        "outputId": "ab578ebf-2197-4791-9eba-d2e439e0a660"
      },
      "outputs": [
        {
          "output_type": "execute_result",
          "data": {
            "text/plain": [
              "2"
            ]
          },
          "metadata": {},
          "execution_count": 4
        }
      ],
      "source": [
        "# Hacer\n",
        "\n",
        "matriz[4][1]"
      ]
    },
    {
      "cell_type": "code",
      "execution_count": 5,
      "id": "ec4d8249",
      "metadata": {
        "colab": {
          "base_uri": "https://localhost:8080/"
        },
        "id": "ec4d8249",
        "outputId": "b237cc4f-fa68-46ed-f62a-20069e921c26"
      },
      "outputs": [
        {
          "output_type": "execute_result",
          "data": {
            "text/plain": [
              "2"
            ]
          },
          "metadata": {},
          "execution_count": 5
        }
      ],
      "source": [
        "# Es igual que hacer\n",
        "\n",
        "matriz[4, 1]"
      ]
    },
    {
      "cell_type": "code",
      "execution_count": 6,
      "id": "52d4413b",
      "metadata": {
        "colab": {
          "base_uri": "https://localhost:8080/"
        },
        "id": "52d4413b",
        "outputId": "7a2c4b4b-9bcc-43b1-9151-f69951961d00"
      },
      "outputs": [
        {
          "output_type": "execute_result",
          "data": {
            "text/plain": [
              "array([[0, 2, 0],\n",
              "       [1, 0, 0],\n",
              "       [1, 1, 1]])"
            ]
          },
          "metadata": {},
          "execution_count": 6
        }
      ],
      "source": [
        "# Slicing\n",
        "\n",
        "matriz[1:4, 1:4]"
      ]
    },
    {
      "cell_type": "code",
      "execution_count": 7,
      "id": "93e46fc8",
      "metadata": {
        "colab": {
          "base_uri": "https://localhost:8080/"
        },
        "id": "93e46fc8",
        "outputId": "60958bd8-19df-4b0f-b62a-167564d25fac"
      },
      "outputs": [
        {
          "output_type": "execute_result",
          "data": {
            "text/plain": [
              "array([2, 0])"
            ]
          },
          "metadata": {},
          "execution_count": 7
        }
      ],
      "source": [
        "# Indexing + Slicing\n",
        "# El resultado es un array, no un único elemento\n",
        "\n",
        "matriz[[1, 3], [2, 4]]"
      ]
    },
    {
      "cell_type": "markdown",
      "id": "818240ee-5efa-44e4-82fa-e8bb64a25394",
      "metadata": {
        "id": "818240ee-5efa-44e4-82fa-e8bb64a25394"
      },
      "source": [
        "#### Atributos de los arrays\n",
        "\n",
        "|Atributo      |Descripción                                          |\n",
        "|--------------|-----------------------------------------------------|\n",
        "|**.dtype**    |Retorna el tipo de dato de los elementos de un array.|\n",
        "|**.ndim**     |Retorna el número de dimensiones de un array.        |\n",
        "|**.size**     |Retorna el total de elementos no nulos de un array.  |\n",
        "|**.shape**    |Retorna en una tupla las dimensiones de un array.    |\n",
        "| **.T**       |Retorna la transpuesta de una matriz.                |"
      ]
    },
    {
      "cell_type": "code",
      "execution_count": 8,
      "id": "9bb8b5d0-efd7-4202-8c90-15f0fd7676c4",
      "metadata": {
        "tags": [],
        "colab": {
          "base_uri": "https://localhost:8080/"
        },
        "id": "9bb8b5d0-efd7-4202-8c90-15f0fd7676c4",
        "outputId": "7bc6fd61-6eca-430e-8ec2-59c43860fee9"
      },
      "outputs": [
        {
          "output_type": "execute_result",
          "data": {
            "text/plain": [
              "dtype('int64')"
            ]
          },
          "metadata": {},
          "execution_count": 8
        }
      ],
      "source": [
        "# .dtype retorna el tipo de dato de los elementos de un array.\n",
        "matriz.dtype"
      ]
    },
    {
      "cell_type": "code",
      "execution_count": 9,
      "id": "4f9447e5-bdfa-457f-b997-694fac3fc46a",
      "metadata": {
        "tags": [],
        "colab": {
          "base_uri": "https://localhost:8080/"
        },
        "id": "4f9447e5-bdfa-457f-b997-694fac3fc46a",
        "outputId": "90595b2a-63b1-41e7-9859-c6feadd7a4ff"
      },
      "outputs": [
        {
          "output_type": "execute_result",
          "data": {
            "text/plain": [
              "2"
            ]
          },
          "metadata": {},
          "execution_count": 9
        }
      ],
      "source": [
        "# .ndim retorna el número de dimensiones de un array.\n",
        "# Como es una matriz tiene 2 dimensiones (filas y columnas)\n",
        "matriz.ndim"
      ]
    },
    {
      "cell_type": "code",
      "execution_count": 10,
      "id": "bb68ad0c-9ed4-4177-927b-b359a937b6f0",
      "metadata": {
        "tags": [],
        "colab": {
          "base_uri": "https://localhost:8080/"
        },
        "id": "bb68ad0c-9ed4-4177-927b-b359a937b6f0",
        "outputId": "57fd795c-ffd5-4800-a2c9-9b68446df320"
      },
      "outputs": [
        {
          "output_type": "execute_result",
          "data": {
            "text/plain": [
              "25"
            ]
          },
          "metadata": {},
          "execution_count": 10
        }
      ],
      "source": [
        "# .size retorna el total de elementos no nulos de un array.\n",
        "\n",
        "matriz.size"
      ]
    },
    {
      "cell_type": "code",
      "execution_count": 11,
      "id": "879db54b-790e-4f79-a85a-0c9304bec8fa",
      "metadata": {
        "tags": [],
        "colab": {
          "base_uri": "https://localhost:8080/"
        },
        "id": "879db54b-790e-4f79-a85a-0c9304bec8fa",
        "outputId": "00d627ac-2b87-49ba-b97f-30692de7676a"
      },
      "outputs": [
        {
          "output_type": "execute_result",
          "data": {
            "text/plain": [
              "(5, 5)"
            ]
          },
          "metadata": {},
          "execution_count": 11
        }
      ],
      "source": [
        "# .shape retorna en una tupla las dimensiones de un array.\n",
        "# Como es una matriz y tiene 2 dimensiones, retorna el total de filas y el total de columnas.\n",
        "\n",
        "matriz.shape"
      ]
    },
    {
      "cell_type": "code",
      "execution_count": 12,
      "id": "3171a8db-02b3-4b36-9f2d-3d12919f5f14",
      "metadata": {
        "tags": [],
        "colab": {
          "base_uri": "https://localhost:8080/"
        },
        "id": "3171a8db-02b3-4b36-9f2d-3d12919f5f14",
        "outputId": "6aa81fe6-099d-4485-c075-3c3abb7685b5"
      },
      "outputs": [
        {
          "output_type": "execute_result",
          "data": {
            "text/plain": [
              "array([[1, 0, 1, 2, 1],\n",
              "       [0, 0, 1, 1, 2],\n",
              "       [0, 2, 0, 1, 1],\n",
              "       [0, 0, 0, 1, 2],\n",
              "       [0, 0, 1, 0, 2]])"
            ]
          },
          "metadata": {},
          "execution_count": 12
        }
      ],
      "source": [
        "# .T retorna la transpuesta de una matriz\n",
        "\n",
        "matriz.T"
      ]
    },
    {
      "cell_type": "markdown",
      "id": "1ced8f51-1ac8-444b-a24c-49d51efda7e1",
      "metadata": {
        "id": "1ced8f51-1ac8-444b-a24c-49d51efda7e1"
      },
      "source": [
        "### Funciones de Agregación\n",
        "\n",
        "Las funciones de agregación permiten reseumir los datos de un _**array**_ en un único valor.\n",
        "\n",
        "|Función         |Descripción                                                                                                |\n",
        "|----------------|-----------------------------------------------------------------------------------------------------------|\n",
        "|**np.sum()**    |Retorna la suma de todos los elementos del array.                                                          |\n",
        "|**np.prod()**   |Retorna el producto de todos los elementos del array.                                                      |\n",
        "|**np.cumsum()** |Retorna la suma acumulada de todos los elementos del array.                                                |\n",
        "|**np.cumprod()**|Retorna el producto acumulado de todos los elementos del array.                                            |\n",
        "|**np.mean()**   |Retorna la media de todos los elementos del array.                                                         |\n",
        "|**np.median()** |Retorna la mediana de todos los elementos del array.                                                       |\n",
        "|**np.min()**    |Retorna el mínimo de todos los elementos del array.                                                        |\n",
        "|**np.max()**    |Retorna la máximo de todos los elementos del array.                                                        |\n",
        "|**np.std()**    |Retorna la desviación estandar de todos los elementos del array.                                           |\n",
        "|**np.any()**    |Retorna **True** si al menos uno de los elementos del array es **True**. De lo contrario retorna **False**.|\n",
        "|**np.all()**    |Retorna **True** si todos todos los elementos del array son **True**. De lo contrario retorna **False**.   |\n",
        "\n",
        "\n",
        "Si es un **array de dos dimensiones** podemos añadir el parámetro _**axis = 0/1**_. Esto retornará la operación por **columna/fila**. El resultado de esa operación será un array, no un único valor."
      ]
    },
    {
      "cell_type": "code",
      "execution_count": 13,
      "id": "ad66398d-efc3-470c-8bc2-504303e2a3db",
      "metadata": {
        "tags": [],
        "colab": {
          "base_uri": "https://localhost:8080/"
        },
        "id": "ad66398d-efc3-470c-8bc2-504303e2a3db",
        "outputId": "52f42de0-a77d-4c76-c114-9f2e4c90e3be"
      },
      "outputs": [
        {
          "output_type": "stream",
          "name": "stdout",
          "text": [
            "[ 1  3  2  5  4  6  8  7  9  1  8 10]\n"
          ]
        }
      ],
      "source": [
        "# array de ejemplo\n",
        "\n",
        "array = np.array([1, 3, 2, 5, 4, 6, 8, 7, 9, 1, 8, 10])\n",
        "\n",
        "print(array)"
      ]
    },
    {
      "cell_type": "code",
      "execution_count": 14,
      "id": "d7aec49d-43a2-4478-a10c-7e9ff2b2e9ee",
      "metadata": {
        "tags": [],
        "colab": {
          "base_uri": "https://localhost:8080/"
        },
        "id": "d7aec49d-43a2-4478-a10c-7e9ff2b2e9ee",
        "outputId": "0fbbae44-e924-492f-88da-b4848a7cf9f9"
      },
      "outputs": [
        {
          "output_type": "execute_result",
          "data": {
            "text/plain": [
              "64"
            ]
          },
          "metadata": {},
          "execution_count": 14
        }
      ],
      "source": [
        "# np.sum() retorna la suma de todos los elementos del array.\n",
        "\n",
        "np.sum(array)"
      ]
    },
    {
      "cell_type": "code",
      "execution_count": 15,
      "id": "d99f5abf-9132-4718-86a9-68e27eb14070",
      "metadata": {
        "tags": [],
        "colab": {
          "base_uri": "https://localhost:8080/"
        },
        "id": "d99f5abf-9132-4718-86a9-68e27eb14070",
        "outputId": "3e4719dd-35e0-4295-8886-040a918548e0"
      },
      "outputs": [
        {
          "output_type": "execute_result",
          "data": {
            "text/plain": [
              "19"
            ]
          },
          "metadata": {},
          "execution_count": 15
        }
      ],
      "source": [
        "# Si es una matriz retorna la suma de todos los elementos\n",
        "\n",
        "np.sum(matriz)"
      ]
    },
    {
      "cell_type": "code",
      "execution_count": 16,
      "id": "769fae5c-7d15-48be-8873-941dcb905eb0",
      "metadata": {
        "tags": [],
        "colab": {
          "base_uri": "https://localhost:8080/"
        },
        "id": "769fae5c-7d15-48be-8873-941dcb905eb0",
        "outputId": "cdc0221a-2c5f-44be-a08e-3d80d6ea878f"
      },
      "outputs": [
        {
          "output_type": "execute_result",
          "data": {
            "text/plain": [
              "array([5, 4, 4, 3, 3])"
            ]
          },
          "metadata": {},
          "execution_count": 16
        }
      ],
      "source": [
        "# Si añadimos el parámetro \"axis = 0/1\" entonces retornará la suma por cada columna/fila\n",
        "\n",
        "np.sum(matriz, axis = 0)\n",
        "# np.sum(matriz, axis = 1)"
      ]
    },
    {
      "cell_type": "code",
      "execution_count": 17,
      "id": "0fa7a1d9-4879-4780-b476-54881b3cf028",
      "metadata": {
        "tags": [],
        "colab": {
          "base_uri": "https://localhost:8080/"
        },
        "id": "0fa7a1d9-4879-4780-b476-54881b3cf028",
        "outputId": "bd5ab663-98a2-4608-c46d-7a8cdf072a31"
      },
      "outputs": [
        {
          "output_type": "execute_result",
          "data": {
            "text/plain": [
              "29030400"
            ]
          },
          "metadata": {},
          "execution_count": 17
        }
      ],
      "source": [
        "# np.prod() retorna el producto de todos los elementos del array.\n",
        "\n",
        "np.prod(array)"
      ]
    },
    {
      "cell_type": "code",
      "execution_count": 19,
      "id": "ce764b22-b815-45d6-a2d3-8c5b8b7d5f1d",
      "metadata": {
        "tags": [],
        "colab": {
          "base_uri": "https://localhost:8080/"
        },
        "id": "ce764b22-b815-45d6-a2d3-8c5b8b7d5f1d",
        "outputId": "f07adcd6-72a9-4625-cfbd-593ba7f286b5"
      },
      "outputs": [
        {
          "output_type": "execute_result",
          "data": {
            "text/plain": [
              "0"
            ]
          },
          "metadata": {},
          "execution_count": 19
        }
      ],
      "source": [
        "# Si es una matriz retorna el producto de todos los elementos\n",
        "\n",
        "np.prod(matriz)"
      ]
    },
    {
      "cell_type": "code",
      "execution_count": 20,
      "id": "710c3438-0c06-40b0-82ba-96ac1f167564",
      "metadata": {
        "tags": [],
        "colab": {
          "base_uri": "https://localhost:8080/"
        },
        "id": "710c3438-0c06-40b0-82ba-96ac1f167564",
        "outputId": "8bc23a64-3082-49c6-e41f-891db62711c8"
      },
      "outputs": [
        {
          "output_type": "execute_result",
          "data": {
            "text/plain": [
              "array([0, 0, 0, 0, 0])"
            ]
          },
          "metadata": {},
          "execution_count": 20
        }
      ],
      "source": [
        "# Si añadimos el parámetro \"axis = 0/1\" entonces retornará el producto por cada columna/fila\n",
        "\n",
        "np.prod(matriz, axis = 0)\n",
        "# np.prod(matriz, axis = 1)"
      ]
    },
    {
      "cell_type": "code",
      "execution_count": 21,
      "id": "0527cefd-40a1-46e2-927e-4599a1cf3786",
      "metadata": {
        "tags": [],
        "colab": {
          "base_uri": "https://localhost:8080/"
        },
        "id": "0527cefd-40a1-46e2-927e-4599a1cf3786",
        "outputId": "73a64bbf-eee3-48fe-fd5e-d5da763a0ebe"
      },
      "outputs": [
        {
          "output_type": "execute_result",
          "data": {
            "text/plain": [
              "array([ 1,  4,  6, 11, 15, 21, 29, 36, 45, 46, 54, 64])"
            ]
          },
          "metadata": {},
          "execution_count": 21
        }
      ],
      "source": [
        "# np.cumsum() retorna la suma acumulada de todos los elementos del array.\n",
        "\n",
        "np.cumsum(array)"
      ]
    },
    {
      "cell_type": "code",
      "execution_count": 22,
      "id": "a58bb745-5a81-4c4b-9cdd-053f7b8f3183",
      "metadata": {
        "tags": [],
        "colab": {
          "base_uri": "https://localhost:8080/"
        },
        "id": "a58bb745-5a81-4c4b-9cdd-053f7b8f3183",
        "outputId": "092ae307-8049-4a14-ba63-f8aa90b5e1c3"
      },
      "outputs": [
        {
          "output_type": "execute_result",
          "data": {
            "text/plain": [
              "array([       1,        3,        6,       30,      120,      720,\n",
              "           5760,    40320,   362880,   362880,  2903040, 29030400])"
            ]
          },
          "metadata": {},
          "execution_count": 22
        }
      ],
      "source": [
        "# np.cumprod() retorna el producto acumulado de todos los elementos del array.\n",
        "\n",
        "np.cumprod(array)"
      ]
    },
    {
      "cell_type": "code",
      "execution_count": 23,
      "id": "0ac28d77-2819-4d6d-8f9d-6ca2162a40db",
      "metadata": {
        "tags": [],
        "colab": {
          "base_uri": "https://localhost:8080/"
        },
        "id": "0ac28d77-2819-4d6d-8f9d-6ca2162a40db",
        "outputId": "277d2c22-d788-4adb-fe60-ae5b5e4d0cf7"
      },
      "outputs": [
        {
          "output_type": "execute_result",
          "data": {
            "text/plain": [
              "5.333333333333333"
            ]
          },
          "metadata": {},
          "execution_count": 23
        }
      ],
      "source": [
        "# np.mean() retorna la media de todos los elementos del array.\n",
        "\n",
        "np.mean(array)\n",
        "\n",
        "# np.mean(matriz, axis = 1)"
      ]
    },
    {
      "cell_type": "code",
      "execution_count": 24,
      "id": "4173ac9d-9068-4743-8cef-adc25776e23b",
      "metadata": {
        "tags": [],
        "colab": {
          "base_uri": "https://localhost:8080/"
        },
        "id": "4173ac9d-9068-4743-8cef-adc25776e23b",
        "outputId": "7cf886e4-de59-47c6-e64e-e0a37a615298"
      },
      "outputs": [
        {
          "output_type": "execute_result",
          "data": {
            "text/plain": [
              "5.5"
            ]
          },
          "metadata": {},
          "execution_count": 24
        }
      ],
      "source": [
        "# np.median() retorna la mediana de todos los elementos del array.\n",
        "\n",
        "np.median(array)"
      ]
    },
    {
      "cell_type": "code",
      "execution_count": 25,
      "id": "d5d36e61-e9cb-4d09-8eb3-ffc64f6a0fc0",
      "metadata": {
        "tags": [],
        "colab": {
          "base_uri": "https://localhost:8080/"
        },
        "id": "d5d36e61-e9cb-4d09-8eb3-ffc64f6a0fc0",
        "outputId": "3e70bbe2-2929-467a-9f1d-c99e2b89dc62"
      },
      "outputs": [
        {
          "output_type": "execute_result",
          "data": {
            "text/plain": [
              "1"
            ]
          },
          "metadata": {},
          "execution_count": 25
        }
      ],
      "source": [
        "# np.min() retorna el mínimo de todos los elementos del array.\n",
        "\n",
        "np.min(array)"
      ]
    },
    {
      "cell_type": "code",
      "execution_count": 26,
      "id": "d6b86213-a3d8-4d8a-905b-3c743dd4242a",
      "metadata": {
        "tags": [],
        "colab": {
          "base_uri": "https://localhost:8080/"
        },
        "id": "d6b86213-a3d8-4d8a-905b-3c743dd4242a",
        "outputId": "516ab1c1-4cd3-4a1e-b3d1-820a598e3d9f"
      },
      "outputs": [
        {
          "output_type": "execute_result",
          "data": {
            "text/plain": [
              "10"
            ]
          },
          "metadata": {},
          "execution_count": 26
        }
      ],
      "source": [
        "# np.max() retorna la máximo de todos los elementos del array.\n",
        "\n",
        "np.max(array)"
      ]
    },
    {
      "cell_type": "code",
      "execution_count": 27,
      "id": "d26acc16-73da-4f37-8e00-1c296258de73",
      "metadata": {
        "tags": [],
        "colab": {
          "base_uri": "https://localhost:8080/"
        },
        "id": "d26acc16-73da-4f37-8e00-1c296258de73",
        "outputId": "bce92e2c-00a2-4d8c-b949-f9a09d5d45bf"
      },
      "outputs": [
        {
          "output_type": "execute_result",
          "data": {
            "text/plain": [
              "3.009245014211298"
            ]
          },
          "metadata": {},
          "execution_count": 27
        }
      ],
      "source": [
        "# np.std() retorna la desviación estandar de todos los elementos del array.\n",
        "\n",
        "np.std(array)"
      ]
    },
    {
      "cell_type": "code",
      "execution_count": 28,
      "id": "09eed006-6e92-4540-b1c4-b7ccfae8227d",
      "metadata": {
        "tags": [],
        "colab": {
          "base_uri": "https://localhost:8080/"
        },
        "id": "09eed006-6e92-4540-b1c4-b7ccfae8227d",
        "outputId": "70a10c7b-0a7c-4948-fd55-0e041b0ec079"
      },
      "outputs": [
        {
          "output_type": "execute_result",
          "data": {
            "text/plain": [
              "True"
            ]
          },
          "metadata": {},
          "execution_count": 28
        }
      ],
      "source": [
        "# np.any() retorna True si al menos uno de los elementos del array es True. De lo contrario retorna False.\n",
        "\n",
        "np.any(array)"
      ]
    },
    {
      "cell_type": "code",
      "execution_count": 29,
      "id": "564bc629-e67c-4fe6-9456-c0d7f5618d42",
      "metadata": {
        "tags": [],
        "colab": {
          "base_uri": "https://localhost:8080/"
        },
        "id": "564bc629-e67c-4fe6-9456-c0d7f5618d42",
        "outputId": "8a0c7bb2-e882-47d7-e0cc-da3a7845d962"
      },
      "outputs": [
        {
          "output_type": "execute_result",
          "data": {
            "text/plain": [
              "True"
            ]
          },
          "metadata": {},
          "execution_count": 29
        }
      ],
      "source": [
        "# np.all() retorna True si todos todos los elementos del array son True. De lo contrario retorna False.\n",
        "\n",
        "np.all(array)"
      ]
    },
    {
      "cell_type": "markdown",
      "id": "c7e921f1-9938-452f-a0bb-a37756eaf3e7",
      "metadata": {
        "id": "c7e921f1-9938-452f-a0bb-a37756eaf3e7"
      },
      "source": [
        "### Funciones de ordenamiento\n",
        "\n",
        "|Función         |Descripción                                                                                                     |\n",
        "|----------------|----------------------------------------------------------------------------------------------------------------|\n",
        "|**np.sort()**   |Retorna un array ordenado de menor a mayor.                                                                     |\n",
        "|**np.argsort()**|Retorna los indices de los elementos de un array, representan el array ordenado de menor a mayor.               |\n",
        "|**np.argmin()** |Retorna el índice del elemento menor de un array. Si ese elemento se repite entonces retorna el de menor índice.|\n",
        "|**np.argmax()** |Retorna el índice del elemento mayor de un array. Si ese elemento se repite entonces retorna el de menor índice.|"
      ]
    },
    {
      "cell_type": "code",
      "execution_count": 30,
      "id": "5d39a49b-86d8-413e-a018-2158239b20da",
      "metadata": {
        "tags": [],
        "colab": {
          "base_uri": "https://localhost:8080/"
        },
        "id": "5d39a49b-86d8-413e-a018-2158239b20da",
        "outputId": "78cc045a-f809-4c5f-a030-8920b7a2f3f2"
      },
      "outputs": [
        {
          "output_type": "execute_result",
          "data": {
            "text/plain": [
              "array([ 1,  1,  2,  3,  4,  5,  6,  7,  8,  8,  9, 10])"
            ]
          },
          "metadata": {},
          "execution_count": 30
        }
      ],
      "source": [
        "# np.sort() retorna un array ordenado de menor a mayor.\n",
        "\n",
        "np.sort(array)"
      ]
    },
    {
      "cell_type": "code",
      "execution_count": 31,
      "id": "0ae96b8f-b78b-4631-9475-a81d4628972a",
      "metadata": {
        "tags": [],
        "colab": {
          "base_uri": "https://localhost:8080/"
        },
        "id": "0ae96b8f-b78b-4631-9475-a81d4628972a",
        "outputId": "eb8c17ce-2716-46e9-9248-209ecad549ce"
      },
      "outputs": [
        {
          "output_type": "execute_result",
          "data": {
            "text/plain": [
              "array([[0, 0, 0, 0, 1],\n",
              "       [0, 0, 0, 0, 2],\n",
              "       [0, 0, 1, 1, 1],\n",
              "       [0, 1, 1, 1, 2],\n",
              "       [1, 1, 2, 2, 2]])"
            ]
          },
          "metadata": {},
          "execution_count": 31
        }
      ],
      "source": [
        "# Ordena por fila\n",
        "\n",
        "np.sort(matriz, axis = 1)"
      ]
    },
    {
      "cell_type": "code",
      "execution_count": 32,
      "id": "9ac39236-ebe7-498b-862f-21d689fc8460",
      "metadata": {
        "tags": [],
        "colab": {
          "base_uri": "https://localhost:8080/"
        },
        "id": "9ac39236-ebe7-498b-862f-21d689fc8460",
        "outputId": "5c20a8eb-e8b1-41c1-b9bb-b580625eed78"
      },
      "outputs": [
        {
          "output_type": "execute_result",
          "data": {
            "text/plain": [
              "array([[0, 0, 0, 0, 0],\n",
              "       [1, 0, 0, 0, 0],\n",
              "       [1, 1, 1, 0, 0],\n",
              "       [1, 1, 1, 1, 1],\n",
              "       [2, 2, 2, 2, 2]])"
            ]
          },
          "metadata": {},
          "execution_count": 32
        }
      ],
      "source": [
        "# Ordena por columa\n",
        "\n",
        "np.sort(matriz, axis = 0)"
      ]
    },
    {
      "cell_type": "code",
      "execution_count": 33,
      "id": "ac694a97-00da-45af-9ce1-b843708e39ba",
      "metadata": {
        "tags": [],
        "colab": {
          "base_uri": "https://localhost:8080/"
        },
        "id": "ac694a97-00da-45af-9ce1-b843708e39ba",
        "outputId": "2363773d-02b5-4579-dfad-4e45de617a23"
      },
      "outputs": [
        {
          "output_type": "execute_result",
          "data": {
            "text/plain": [
              "0"
            ]
          },
          "metadata": {},
          "execution_count": 33
        }
      ],
      "source": [
        "# np.argmin() retorna el índice del elemento menor de un array. Si ese elemento se repite entonces retorna el de menor índice.\n",
        "\n",
        "# En este ejemplo retorna 0, porque el índice del elemento más pequeño es 0\n",
        "\n",
        "np.argmin(array)"
      ]
    },
    {
      "cell_type": "code",
      "execution_count": 34,
      "id": "a270d2ac-07f3-4755-a729-3b0781e4a504",
      "metadata": {
        "tags": [],
        "colab": {
          "base_uri": "https://localhost:8080/"
        },
        "id": "a270d2ac-07f3-4755-a729-3b0781e4a504",
        "outputId": "7c356a00-5299-4e26-c21e-9302152da5e7"
      },
      "outputs": [
        {
          "output_type": "execute_result",
          "data": {
            "text/plain": [
              "11"
            ]
          },
          "metadata": {},
          "execution_count": 34
        }
      ],
      "source": [
        "# np.argmax() retorna el índice del elemento mayor de un array. Si ese elemento se repite entonces retorna el de menor índice.\n",
        "\n",
        "# En este ejemplo retorna 11, porque el índice del elemento más grande es 11\n",
        "\n",
        "np.argmax(array)"
      ]
    },
    {
      "cell_type": "markdown",
      "id": "414ee84e-f407-4c92-a3f7-d4ac9b8626d8",
      "metadata": {
        "id": "414ee84e-f407-4c92-a3f7-d4ac9b8626d8"
      },
      "source": [
        "### Manipulación de arrays\n",
        "\n",
        "Estas **funciones/métodos** se utilizan para modificar, transformar o combinar arrays.\n",
        "\n",
        "|Función             |Descripción                                                                |\n",
        "|--------------------|---------------------------------------------------------------------------|\n",
        "|**np.reshape()**    |Modifica la _forma_ de un array (también es un método).                    |\n",
        "|**np.ravel()**      |_Aplana_ un array de 2 o más dimensiones a 1 dimensión.                    |\n",
        "|**.flatten()**      |(**Método**) _Aplana_ un array de 2 o más dimensiones a 1 dimensión.       |\n",
        "|**np.vstack()**     |Une **verticalmente** una colección de arrays del mismo número de columnas.|\n",
        "|**np.hstack()**     |Une **horizontalmente** una colección de arrays del mismo número de filas. |\n",
        "|**np.concatenate()**|Es una generalización de las funciones **np.vstack()** y **np.hstack()**.  |\n",
        "|**np.transpose()**  |Retorna la transpuesta de una matriz. Es una función.                      |\n",
        "|**.tolist()**       |(**Método**) Transforma un array a lista.                                  |\n",
        "|**np.where()**      |Retorna los elementos filtrados de un array.                               |"
      ]
    },
    {
      "cell_type": "code",
      "execution_count": null,
      "id": "9f61334b-5bae-4368-9d31-ce9ee0842b33",
      "metadata": {
        "tags": [],
        "id": "9f61334b-5bae-4368-9d31-ce9ee0842b33"
      },
      "outputs": [],
      "source": [
        "# np.reshape() modifica la forma de un array\n",
        "\n",
        "np.reshape(array, newshape = (3, 4))\n",
        "\n",
        "# En este ejemplo estamos usando la variable \"array\" que tiene en total 12 elementos\n",
        "# Para usar reshape la nueva forma del array debe de utilizar todos los elementos, no pueden ser más ni menos\n",
        "# Por eso (3, 4) es una forma valida, ya que 3*4=12\n",
        "\n",
        "# Esta es una forma fácil de transformar un array de una dimensión a un array de 2 o más dimensiones"
      ]
    },
    {
      "cell_type": "code",
      "execution_count": null,
      "id": "fbdd1bbf-be38-4e3a-8e5b-0c2277936248",
      "metadata": {
        "tags": [],
        "id": "fbdd1bbf-be38-4e3a-8e5b-0c2277936248"
      },
      "outputs": [],
      "source": [
        "# Se puede lograr lo mismo usandolo como método\n",
        "\n",
        "array.reshape(3, 4)"
      ]
    },
    {
      "cell_type": "code",
      "execution_count": null,
      "id": "d28e746b-c196-4026-839e-b0ea8868033a",
      "metadata": {
        "tags": [],
        "id": "d28e746b-c196-4026-839e-b0ea8868033a"
      },
      "outputs": [],
      "source": [
        "# np.ravel() aplana un array de 2 o más dimensiones a 1 dimensión. Es una función\n",
        "\n",
        "np.ravel(matriz)"
      ]
    },
    {
      "cell_type": "code",
      "execution_count": null,
      "id": "d885a7e4-c64e-4c61-b22b-bc2eaee70a4e",
      "metadata": {
        "tags": [],
        "id": "d885a7e4-c64e-4c61-b22b-bc2eaee70a4e"
      },
      "outputs": [],
      "source": [
        "# .flatten() Aplana un array de 2 o más dimensiones a 1 dimensión. Es un método\n",
        "\n",
        "matriz.flatten()"
      ]
    },
    {
      "cell_type": "code",
      "execution_count": null,
      "id": "47b83ee0-7864-4a31-a9a5-feb0c2b38a13",
      "metadata": {
        "id": "47b83ee0-7864-4a31-a9a5-feb0c2b38a13"
      },
      "outputs": [],
      "source": [
        "# np.vstack() une verticalmente una colección de arrays del mismo número de columnas.\n",
        "\n",
        "np.vstack((matriz, matriz))"
      ]
    },
    {
      "cell_type": "code",
      "execution_count": null,
      "id": "22ab2e0e-8e25-4d1e-9ef6-dbb651a1e916",
      "metadata": {
        "tags": [],
        "id": "22ab2e0e-8e25-4d1e-9ef6-dbb651a1e916"
      },
      "outputs": [],
      "source": [
        "# np.hstack() une horizontalmente una colección de arrays del mismo número de filas.\n",
        "\n",
        "np.hstack((matriz, matriz))"
      ]
    },
    {
      "cell_type": "code",
      "execution_count": null,
      "id": "dfb7ec09-06e5-4b10-9cc6-f42379a732f7",
      "metadata": {
        "tags": [],
        "id": "dfb7ec09-06e5-4b10-9cc6-f42379a732f7"
      },
      "outputs": [],
      "source": [
        "# np.concatenate() es una generalización de las funciones np.vstack() y np.hstack().\n",
        "# Para indicar en que sentido se hara la concatenación es através del parámetro \"axis = 0/1\"\n",
        "\n",
        "np.concatenate((matriz, matriz), axis = 0)\n",
        "\n",
        "# np.concatenate((matriz, matriz), axis = 1)"
      ]
    },
    {
      "cell_type": "code",
      "execution_count": null,
      "id": "5f5144ae-2e1d-4c3b-8ba2-841fd359b76a",
      "metadata": {
        "tags": [],
        "id": "5f5144ae-2e1d-4c3b-8ba2-841fd359b76a"
      },
      "outputs": [],
      "source": [
        "# np.transpose() retorna la transpuesta de una matriz. Es una función.\n",
        "\n",
        "np.transpose(matriz)"
      ]
    },
    {
      "cell_type": "code",
      "execution_count": null,
      "id": "b55816f7-058f-4f1a-aaca-83c9e26d0af3",
      "metadata": {
        "tags": [],
        "id": "b55816f7-058f-4f1a-aaca-83c9e26d0af3"
      },
      "outputs": [],
      "source": [
        "# .tolist() transforma un array a lista. Es un método.\n",
        "\n",
        "matriz.tolist()"
      ]
    },
    {
      "cell_type": "code",
      "execution_count": null,
      "id": "f064ed8b-30f1-4f37-8657-ad658be263a2",
      "metadata": {
        "tags": [],
        "id": "f064ed8b-30f1-4f37-8657-ad658be263a2"
      },
      "outputs": [],
      "source": [
        "# np.where() retorna los elementos filtrados de un array.\n",
        "# En este ejemplo va a retornar los elementos mayor a 7.\n",
        "\n",
        "np.where(array > 7)"
      ]
    },
    {
      "cell_type": "code",
      "execution_count": null,
      "id": "6f230006-0949-44a7-ba6a-ca8543a70749",
      "metadata": {
        "tags": [],
        "id": "6f230006-0949-44a7-ba6a-ca8543a70749"
      },
      "outputs": [],
      "source": [
        "matriz"
      ]
    },
    {
      "cell_type": "code",
      "execution_count": null,
      "id": "05909478-9ff5-4019-bfca-7ebeac1b01dd",
      "metadata": {
        "tags": [],
        "id": "05909478-9ff5-4019-bfca-7ebeac1b01dd"
      },
      "outputs": [],
      "source": [
        "# En el caso de ser una matriz, retornará 2 arrays\n",
        "# El primero indica la posición en las filas y el segundo la posición en las columnas\n",
        "\n",
        "np.where(matriz > 1)"
      ]
    },
    {
      "cell_type": "markdown",
      "id": "fd3b3064",
      "metadata": {
        "id": "fd3b3064"
      },
      "source": [
        "### Creación de arrays\n",
        "\n",
        "Existen varias funciones para inicializar matrices o arrays:\n",
        "\n",
        "| Función                | Descripción                                                                       |\n",
        "|------------------------|-----------------------------------------------------------------------------------|\n",
        "|**np.empty((n, m))**    | Inicializa una matriz $nxm$ vacia.                                                |\n",
        "|**np.zeros((n, m))**    | Inicializa una matriz $nxm$ de ceros.                                             |\n",
        "|**np.ones((n, m))**     | Inicializa una matriz $nxm$ de unos.                                              |\n",
        "|**np.eye(n)**           | Inicializa la matriz identidad de orden $n$.                                      |\n",
        "|**np.identity(n)**      | Inicializa la matriz identidad de orden $n$.                                      |\n",
        "|**np.full(shape, elem)**| Inicializa una matriz con la forma de **shape** usando los elementos de **elem**. |\n",
        "|**np.linspace(a, b, p)**| Inicializa un array de **p** elementos entre **a** y **b**, todos **x-distantes**.|"
      ]
    },
    {
      "cell_type": "code",
      "execution_count": null,
      "id": "2aac080b",
      "metadata": {
        "id": "2aac080b"
      },
      "outputs": [],
      "source": [
        "# Aunque muestre numeros dentro de la matriz, np.empty() la inicializa vacia\n",
        "# Estos números que se ven estan en memoria y numpy los usa para mostrar la matriz\n",
        "\n",
        "empty = np.empty(shape = (5, 5), dtype = \"int\")\n",
        "\n",
        "print(empty)"
      ]
    },
    {
      "cell_type": "code",
      "execution_count": null,
      "id": "7efe5c70",
      "metadata": {
        "id": "7efe5c70"
      },
      "outputs": [],
      "source": [
        "# Inicializa una matriz de 1's.\n",
        "\n",
        "ones = np.ones(shape = (5, 5), dtype = \"int8\")\n",
        "\n",
        "print(ones)"
      ]
    },
    {
      "cell_type": "code",
      "execution_count": null,
      "id": "3afe6662",
      "metadata": {
        "id": "3afe6662"
      },
      "outputs": [],
      "source": [
        "# Inicializa una matriz de 0's.\n",
        "\n",
        "zeros = np.zeros(shape = (5, 5), dtype = \"int8\")\n",
        "\n",
        "print(zeros)"
      ]
    },
    {
      "cell_type": "code",
      "execution_count": null,
      "id": "b0faa89f",
      "metadata": {
        "id": "b0faa89f"
      },
      "outputs": [],
      "source": [
        "# Matriz identidad\n",
        "\n",
        "np.eye(5)"
      ]
    },
    {
      "cell_type": "code",
      "execution_count": null,
      "id": "d1ccc458",
      "metadata": {
        "id": "d1ccc458"
      },
      "outputs": [],
      "source": [
        "# np.full() crea una lista con forma \"shape\" y la llena con un iterable.\n",
        "\n",
        "full = np.full(shape = (5, 5), fill_value = range(5))\n",
        "\n",
        "print(full)"
      ]
    },
    {
      "cell_type": "code",
      "execution_count": null,
      "id": "5ff662d1",
      "metadata": {
        "id": "5ff662d1"
      },
      "outputs": [],
      "source": [
        "# np.linspace(a, b, p) crea un array de \"p\" elementos entre \"a\" y \"b\", todos x-distantes\n",
        "\n",
        "linspace = np.linspace(start = 1, stop = 12, num = 16)\n",
        "\n",
        "print(linspace)"
      ]
    },
    {
      "cell_type": "markdown",
      "id": "ae907e98",
      "metadata": {
        "id": "ae907e98"
      },
      "source": [
        "### Números aleatorios en NumPy\n",
        "\n",
        "|Función                             |Descripción                                                                                                                                                  |\n",
        "|------------------------------------|-------------------------------------------------------------------------------------------------------------------------------------------------------------|\n",
        "|**np.random.random(n)**           | Genera un número aleatorio entre 0 y 1, si damos el parametro **n** genera una lista de **n** elementos aleatorios entre 0 y 1, solo genera vectores.|\n",
        "|**np.random.randn(shape)**        | Genera un array de forma **shape** con números aleatorios. Estos números siguen una distribución normal.                                                      |\n",
        "|**no.random.randint(a, b, size)** | Genera un array de tamaño **size** con numeros enteros aleatorios entre **a** y **b**.                                                                        |\n",
        "|**np.random.choice(obj, size, p)**| Genera un array de tamaño **size** con los elementos de **obj**, se le pueden dar pesos a los elementos usando **p**, retorna elementos repetidos.            |\n",
        "|**np.random.seed(n)**             | Genera una semilla.                                                                                                                                            |\n",
        "|**np.random.RandomState(n)**      | Genera una semilla.                                                                                                                                            |"
      ]
    },
    {
      "cell_type": "code",
      "execution_count": null,
      "id": "c8ed8fa8",
      "metadata": {
        "id": "c8ed8fa8"
      },
      "outputs": [],
      "source": [
        "# np.random.random() retorna un número entre 0 y 1\n",
        "# Se puede utilizar para crear arrays de 1, 2 o n-dimensiones\n",
        "\n",
        "print(np.random.random())\n",
        "\n",
        "print(\"-\"*30)\n",
        "\n",
        "print(np.random.random(size = 5))\n",
        "\n",
        "print(\"-\"*30)\n",
        "\n",
        "print(np.random.random(size = (5, 5)))"
      ]
    },
    {
      "cell_type": "code",
      "execution_count": null,
      "id": "250d0d26",
      "metadata": {
        "id": "250d0d26"
      },
      "outputs": [],
      "source": [
        "# np.random.randn() retorna un número aleatorio de una distribución normal\n",
        "# La distribución tiene mean = 0 y std = 1\n",
        "\n",
        "print(np.random.randn())\n",
        "\n",
        "print(\"-\"*30)\n",
        "\n",
        "print(np.random.randn(2, 3))"
      ]
    },
    {
      "cell_type": "code",
      "execution_count": null,
      "id": "deb7b024",
      "metadata": {
        "id": "deb7b024"
      },
      "outputs": [],
      "source": [
        "# np.random.randint() retorna números enteros\n",
        "# No incluye el límite superior\n",
        "\n",
        "print(np.random.randint(0, 10))\n",
        "\n",
        "print(\"-\"*30)\n",
        "\n",
        "print(np.random.randint(1, 10, size = (5, 5)))"
      ]
    },
    {
      "cell_type": "code",
      "execution_count": null,
      "id": "8f34224a",
      "metadata": {
        "id": "8f34224a"
      },
      "outputs": [],
      "source": [
        "# np.random.choice() retorna un array de elementos aleatorios\n",
        "# Se puede dar pesos a las probabilidades\n",
        "\n",
        "print(np.random.choice(a    = [\"a\", \"e\", \"i\", \"o\", \"u\"],\n",
        "                       size = 10,\n",
        "                       p    = [0.6, 0.1, 0.1, 0.1, 0.1]))"
      ]
    },
    {
      "cell_type": "code",
      "execution_count": null,
      "id": "fcaa9040",
      "metadata": {
        "id": "fcaa9040"
      },
      "outputs": [],
      "source": [
        "# np.seed() indica la aleatoriedad que usará NumPy\n",
        "\n",
        "# En este ejemplo np.seed() afecta a todos los np.random.randn()\n",
        "\n",
        "for i in range(5):\n",
        "\n",
        "    np.random.seed(0)\n",
        "\n",
        "    print(np.random.randn())"
      ]
    },
    {
      "cell_type": "code",
      "execution_count": null,
      "id": "58d548ef-7f8e-4ec8-92e4-38c069be6a00",
      "metadata": {
        "tags": [],
        "id": "58d548ef-7f8e-4ec8-92e4-38c069be6a00"
      },
      "outputs": [],
      "source": [
        "# En este ejemplo np.seed() solo se aplica al primer np.random.randn()\n",
        "\n",
        "np.random.seed(0)\n",
        "\n",
        "for i in range(5):\n",
        "\n",
        "    print(np.random.randn())"
      ]
    },
    {
      "cell_type": "code",
      "execution_count": null,
      "id": "fb4f05fb-6f0f-4509-a09d-7f89744c967f",
      "metadata": {
        "tags": [],
        "id": "fb4f05fb-6f0f-4509-a09d-7f89744c967f"
      },
      "outputs": [],
      "source": [
        "# np.random.RandomState() genera una semilla al igual que np.seed()\n",
        "# Se diferencia porque puede ser usado para generar número aleatorios sin modificar la aleatoriedad del resto de funciones\n",
        "\n",
        "for i in range(4):\n",
        "\n",
        "    rs = np.random.RandomState(2)\n",
        "\n",
        "    print(rs.rand())\n",
        "    print(rs.randint(0, 10))\n",
        "\n",
        "    print(np.random.randn()) # No usa np.random.RandomState()\n",
        "\n",
        "    print(\"-\"*30)"
      ]
    },
    {
      "cell_type": "code",
      "execution_count": null,
      "id": "d6263c75",
      "metadata": {
        "id": "d6263c75"
      },
      "outputs": [],
      "source": [
        "################################################################################################################################"
      ]
    }
  ],
  "metadata": {
    "kernelspec": {
      "display_name": "Python 3 (ipykernel)",
      "language": "python",
      "name": "python3"
    },
    "language_info": {
      "codemirror_mode": {
        "name": "ipython",
        "version": 3
      },
      "file_extension": ".py",
      "mimetype": "text/x-python",
      "name": "python",
      "nbconvert_exporter": "python",
      "pygments_lexer": "ipython3",
      "version": "3.10.12"
    },
    "colab": {
      "provenance": [],
      "include_colab_link": true
    }
  },
  "nbformat": 4,
  "nbformat_minor": 5
}