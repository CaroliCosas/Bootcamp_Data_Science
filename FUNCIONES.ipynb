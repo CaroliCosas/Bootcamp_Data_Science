{
 "cells": [
  {
   "cell_type": "code",
   "execution_count": null,
   "metadata": {},
   "outputs": [],
   "source": []
  },
  {
   "cell_type": "code",
   "execution_count": null,
   "metadata": {},
   "outputs": [],
   "source": [
    "import numpy as np\n",
    "import matplotlib.pyplot as plt\n",
    "import seaborn as sns\n",
    "from scipy import stats\n",
    "from collections import Counter"
   ]
  },
  {
   "cell_type": "code",
   "execution_count": null,
   "metadata": {},
   "outputs": [],
   "source": [
    "# Cargar datos\n",
    "def cargar_datos(filepath):\n",
    "    data = np.genfromtxt(filepath, delimiter=\",\", dtype=None, encoding=\"utf-8\", skip_header=1)\n",
    "    price = data[:, 0].astype(float)\n",
    "    baths = data[:, 1].astype(float)\n",
    "    rooms = data[:, 2].astype(float)\n",
    "    m2 = data[:, 3].astype(float)\n",
    "    addresses = np.array([addr.replace(\", Madrid\", \"\") for addr in data[:, 4]])\n",
    "    return price, baths, rooms, m2, addresses"
   ]
  },
  {
   "cell_type": "code",
   "execution_count": null,
   "metadata": {},
   "outputs": [],
   "source": [
    "# Cargar datos\n",
    "def cargar_datos(filepath):\n",
    "    price = np.genfromtxt(filepath, usecols=(0),delimiter=\",\", dtype=None, encoding=\"utf-8\", skip_header=1)\n",
    "    baths = np.genfromtxt(filepath, usecols=(1),delimiter=\",\", dtype=None, encoding=\"utf-8\", skip_header=1)\n",
    "    rooms = np.genfromtxt(filepath, usecols=(2),delimiter=\",\", dtype=None, encoding=\"utf-8\", skip_header=1)\n",
    "    m2 = np.genfromtxt(filepath, usecols=(3), delimiter=\",\", dtype=None, encoding=\"utf-8\", skip_header=1)\n",
    "    addresses = np.genfromtxt(filepath, usecols=(4), delimiter=\",\", dtype=None, encoding=\"utf-8\", skip_header=1)\n",
    "\n",
    "    return price, baths, rooms, m2, addresses\n"
   ]
  },
  {
   "cell_type": "code",
   "execution_count": null,
   "metadata": {},
   "outputs": [],
   "source": [
    "# Estadística básica\n",
    "def estadistica_basica(price):\n",
    "    mean_price = round(np.mean(price), 4)\n",
    "    median_price = round(np.median(price), 4)\n",
    "    max_price = np.max(price)\n",
    "    min_price = np.min(price)\n",
    "    print(\"Estadística básica sobre precios:\")\n",
    "    print(f\"Media: {mean_price} €, Mediana: {median_price} €, Máximo: {max_price} €, Mínimo: {min_price} €\")"
   ]
  },
  {
   "cell_type": "code",
   "execution_count": null,
   "metadata": {},
   "outputs": [],
   "source": [
    "# Histograma y curva de densidad\n",
    "def histograma_curva_densidad(price):\n",
    "    print(\"Histograma y Curva de Densidad de Precios\")\n",
    "    plt.figure(figsize=(10, 6))\n",
    "    sns.histplot(price, kde=True, bins=30, color=\"blue\", alpha=0.6)\n",
    "    plt.title(\"Histograma y Curva de Densidad de Precios\")\n",
    "    plt.xlabel(\"Precio (€)\")\n",
    "    plt.ylabel(\"Frecuencia del precio\")\n",
    "    plt.grid()\n",
    "    plt.show()"
   ]
  },
  {
   "cell_type": "code",
   "execution_count": null,
   "metadata": {},
   "outputs": [],
   "source": [
    "# Cuartiles e IQR\n",
    "def cuartiles_iqr(price):\n",
    "    q1 = np.percentile(price, 25)\n",
    "    q2 = np.percentile(price, 50)\n",
    "    q3 = np.percentile(price, 75)\n",
    "    iqr = q3 - q1\n",
    "    print(\"Cuartiles e IQR:\")\n",
    "    print(f\"Q1: {q1}, Q2 (mediana): {q2}, Q3: {q3}\")\n",
    "    print(f\"IQR: {iqr}\")\n",
    "    return q1, q3, iqr"
   ]
  },
  {
   "cell_type": "code",
   "execution_count": null,
   "metadata": {},
   "outputs": [],
   "source": [
    "# Filtrar por porcentaje\n",
    "def filtrar_por_porcentaje(price):\n",
    "    price_sorted = np.sort(price)\n",
    "    # Calcular los percentiles\n",
    "    bottom_20_percent = np.percentile(price_sorted, 20)\n",
    "    top_20_percent = np.percentile(price_sorted, 80)\n",
    "    \n",
    "    # Filtrar precios según los percentiles\n",
    "    bottom_prices = price[price <= bottom_20_percent]\n",
    "    top_prices = price[price >= top_20_percent]\n",
    "\n",
    "    # Imprimir resultados\n",
    "    print(\"Filtrar por porcentaje:\")\n",
    "    print(f\"Percentil 20: {bottom_20_percent:.2f}\")\n",
    "    print(f\"Percentil 80: {top_20_percent:.2f}\")\n",
    "    print(f\"Cantidad en el 20% más barato: {len(bottom_prices)}\")\n",
    "    print(f\"Cantidad en el 20% más caro: {len(top_prices)}\")\n",
    "   \n",
    "    return top_prices, bottom_prices, top_20_percent, bottom_20_percent\n"
   ]
  },
  {
   "cell_type": "code",
   "execution_count": null,
   "metadata": {},
   "outputs": [],
   "source": [
    "def filtrar_barrios_baratos(price, addresses):\n",
    "    # Crear un diccionario para agrupar precios por barrio\n",
    "    barrios = {}\n",
    "    for precio, barrio in zip(price, addresses):\n",
    "        if barrio not in barrios:\n",
    "            barrios[barrio] = []\n",
    "        barrios[barrio].append(precio)\n",
    "\n",
    "    # Calcular el percentil 20 para cada barrio\n",
    "    barrios_baratos = {}\n",
    "    for barrio, precios in barrios.items():\n",
    "        percentil_20 = np.percentile(precios, 20)\n",
    "        precios_baratos = [p for p in precios if p <= percentil_20]\n",
    "        barrios_baratos[barrio] = {\n",
    "            \"percentil_20\": percentil_20,\n",
    "            \"precios_baratos\": precios_baratos,\n",
    "            \"num_casas_baratas\": len(precios_baratos)\n",
    "        }\n",
    "\n",
    "    # Mostrar resultados\n",
    "    print(f\"Número total de barrios analizados: {len(barrios_baratos)}\")\n",
    "    print(\"Barrios con precios en el 20% más baratos:\")\n",
    "    for barrio, info in barrios_baratos.items():\n",
    "        print(f\"- {barrio}:\")\n",
    "        print(f\"  Percentil 20: {info['percentil_20']:.2f}\")\n",
    "        print(f\"  Número de casas baratas: {info['num_casas_baratas']}\")\n",
    "        print(f\"  Precios más baratos: {info['precios_baratos']}\")\n",
    "\n",
    "    return barrios_baratos\n",
    "\n",
    "\n",
    "\n"
   ]
  },
  {
   "cell_type": "markdown",
   "metadata": {},
   "source": [
    "#def visualizar_barrios(barrios_baratos):\n",
    "    # Extraer datos para la visualización\n",
    "    #barrios = list(barrios_baratos.keys())\n",
    "    #num_casas_baratas = [info[\"num_casas_baratas\"] for info in barrios_baratos.values()]\n",
    "    \n",
    "    # Crear un gráfico de barras\n",
    "    #plt.figure(figsize=(10, 6))\n",
    "    #plt.bar(barrios, num_casas_baratas, color='skyblue', edgecolor='black')\n",
    "    #plt.title(\"Número de casas baratas por barrio (20% más barato)\")\n",
    "    #plt.xlabel(\"Barrios\")\n",
    "    #plt.ylabel(\"Número de casas baratas\")\n",
    "    #plt.xticks(rotation=45, ha=\"right\")\n",
    "    #plt.grid(axis='y', linestyle='--', alpha=0.7)\n",
    "    #plt.tight_layout()\n",
    "    #plt.show()\n",
    "\n",
    "# Visualizar resultados\n",
    "#visualizar_barrios(barrios_baratos)"
   ]
  },
  {
   "cell_type": "code",
   "execution_count": null,
   "metadata": {},
   "outputs": [],
   "source": [
    "# Moda\n",
    "def moda(addresses):\n",
    "    address_mode = Counter(addresses).most_common(1)\n",
    "    print(f\"Moda de las direcciones: {address_mode}\")"
   ]
  },
  {
   "cell_type": "code",
   "execution_count": null,
   "metadata": {},
   "outputs": [],
   "source": [
    "# Varianza y desviación estándar\n",
    "def varianza_desviacion(price):\n",
    "    variance = np.var(price)\n",
    "    std_dev = np.std(price)\n",
    "    print(f\"Varianza: {variance}, Desviación estándar: {std_dev}\")\n",
    "    return variance, std_dev"
   ]
  },
  {
   "cell_type": "code",
   "execution_count": null,
   "metadata": {},
   "outputs": [],
   "source": [
    "# Detectar outliers con Tukey\n",
    "def filtro_outliers_tukey(price, q1, q3, iqr):\n",
    "    upper_limit = q3 + 1.5 * iqr\n",
    "    lower_limit = q1 - 1.5 * iqr\n",
    "    outliers = price[(price > upper_limit) | (price < lower_limit)]\n",
    "    print(f\"Outliers detectados con Tukey: {len(outliers)}\")\n",
    "    return upper_limit, lower_limit, outliers"
   ]
  },
  {
   "cell_type": "code",
   "execution_count": null,
   "metadata": {},
   "outputs": [],
   "source": [
    "# Graficar outliers\n",
    "def graficar_outliers(price, upper_limit, lower_limit):\n",
    "    print(\"Graficar Outliers\")\n",
    "    plt.figure(figsize=(10, 6))\n",
    "    sns.histplot(price, bins=30, color=\"blue\", alpha=0.6, kde=True)\n",
    "    plt.axvline(upper_limit, color='red', linestyle='dashed', linewidth=1, label=\"Límite Superior\")\n",
    "    plt.axvline(lower_limit, color='blue', linestyle='dashed', linewidth=1, label=\"Límite Inferior\")\n",
    "    plt.legend()\n",
    "    plt.title(\"Outliers con límites marcados\")\n",
    "    plt.grid()\n",
    "    plt.show()"
   ]
  },
  {
   "cell_type": "code",
   "execution_count": null,
   "metadata": {},
   "outputs": [],
   "source": [
    "# Matriz de correlación\n",
    "def matriz_correlacion(price, bedrooms, bathrooms, m2):\n",
    "    data_matrix = np.corrcoef([price, bedrooms, bathrooms, m2])\n",
    "    sns.heatmap(data_matrix, annot=True, xticklabels=[\"price\", \"bedrooms\", \"bathrooms\", \"m2\"], yticklabels=[\"price\", \"bedrooms\", \"bathrooms\", \"m2\"])\n",
    "    print(\"Matriz de correlación\")\n",
    "    plt.title(\"Matriz de Correlación\")\n",
    "    plt.show()"
   ]
  },
  {
   "cell_type": "code",
   "execution_count": null,
   "metadata": {},
   "outputs": [],
   "source": [
    "# Estandarizar\n",
    "def estandarizar(price):\n",
    "    print(\"Estandarización de precios\")\n",
    "    mean_price = np.mean(price)\n",
    "    std_dev_price = np.std(price)\n",
    "    price_std = (price - mean_price) / std_dev_price\n",
    "    return price_std"
   ]
  },
  {
   "cell_type": "code",
   "execution_count": null,
   "metadata": {},
   "outputs": [],
   "source": [
    "# Asimetría y curtosis\n",
    "def asimetria_curtosis(price):\n",
    "    print(\"Asimetría y curtosis\")\n",
    "    skewness = stats.skew(price)\n",
    "    kurtosis = stats.kurtosis(price)\n",
    "    print(f\"Asimetría: {skewness}, Curtosis: {kurtosis}\")"
   ]
  },
  {
   "cell_type": "code",
   "execution_count": null,
   "metadata": {},
   "outputs": [],
   "source": []
  },
  {
   "cell_type": "code",
   "execution_count": null,
   "metadata": {},
   "outputs": [],
   "source": [
    "# Transformar distribuciones\n",
    "def transformar_distribuciones(price):\n",
    "    print(\"Transformar distribuciones\")\n",
    "    price_log = np.log(price[price > 0])\n",
    "    plt.figure(figsize=(10, 6))\n",
    "    sns.histplot(price_log, kde=True, bins=30, color=\"green\", alpha=0.6)\n",
    "    plt.title(\"Transformación Logarítmica de Precios\")\n",
    "    plt.xlabel(\"Log(Precio)\")\n",
    "    plt.ylabel(\"Frecuencia\")\n",
    "    plt.grid()\n",
    "    plt.show()"
   ]
  },
  {
   "cell_type": "code",
   "execution_count": null,
   "metadata": {},
   "outputs": [],
   "source": [
    "# Contraste de hipótesis\n",
    "def contraste_hipotesis_barrio(price, addresses, barrio_x, barrio_y):\n",
    "    print(\"Contraste de hipótesis\")\n",
    "    barrio_x_prices = price[addresses == barrio_x]\n",
    "    barrio_y_prices = price[addresses == barrio_y]\n",
    "    t_stat, p_value = stats.ttest_ind(barrio_x_prices, barrio_y_prices, equal_var=False)\n",
    "    print(f\"T-stat: {t_stat}, P-value: {p_value}\")\n",
    "\n",
    "def contraste_hipotesis_baños(price, bathrooms):\n",
    "    three_bathrooms = price[bathrooms >= 3]\n",
    "    one_two_bathrooms = price[(bathrooms == 1) | (bathrooms == 2)]\n",
    "    t_stat, p_value = stats.ttest_ind(three_bathrooms, one_two_bathrooms, equal_var=False)\n",
    "    print(f\"T-stat: {t_stat}, P-value: {p_value}\")"
   ]
  },
  {
   "cell_type": "code",
   "execution_count": null,
   "metadata": {},
   "outputs": [],
   "source": [
    "# Carga del archivo y ejecución de análisis\n",
    "filepath = \"../Data/idealista_madrid.csv\" \n",
    "price, baths, rooms, m2, addresses = cargar_datos(filepath)\n",
    "# Verificar los datos cargados\n",
    "print(\"Primeros 10 Precios:\", price[:10])  # Primeros 10 precios\n",
    "print(\"Primeros 10 número de Baños:\", baths[:10])    # Primeros 10 valores de baños\n",
    "print(\"Primeros 10 número de Habitaciones:\", rooms[:10])  # Primeros 10 valores de habitaciones\n",
    "print(\"Primeros 10 Metros cuadrados:\", m2[:10])  # Primeros 10 valores de tamaño\n",
    "print(\"Primeros 10 Barrios:\", addresses[:10])  # Primeros 10 valores de direcciones\n",
    "print(\"------------------------------------------------\")\n",
    "\n",
    "estadistica_basica(price)\n",
    "print(\"------------------------------------------------\")\n",
    "\n",
    "histograma_curva_densidad(price)\n",
    "print(\"------------------------------------------------\")\n",
    "\n",
    "q1, q3, iqr = cuartiles_iqr(price)\n",
    "print(\"------------------------------------------------\")\n",
    "\n",
    "filtrar_por_porcentaje(price)\n",
    "print(\"------------------------------------------------\")\n",
    "\n",
    "filtrar_barrios_baratos(price, addresses)\n",
    "print(\"------------------------------------------------\")\n",
    "\n",
    "moda(addresses)\n",
    "print(\"------------------------------------------------\")\n",
    "\n",
    "variance, std_dev = varianza_desviacion(price)\n",
    "print(\"------------------------------------------------\")\n",
    "\n",
    "upper_limit, lower_limit, outliers = filtro_outliers_tukey(price, q1, q3, iqr)\n",
    "print(\"------------------------------------------------\")\n",
    "\n",
    "graficar_outliers(price, upper_limit, lower_limit)\n",
    "print(\"------------------------------------------------\")\n",
    "\n",
    "matriz_correlacion(price, baths, rooms, m2)\n",
    "print(\"------------------------------------------------\")\n",
    "\n",
    "price_std = estandarizar(price)\n",
    "print(\"------------------------------------------------\")\n",
    "\n",
    "asimetria_curtosis(price)\n",
    "print(\"------------------------------------------------\")\n",
    "\n",
    "transformar_distribuciones(price)\n",
    "print(\"------------------------------------------------\")\n",
    "\n",
    "print(\"plotbox\")\n",
    "plt.boxplot(price, showmeans=True)"
   ]
  }
 ],
 "metadata": {
  "language_info": {
   "name": "python"
  }
 },
 "nbformat": 4,
 "nbformat_minor": 2
}
