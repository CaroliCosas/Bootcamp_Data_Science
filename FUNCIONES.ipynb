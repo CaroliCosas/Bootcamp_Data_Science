{
 "cells": [
  {
   "cell_type": "code",
   "execution_count": null,
   "metadata": {},
   "outputs": [],
   "source": []
  },
  {
   "cell_type": "code",
   "execution_count": null,
   "metadata": {},
   "outputs": [],
   "source": [
    "import numpy as np\n",
    "import matplotlib.pyplot as plt\n",
    "import seaborn as sns\n",
    "from scipy import stats\n",
    "from collections import Counter"
   ]
  },
  {
   "cell_type": "code",
   "execution_count": null,
   "metadata": {},
   "outputs": [],
   "source": [
    "# Cargar datos\n",
    "def cargar_datos(filepath):\n",
    "    data = np.genfromtxt(filepath, delimiter=\",\", dtype=None, encoding=\"utf-8\", skip_header=1)\n",
    "    price = data[:, 0].astype(float)\n",
    "    bedrooms = data[:, 1].astype(float)\n",
    "    bathrooms = data[:, 2].astype(float)\n",
    "    m2 = data[:, 3].astype(float)\n",
    "    addresses = np.array([addr.replace(\", Madrid\", \"\") for addr in data[:, 4]])\n",
    "    return price, bedrooms, bathrooms, m2, addresses"
   ]
  },
  {
   "cell_type": "code",
   "execution_count": null,
   "metadata": {},
   "outputs": [],
   "source": [
    "# Estadística básica\n",
    "def estadistica_basica(price):\n",
    "    mean_price = np.mean(price)\n",
    "    median_price = np.median(price)\n",
    "    max_price = np.max(price)\n",
    "    min_price = np.min(price)\n",
    "    print(f\"Media: {mean_price}, Mediana: {median_price}, Máximo: {max_price}, Mínimo: {min_price}\")"
   ]
  },
  {
   "cell_type": "code",
   "execution_count": null,
   "metadata": {},
   "outputs": [],
   "source": [
    "# Histograma y curva de densidad\n",
    "def histograma_curva_densidad(price):\n",
    "    plt.figure(figsize=(10, 6))\n",
    "    sns.histplot(price, kde=True, bins=30, color=\"blue\", alpha=0.6)\n",
    "    plt.title(\"Histograma y Curva de Densidad de Precios\")\n",
    "    plt.xlabel(\"Precio (€)\")\n",
    "    plt.ylabel(\"Frecuencia\")\n",
    "    plt.grid()\n",
    "    plt.show()"
   ]
  },
  {
   "cell_type": "code",
   "execution_count": null,
   "metadata": {},
   "outputs": [],
   "source": [
    "# Cuartiles e IQR\n",
    "def cuartiles_iqr(price):\n",
    "    q1 = np.percentile(price, 25)\n",
    "    q2 = np.percentile(price, 50)\n",
    "    q3 = np.percentile(price, 75)\n",
    "    iqr = q3 - q1\n",
    "    print(f\"Q1: {q1}, Q2: {q2}, Q3: {q3}, IQR: {iqr}\")\n",
    "    return q1, q3, iqr"
   ]
  },
  {
   "cell_type": "code",
   "execution_count": null,
   "metadata": {},
   "outputs": [],
   "source": [
    "# Filtrar por porcentaje\n",
    "def filtrar_por_porcentaje(price):\n",
    "    price_sorted = np.sort(price)\n",
    "    top_20_percent = price_sorted[int(len(price) * 0.8):]\n",
    "    bottom_20_percent = price_sorted[:int(len(price) * 0.2)]\n",
    "    print(f\"Top 20% más caro: {len(top_20_percent)}, Bottom 20% más barato: {len(bottom_20_percent)}\")\n",
    "    return top_20_percent, bottom_20_percent"
   ]
  },
  {
   "cell_type": "code",
   "execution_count": null,
   "metadata": {},
   "outputs": [],
   "source": [
    "# Moda\n",
    "def moda(addresses):\n",
    "    address_mode = Counter(addresses).most_common(1)\n",
    "    print(f\"Moda de las direcciones: {address_mode}\")"
   ]
  },
  {
   "cell_type": "code",
   "execution_count": null,
   "metadata": {},
   "outputs": [],
   "source": [
    "# Varianza y desviación estándar\n",
    "def varianza_desviacion(price):\n",
    "    variance = np.var(price)\n",
    "    std_dev = np.std(price)\n",
    "    print(f\"Varianza: {variance}, Desviación estándar: {std_dev}\")\n",
    "    return variance, std_dev"
   ]
  },
  {
   "cell_type": "code",
   "execution_count": null,
   "metadata": {},
   "outputs": [],
   "source": [
    "# Detectar outliers con Tukey\n",
    "def filtro_outliers_tukey(price, q1, q3, iqr):\n",
    "    upper_limit = q3 + 1.5 * iqr\n",
    "    lower_limit = q1 - 1.5 * iqr\n",
    "    outliers = price[(price > upper_limit) | (price < lower_limit)]\n",
    "    print(f\"Outliers detectados: {len(outliers)}\")\n",
    "    return upper_limit, lower_limit, outliers"
   ]
  },
  {
   "cell_type": "code",
   "execution_count": null,
   "metadata": {},
   "outputs": [],
   "source": [
    "# Graficar outliers\n",
    "def graficar_outliers(price, upper_limit, lower_limit):\n",
    "    plt.figure(figsize=(10, 6))\n",
    "    sns.histplot(price, bins=30, color=\"blue\", alpha=0.6, kde=True)\n",
    "    plt.axvline(upper_limit, color='red', linestyle='dashed', linewidth=1, label=\"Límite Superior\")\n",
    "    plt.axvline(lower_limit, color='blue', linestyle='dashed', linewidth=1, label=\"Límite Inferior\")\n",
    "    plt.legend()\n",
    "    plt.title(\"Outliers con límites marcados\")\n",
    "    plt.grid()\n",
    "    plt.show()"
   ]
  },
  {
   "cell_type": "code",
   "execution_count": null,
   "metadata": {},
   "outputs": [],
   "source": []
  },
  {
   "cell_type": "code",
   "execution_count": null,
   "metadata": {},
   "outputs": [],
   "source": [
    "# Matriz de correlación\n",
    "def matriz_correlacion(price, bedrooms, bathrooms, m2):\n",
    "    data_matrix = np.corrcoef([price, bedrooms, bathrooms, m2])\n",
    "    sns.heatmap(data_matrix, annot=True, xticklabels=[\"price\", \"bedrooms\", \"bathrooms\", \"m2\"], yticklabels=[\"price\", \"bedrooms\", \"bathrooms\", \"m2\"])\n",
    "    plt.title(\"Matriz de Correlación\")\n",
    "    plt.show()"
   ]
  },
  {
   "cell_type": "code",
   "execution_count": null,
   "metadata": {},
   "outputs": [],
   "source": [
    "# Estandarizar\n",
    "def estandarizar(price):\n",
    "    mean_price = np.mean(price)\n",
    "    std_dev_price = np.std(price)\n",
    "    price_std = (price - mean_price) / std_dev_price\n",
    "    return price_std"
   ]
  },
  {
   "cell_type": "code",
   "execution_count": null,
   "metadata": {},
   "outputs": [],
   "source": [
    "# Asimetría y curtosis\n",
    "def asimetria_curtosis(price):\n",
    "    skewness = stats.skew(price)\n",
    "    kurtosis = stats.kurtosis(price)\n",
    "    print(f\"Asimetría: {skewness}, Curtosis: {kurtosis}\")"
   ]
  },
  {
   "cell_type": "code",
   "execution_count": null,
   "metadata": {},
   "outputs": [],
   "source": [
    "# Transformar distribuciones\n",
    "def transformar_distribuciones(price):\n",
    "    price_log = np.log(price[price > 0])\n",
    "    plt.figure(figsize=(10, 6))\n",
    "    sns.histplot(price_log, kde=True, bins=30, color=\"green\", alpha=0.6)\n",
    "    plt.title(\"Transformación Logarítmica de Precios\")\n",
    "    plt.xlabel(\"Log(Precio)\")\n",
    "    plt.ylabel(\"Frecuencia\")\n",
    "    plt.grid()\n",
    "    plt.show()"
   ]
  },
  {
   "cell_type": "code",
   "execution_count": null,
   "metadata": {},
   "outputs": [],
   "source": []
  },
  {
   "cell_type": "code",
   "execution_count": null,
   "metadata": {},
   "outputs": [],
   "source": [
    "# Contraste de hipótesis\n",
    "def contraste_hipotesis_barrio(price, addresses, barrio_x, barrio_y):\n",
    "    barrio_x_prices = price[addresses == barrio_x]\n",
    "    barrio_y_prices = price[addresses == barrio_y]\n",
    "    t_stat, p_value = stats.ttest_ind(barrio_x_prices, barrio_y_prices, equal_var=False)\n",
    "    print(f\"T-stat: {t_stat}, P-value: {p_value}\")\n",
    "\n",
    "def contraste_hipotesis_baños(price, bathrooms):\n",
    "    three_bathrooms = price[bathrooms >= 3]\n",
    "    one_two_bathrooms = price[(bathrooms == 1) | (bathrooms == 2)]\n",
    "    t_stat, p_value = stats.ttest_ind(three_bathrooms, one_two_bathrooms, equal_var=False)\n",
    "    print(f\"T-stat: {t_stat}, P-value: {p_value}\")"
   ]
  },
  {
   "cell_type": "code",
   "execution_count": null,
   "metadata": {},
   "outputs": [],
   "source": []
  },
  {
   "cell_type": "code",
   "execution_count": null,
   "metadata": {},
   "outputs": [],
   "source": []
  }
 ],
 "metadata": {
  "language_info": {
   "name": "python"
  }
 },
 "nbformat": 4,
 "nbformat_minor": 2
}
