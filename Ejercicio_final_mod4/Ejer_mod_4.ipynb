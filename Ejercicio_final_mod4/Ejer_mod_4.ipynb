{
 "cells": [
  {
   "cell_type": "markdown",
   "metadata": {},
   "source": [
    "## ENUNCIADO EJERCICIO \n",
    "\n",
    "### 1. CREAR BASE DE DATOS (33%)\n",
    "\n",
    "* Crear con código SQL una base de datos llamada supermercado.\n",
    "* Código Python con mysql connector que ejecute el SQL para borrar y generar la base de datos vacía.\n",
    "\n",
    "Tablas: 7 \n",
    "\n",
    "tiendas\n",
    "- id_tienda (PRIMARY KEY)\n",
    "- nombre_tienda\n",
    "- direccion\n",
    "- ciudad\n",
    "\n",
    "empleados\n",
    "- id_empleado (PRIMARY KEY)\n",
    "- nombre_empleado\n",
    "- puesto (ej.: Cajero, Gerente, Reponedor)\n",
    "- id_tienda (FOREIGN KEY que hace referencia a tiendas.id_tienda)\n",
    "\n",
    "categorias\n",
    "- id_categoria (PRIMARY KEY)\n",
    "- nombre_categoria\n",
    "\n",
    "productos\n",
    "- id_producto (PRIMARY KEY)\n",
    "- nombre_producto\n",
    "- precio\n",
    "- stock\n",
    "- id_categoria (FOREIGN KEY que hace referencia a categorias.id_categoria)\n",
    "\n",
    "clientes\n",
    "- id_cliente (PRIMARY KEY)\n",
    "- first_name\n",
    "- last_name\n",
    "- email\n",
    "- codigo_postal\n",
    "\n",
    "ordenes\n",
    "- id_orden (PRIMARY KEY)\n",
    "- id_cliente (FOREIGN KEY que hace referencia a clientes.id_cliente)\n",
    "- id_empleado (FOREIGN KEY que hace referencia a empleados.id_empleado)\n",
    "- fecha_orden\n",
    "- metodo_pago (una enum que solo admita tres valores Tarjeta, Efectivo)\n",
    "\n",
    "detalle_orden\n",
    "- id_detalle (PRIMARY KEY)\n",
    "- id_orden (FOREIGN KEY que hace referencia a ordenes.id_orden) NOT NULL\n",
    "- id_producto (FOREIGN KEY que hace referencia a productos.id_producto) NOT NULL\n",
    "- cantidad\n",
    "- precio_unitario: mismo precio que en la tabla producto\n",
    "- descuento (podría ser NULL si no se aplica)\n",
    "\n",
    "\n",
    "\n",
    "### 2. Generar datos demo desde Python (33%)\n",
    "\n",
    "* Generar datos aleatorios en listas con Python similar los realizados en clase.\n",
    "    * Uso de datetime, timedelta, random para generar datos aleatorios\n",
    "* Pasar los datos a DataFrames de Pandas\n",
    "* Pasar los DataFrames de Pandas a MySQL usando la función to_sql de Pandas con SQLAlchemy o usando MySQL Connector con sentencias INSERT.\n",
    "\n",
    "\n",
    "tiendas\n",
    "\n",
    "* id_tienda: valores enteros consecutivos (por ejemplo, 1, 2, 3...).\n",
    "* nombre_tienda: nombres ficticios o genéricos (p. ej. \"Tienda Centro\", \"Super Norte\", \"Super Sur\").\n",
    "* direccion: direcciones simples (p. ej. “Calle Falsa 123”).\n",
    "* ciudad: usar nombres de ciudades ficticias o reales (p. ej. “Madrid”, “Barcelona”, “México DF”, etc.).\n",
    "\n",
    "En total 5 o 10 tiendas.\n",
    "\n",
    "\n",
    "empleados\n",
    "\n",
    "* id_empleado: valores enteros consecutivos (1, 2, 3...).\n",
    "* nombre_empleado: nombres y apellidos ficticios (p. ej. “Laura Gutiérrez”, “Juan Pérez”).\n",
    "* puesto: limitarse a un conjunto reducido de valores (p. ej. {‘Cajero’, ‘Gerente’, ‘Reponedor’, ‘Vendedor’}).\n",
    "* id_tienda: debe hacer referencia a una tienda existente (por ejemplo, un número entre 1 y 3 si solo tienes 3 tiendas).\n",
    "\n",
    "En total 20 empleados por tienda.\n",
    "\n",
    "categorias\n",
    "\n",
    "* id_categoria: valores enteros consecutivos (1, 2, 3...).\n",
    "* nombre_categoria: selección de categorías (p. ej. “Lácteos”, “Carnes”, “Frutas”, “Verduras”, “Bebidas”, “Snacks”).\n",
    "\n",
    "En total 10 categorías.\n",
    "\n",
    "\n",
    "productos\n",
    "\n",
    "* id_producto: valores enteros consecutivos (1, 2, 3...).\n",
    "nombre_producto: nombres como “Leche Entera”, “Manzana Roja”, “Refresco de Cola”, etc.\n",
    "* precio: valores DECIMAL entre 0.50 y 50.00, por ejemplo.\n",
    "* stock: valores INT entre 0 y 500 (o el rango que quieras).\n",
    "* id_categoria: debe hacer referencia a las categorías que hayas definido (1, 2, 3, etc.).\n",
    "\n",
    "En total 4 productos de cada categoría.\n",
    "\n",
    "\n",
    "clientes\n",
    "\n",
    "* id_cliente: valores enteros consecutivos (1, 2, 3...).\n",
    "* nombre_cliente: nombres y apellidos ficticios (p. ej. “Carlos López”, “María Gil”).\n",
    "* email: podrías generar correos ficticios (p. ej. “carlos.lopez@test.com”).\n",
    "* telefono: número de 9 o 10 dígitos (dependiendo del país).\n",
    "* direccion: calles y números ficticios (p. ej. “Av. Siempre Viva 742”).\n",
    "\n",
    "En total: 2000.\n",
    "\n",
    "ordenes\n",
    "\n",
    "* id_orden: valores enteros consecutivos (1, 2, 3...).\n",
    "* id_cliente: haz referencia a los IDs existentes de la tabla clientes.\n",
    "* id_empleado: haz referencia a los IDs existentes de la tabla empleados.\n",
    "* fecha_orden: genera fechas aleatorias o secuenciales (p. ej. entre ‘2024-01-01’ y ‘2025-01-01’).\n",
    "* metodo_pago: escoge entre {‘Tarjeta’, ‘Efectivo’}.\n",
    "\n",
    "En total: 10000.\n",
    "\n",
    "detalle_orden\n",
    "\n",
    "* id_detalle: valores enteros consecutivos (1, 2, 3...).\n",
    "* id_orden: referencia al ID de alguna orden válida.\n",
    "* id_producto: referencia al ID de algún producto válido.\n",
    "* cantidad: valores entre 1 y 20, por ejemplo.\n",
    "* precio_unitario: usar el mismo precio que está en la tabla productos o uno ligeramente distinto si quieres simular ofertas.\n",
    "* descuento: valores DECIMAL bajos (p. ej. 0.00, 1.00, 2.50) o NULL.\n",
    "\n",
    "En total: 30000.\n",
    "\n",
    "\n",
    "### 3. Consultas SQL (34%)\n",
    "\n",
    "1. Listado de órdenes con detalles de cliente y empleado\n",
    "* Muestra el ID de la orden, la fecha, el nombre del cliente, el nombre del empleado que atendió la compra y el método de pago.\n",
    "* Utiliza un JOIN entre las tablas ordenes, clientes y empleados.\n",
    "\n",
    "\n",
    "2. Productos con stock bajo\n",
    "* Filtra aquellos productos cuyo stock sea menor a 10.\n",
    "* Muestra nombre del producto, categoría y stock.\n",
    "\n",
    "\n",
    "3. Ventas totales por categoría\n",
    "* Muestra el nombre de la categoría y la suma total de las ventas (ej.: multiplicando cantidad * precio_unitario) para cada categoría.\n",
    "* Realiza el JOIN con detalle_orden, productos y categorias.\n",
    "* Utiliza agrupación (GROUP BY).\n",
    "\n",
    "\n",
    "4. Clientes con mayores gastos acumulados\n",
    "* Muestra el nombre del cliente y el monto total que ha gastado (suma de todas sus órdenes).\n",
    "* Asegúrate de tener en cuenta posibles descuentos (descuento) si se ha definido. Por ejemplo, la fórmula podría ser (cantidad * precio_unitario) - descuento.\n",
    "* Ordena el resultado de mayor a menor gasto acumulado.\n",
    "\n",
    "\n",
    "5. Empleados y número de órdenes gestionadas\n",
    "* Muestra el nombre del empleado, el puesto y la cantidad de órdenes que ha gestionado.\n",
    "* Utiliza GROUP BY y COUNT.\n",
    "\n",
    "\n",
    "6. Ordenes filtradas por fecha y tienda\n",
    "* Muestra todas las órdenes que se realizaron en un rango de fechas determinado (ej.: del 1 de enero de 2025 al 31 de enero de 2025) y en una tienda específica.\n",
    "* Incluye datos de la tienda y del cliente.\n",
    "\n",
    "\n",
    "7. Ranking de productos más vendidos en cada tienda\n",
    "* Para cada tienda, muestra los 3 productos más vendidos (en términos de cantidad total).\n",
    "* Tendrás que unir tiendas, empleados, ordenes y detalle_orden, además de productos.\n",
    "* Usa GROUP BY y ordena por la cantidad sumada (y opcionalmente, un LIMIT 3).\n",
    "\n",
    "\n",
    "Opcional: añadir alguna consulta con subconsultas o algo que no se abarque en las anteriores consulta.\n"
   ]
  },
  {
   "cell_type": "markdown",
   "metadata": {},
   "source": [
    "# 1. CREAR BASE DE DATOS (33%)\n"
   ]
  },
  {
   "cell_type": "markdown",
   "metadata": {},
   "source": [
    "## 1.1 Crear con código SQL una base de datos llamada supermercado."
   ]
  },
  {
   "cell_type": "code",
   "execution_count": 2,
   "metadata": {},
   "outputs": [
    {
     "name": "stdout",
     "output_type": "stream",
     "text": [
      "9.1.0\n"
     ]
    }
   ],
   "source": [
    "import pandas as pd\n",
    "\n",
    "import mysql.connector as con\n",
    "print(con.__version__)"
   ]
  },
  {
   "cell_type": "markdown",
   "metadata": {},
   "source": [
    "## 1.2 Código Python con mysql connector que ejecute el SQL para borrar y generar la base de datos vacía."
   ]
  },
  {
   "cell_type": "code",
   "execution_count": null,
   "metadata": {},
   "outputs": [],
   "source": [
    "# Crear conexión a base de datos\n",
    "connection = con.connect(\n",
    "    host='localhost', # si tuvieramos una bBDD remota pondríamos la url\n",
    "    port='3306',\n",
    "    user='root',\n",
    "    password='1234abcd'\n",
    ")\n",
    "cursor = connection.cursor() # posicion en la que estamos ubicados\n",
    "\n",
    "cursor.execute(\"DROP DATABASE IF EXISTS supermercado;\")\n",
    "cursor.execute(\"CREATE SCHEMA supermercado DEFAULT CHARACTER SET utf8;\")\n",
    "\n",
    "cursor.execute('''\n",
    "    CREATE TABLE IF NOT EXISTS supermercado.tiendas (\n",
    "    id_tienda BIGINT UNSIGNED AUTO_INCREMENT PRIMARY KEY,\n",
    "    nombre_tienda VARCHAR(255) NOT NULL UNIQUE,\n",
    "    direccion_tienda VARCHAR(255) NOT NULL UNIQUE,\n",
    "    ciudad_tienda VARCHAR(255) NOT NULL UNIQUE\n",
    ");\n",
    "''')\n",
    "cursor.execute('''\n",
    "    CREATE TABLE IF NOT EXISTS supermercado.empleados (\n",
    "    id_empleado BIGINT UNSIGNED AUTO_INCREMENT PRIMARY KEY,\n",
    "    nombre_empleado VARCHAR(255) NOT NULL UNIQUE,\n",
    "    puesto_empleado VARCHAR(255) NOT NULL UNIQUE,\n",
    "    id_tienda VARCHAR(255) FOREIGN KEY ??tiendas.id_tienda\n",
    ");\n",
    "''')\n",
    "cursor.execute('''\n",
    "    CREATE TABLE IF NOT EXISTS supermercado.categorias (\n",
    "    id_categoria BIGINT UNSIGNED AUTO_INCREMENT PRIMARY KEY,\n",
    "    nombre_categoria VARCHAR(255) NOT NULL UNIQUE,\n",
    ");\n",
    "''')\n",
    "cursor.execute('''\n",
    "    CREATE TABLE IF NOT EXISTS supermercado.productos (\n",
    "    id_producto BIGINT UNSIGNED AUTO_INCREMENT PRIMARY KEY,\n",
    "    nombre_producto VARCHAR(255) NOT NULL UNIQUE,\n",
    "    precio VARCHAR(255) NOT NULL UNIQUE,\n",
    "    stock VARCHAR(255),\n",
    "    id_categoria VARCHAR(255) FOREIGN KEY ??categorias.id_categoria\n",
    ");\n",
    "''')\n",
    "cursor.execute('''\n",
    "    CREATE TABLE IF NOT EXISTS supermercado.clientes (\n",
    "    id_cliente BIGINT UNSIGNED AUTO_INCREMENT PRIMARY KEY,\n",
    "    first_name VARCHAR(255) NOT NULL UNIQUE,\n",
    "    last_name VARCHAR(255) NOT NULL UNIQUE,\n",
    "    email VARCHAR(255),\n",
    "    codigo_postal VARCHAR(255) \n",
    ");\n",
    "''')\n",
    "cursor.execute('''\n",
    "    CREATE TABLE IF NOT EXISTS supermercado.ordenes (\n",
    "    id_orden BIGINT UNSIGNED AUTO_INCREMENT PRIMARY KEY,\n",
    "    id_cliente VARCHAR(255) FOREIGN KEY que hace referencia a clientes.id_cliente,\n",
    "    id_empleado VARCHAR(255) FOREIGN KEY que hace referencia a empleados.id_empleado,\n",
    "    fecha_orden VARCHAR(255),\n",
    "    metodo_pago solo 2 valores, tarjeta y efectyivo \n",
    ");\n",
    "''')\n",
    "cursor.execute('''\n",
    "    CREATE TABLE IF NOT EXISTS supermercado.detalle_orden (\n",
    "    id_detalle BIGINT UNSIGNED AUTO_INCREMENT PRIMARY KEY,\n",
    "    id_orden VARCHAR(255) (FOREIGN KEY que hace referencia a ordenes.id_orden) NOT NULL,\n",
    "    id_producto VARCHAR(255) (FOREIGN KEY que hace referencia a productos.id_producto) NOT NULL,\n",
    "    cantidad VARCHAR(255),\n",
    "    precio_unitario DECIMAL(14, 2),mismo precio que en la tabla producto\n",
    "    descuento  (podría ser NULL si no se aplica)\n",
    ");\n",
    "''')\n",
    "cursor.execute('''\n",
    "    CREATE TABLE IF NOT EXISTS python_mysql.customers2 (\n",
    "    id BIGINT UNSIGNED AUTO_INCREMENT PRIMARY KEY ,\n",
    "    first_name VARCHAR(50),\n",
    "    email VARCHAR(255) NOT NULL UNIQUE,\n",
    "    age TINYINT UNSIGNED NULL,\n",
    "    salary DECIMAL(14, 2) ,\n",
    "    student BOOLEAN DEFAULT 0, -- TINYINT(1)\n",
    "    birthday DATE ,\n",
    "    work_entry_hour TIME,\n",
    "    creation_date DATETIME, -- usa zona horaria\n",
    "    update_date TIMESTAMP -- no usa zona horaria\n",
    ");\n",
    "''')\n",
    "\n",
    "cursor.close()\n",
    "connection.close()"
   ]
  },
  {
   "cell_type": "code",
   "execution_count": null,
   "metadata": {},
   "outputs": [],
   "source": []
  },
  {
   "cell_type": "code",
   "execution_count": null,
   "metadata": {},
   "outputs": [],
   "source": []
  },
  {
   "cell_type": "markdown",
   "metadata": {},
   "source": [
    "## 1.3 Tablas: 7 "
   ]
  },
  {
   "cell_type": "code",
   "execution_count": null,
   "metadata": {},
   "outputs": [],
   "source": []
  },
  {
   "cell_type": "markdown",
   "metadata": {},
   "source": [
    "### 1.3.1 tiendas\n",
    "- id_tienda (PRIMARY KEY)\n",
    "- nombre_tienda\n",
    "- direccion\n",
    "- ciudad"
   ]
  },
  {
   "cell_type": "code",
   "execution_count": null,
   "metadata": {},
   "outputs": [],
   "source": []
  },
  {
   "cell_type": "markdown",
   "metadata": {},
   "source": [
    "### 1.3.2 empleados\n",
    "- id_empleado (PRIMARY KEY)\n",
    "- nombre_empleado\n",
    "- puesto (ej.: Cajero, Gerente, Reponedor)\n",
    "- id_tienda (FOREIGN KEY que hace referencia a tiendas.id_tienda)"
   ]
  },
  {
   "cell_type": "markdown",
   "metadata": {},
   "source": [
    "### 1.3.3 categorias\n",
    "- id_categoria (PRIMARY KEY)\n",
    "- nombre_categoria"
   ]
  },
  {
   "cell_type": "markdown",
   "metadata": {},
   "source": [
    "### 1.3.4 productos\n",
    "- id_producto (PRIMARY KEY)\n",
    "- nombre_producto\n",
    "- precio\n",
    "- stock\n",
    "- id_categoria (FOREIGN KEY que hace referencia a categorias.id_categoria)"
   ]
  },
  {
   "cell_type": "markdown",
   "metadata": {},
   "source": [
    "### 1.3.5 clientes\n",
    "- id_cliente (PRIMARY KEY)\n",
    "- first_name\n",
    "- last_name\n",
    "- email\n",
    "- codigo_postal"
   ]
  },
  {
   "cell_type": "markdown",
   "metadata": {},
   "source": [
    "### 1.3.6 ordenes\n",
    "- id_orden (PRIMARY KEY)\n",
    "- id_cliente (FOREIGN KEY que hace referencia a clientes.id_cliente)\n",
    "- id_empleado (FOREIGN KEY que hace referencia a empleados.id_empleado)\n",
    "- fecha_orden\n",
    "- metodo_pago (una enum que solo admita tres valores Tarjeta, Efectivo)"
   ]
  },
  {
   "cell_type": "markdown",
   "metadata": {},
   "source": [
    "### 1.3.7 detalle_orden\n",
    "- id_detalle (PRIMARY KEY)\n",
    "- id_orden (FOREIGN KEY que hace referencia a ordenes.id_orden) NOT NULL\n",
    "- id_producto (FOREIGN KEY que hace referencia a productos.id_producto) NOT NULL\n",
    "- cantidad\n",
    "- precio_unitario: mismo precio que en la tabla producto\n",
    "- descuento (podría ser NULL si no se aplica)"
   ]
  },
  {
   "cell_type": "markdown",
   "metadata": {},
   "source": [
    "# 2. Generar datos demo desde Python (33%)\n"
   ]
  },
  {
   "cell_type": "markdown",
   "metadata": {},
   "source": [
    "## 2.1 Generar datos aleatorios en listas con Python similar los realizados en clase."
   ]
  },
  {
   "cell_type": "markdown",
   "metadata": {},
   "source": [
    "### 2.1.1 Uso de datetime, timedelta, random para generar datos aleatorios"
   ]
  },
  {
   "cell_type": "markdown",
   "metadata": {},
   "source": [
    "## 2.2 Pasar los datos a DataFrames de Pandas\n"
   ]
  },
  {
   "cell_type": "markdown",
   "metadata": {},
   "source": [
    "## 2.3 Pasar los DataFrames de Pandas a MySQL usando la función to_sql de Pandas con SQLAlchemy o usando MySQL Connector con sentencias INSERT.\n"
   ]
  },
  {
   "cell_type": "markdown",
   "metadata": {},
   "source": [
    "## 2.4 tiendas:\n",
    "\n",
    "En total 5 o 10 tiendas.\n"
   ]
  },
  {
   "cell_type": "markdown",
   "metadata": {},
   "source": [
    "### 2.4.1 id_tienda: valores enteros consecutivos (por ejemplo, 1, 2, 3...).\n"
   ]
  },
  {
   "cell_type": "markdown",
   "metadata": {},
   "source": [
    "### 2.4.2 nombre_tienda: nombres ficticios o genéricos (p. ej. \"Tienda Centro\", \"Super Norte\", \"Super Sur\").\n"
   ]
  },
  {
   "cell_type": "markdown",
   "metadata": {},
   "source": [
    "### 2.4.3 direccion: direcciones simples (p. ej. “Calle Falsa 123”).\n"
   ]
  },
  {
   "cell_type": "markdown",
   "metadata": {},
   "source": [
    "### 2.4.4 ciudad: usar nombres de ciudades ficticias o reales (p. ej. “Madrid”, “Barcelona”, “México DF”, etc.).\n"
   ]
  },
  {
   "cell_type": "markdown",
   "metadata": {},
   "source": [
    "## 2.5 empleados:\n",
    "\n",
    "En total 20 empleados por tienda.\n"
   ]
  },
  {
   "cell_type": "markdown",
   "metadata": {},
   "source": [
    "### 2.5.1 id_empleado: valores enteros consecutivos (1, 2, 3...).\n"
   ]
  },
  {
   "cell_type": "markdown",
   "metadata": {},
   "source": [
    "### 2.5.2 nombre_empleado: nombres y apellidos ficticios (p. ej. “Laura Gutiérrez”, “Juan Pérez”).\n"
   ]
  },
  {
   "cell_type": "markdown",
   "metadata": {},
   "source": [
    "### 2.5.3 puesto: limitarse a un conjunto reducido de valores (p. ej. {‘Cajero’, ‘Gerente’, ‘Reponedor’, ‘Vendedor’}).\n"
   ]
  },
  {
   "cell_type": "markdown",
   "metadata": {},
   "source": [
    "### 2.5.4 id_tienda: debe hacer referencia a una tienda existente (por ejemplo, un número entre 1 y 3 si solo tienes 3 tiendas).\n"
   ]
  },
  {
   "cell_type": "markdown",
   "metadata": {},
   "source": [
    "## 2.6 categorias:\n",
    "\n",
    "En total 10 categorías.\n"
   ]
  },
  {
   "cell_type": "markdown",
   "metadata": {},
   "source": [
    "### 2.6.1 id_categoria: valores enteros consecutivos (1, 2, 3...).\n"
   ]
  },
  {
   "cell_type": "markdown",
   "metadata": {},
   "source": [
    "### 2.6.2 nombre_categoria: selección de categorías (p. ej. “Lácteos”, “Carnes”, “Frutas”, “Verduras”, “Bebidas”, “Snacks”).\n"
   ]
  },
  {
   "cell_type": "markdown",
   "metadata": {},
   "source": [
    "## 2.7 productos:\n",
    "\n",
    "En total 4 productos de cada categoría.\n"
   ]
  },
  {
   "cell_type": "markdown",
   "metadata": {},
   "source": [
    "### 2.7.1 id_producto: valores enteros consecutivos (1, 2, 3...).\n"
   ]
  },
  {
   "cell_type": "markdown",
   "metadata": {},
   "source": [
    "### 2.7.2 nombre_producto: nombres como “Leche Entera”, “Manzana Roja”, “Refresco de Cola”, etc.\n"
   ]
  },
  {
   "cell_type": "markdown",
   "metadata": {},
   "source": [
    "### 2.7.3 precio: valores DECIMAL entre 0.50 y 50.00, por ejemplo.\n"
   ]
  },
  {
   "cell_type": "markdown",
   "metadata": {},
   "source": [
    "### 2.7.4 stock: valores INT entre 0 y 500 (o el rango que quieras).\n"
   ]
  },
  {
   "cell_type": "markdown",
   "metadata": {},
   "source": [
    "### 2.7.5 id_categoria: debe hacer referencia a las categorías que hayas definido (1, 2, 3, etc.).\n"
   ]
  },
  {
   "cell_type": "markdown",
   "metadata": {},
   "source": [
    "## 2.8 clientes:\n",
    "\n",
    "En total: 2000.\n"
   ]
  },
  {
   "cell_type": "markdown",
   "metadata": {},
   "source": [
    "### 2.8.1 id_cliente: valores enteros consecutivos (1, 2, 3...).\n"
   ]
  },
  {
   "cell_type": "markdown",
   "metadata": {},
   "source": [
    "### 2.8.2 nombre_cliente: nombres y apellidos ficticios (p. ej. “Carlos López”, “María Gil”).\n"
   ]
  },
  {
   "cell_type": "markdown",
   "metadata": {},
   "source": [
    "### 2.8.3 email: podrías generar correos ficticios (p. ej. “carlos.lopez@test.com”).\n"
   ]
  },
  {
   "cell_type": "markdown",
   "metadata": {},
   "source": [
    "### 2.8.4 telefono: número de 9 o 10 dígitos (dependiendo del país).\n"
   ]
  },
  {
   "cell_type": "markdown",
   "metadata": {},
   "source": [
    "### 2.8.5 direccion: calles y números ficticios (p. ej. “Av. Siempre Viva 742”).\n"
   ]
  },
  {
   "cell_type": "markdown",
   "metadata": {},
   "source": [
    "## 2.9 ordenes:\n",
    "\n",
    "En total: 10000.\n"
   ]
  },
  {
   "cell_type": "markdown",
   "metadata": {},
   "source": [
    "### 2.9.1 id_orden: valores enteros consecutivos (1, 2, 3...).\n"
   ]
  },
  {
   "cell_type": "markdown",
   "metadata": {},
   "source": [
    "### 2.9.2 id_cliente: haz referencia a los IDs existentes de la tabla clientes.\n"
   ]
  },
  {
   "cell_type": "markdown",
   "metadata": {},
   "source": [
    "### 2.9.3 id_empleado: haz referencia a los IDs existentes de la tabla empleados.\n"
   ]
  },
  {
   "cell_type": "markdown",
   "metadata": {},
   "source": [
    "### 2.9.4 fecha_orden: genera fechas aleatorias o secuenciales (p. ej. entre ‘2024-01-01’ y ‘2025-01-01’).\n"
   ]
  },
  {
   "cell_type": "markdown",
   "metadata": {},
   "source": [
    "### 2.9.5 metodo_pago: escoge entre {‘Tarjeta’, ‘Efectivo’}.\n"
   ]
  },
  {
   "cell_type": "markdown",
   "metadata": {},
   "source": [
    "## 2.10 detalle_orden:\n",
    "\n",
    "En total: 30000.\n"
   ]
  },
  {
   "cell_type": "markdown",
   "metadata": {},
   "source": [
    "### 2.10.1 id_detalle: valores enteros consecutivos (1, 2, 3...).\n"
   ]
  },
  {
   "cell_type": "markdown",
   "metadata": {},
   "source": [
    "### 2.10.2 id_orden: referencia al ID de alguna orden válida.\n"
   ]
  },
  {
   "cell_type": "markdown",
   "metadata": {},
   "source": [
    "### 2.10.3 id_producto: referencia al ID de algún producto válido.\n"
   ]
  },
  {
   "cell_type": "markdown",
   "metadata": {},
   "source": [
    "### 2.10.4 cantidad: valores entre 1 y 20, por ejemplo.\n"
   ]
  },
  {
   "cell_type": "markdown",
   "metadata": {},
   "source": [
    "### 2.10.5 precio_unitario: usar el mismo precio que está en la tabla productos o uno ligeramente distinto si quieres simular ofertas.\n"
   ]
  },
  {
   "cell_type": "markdown",
   "metadata": {},
   "source": [
    "### 2.10.6 descuento: valores DECIMAL bajos (p. ej. 0.00, 1.00, 2.50) o NULL.\n"
   ]
  },
  {
   "cell_type": "markdown",
   "metadata": {},
   "source": [
    "# 3. Consultas SQL (34%)\n"
   ]
  },
  {
   "cell_type": "markdown",
   "metadata": {},
   "source": [
    "## 3.1 Listado de órdenes con detalles de cliente y empleado\n"
   ]
  },
  {
   "cell_type": "markdown",
   "metadata": {},
   "source": [
    "### 3.1.1 Muestra el ID de la orden, la fecha, el nombre del cliente, el nombre del empleado que atendió la compra y el método de pago.\n"
   ]
  },
  {
   "cell_type": "markdown",
   "metadata": {},
   "source": [
    "### 3.1.2 Utiliza un JOIN entre las tablas ordenes, clientes y empleados.\n"
   ]
  },
  {
   "cell_type": "markdown",
   "metadata": {},
   "source": [
    "## 3.2 Productos con stock bajo\n"
   ]
  },
  {
   "cell_type": "markdown",
   "metadata": {},
   "source": [
    "### 3.2.1 Filtra aquellos productos cuyo stock sea menor a 10.\n"
   ]
  },
  {
   "cell_type": "markdown",
   "metadata": {},
   "source": [
    "### 3.2.3 Muestra nombre del producto, categoría y stock.\n"
   ]
  },
  {
   "cell_type": "markdown",
   "metadata": {},
   "source": [
    "## 3.3 Ventas totales por categoría\n"
   ]
  },
  {
   "cell_type": "markdown",
   "metadata": {},
   "source": [
    "### 3.3.1 Muestra el nombre de la categoría y la suma total de las ventas (ej.: multiplicando cantidad * precio_unitario) para cada categoría.\n"
   ]
  },
  {
   "cell_type": "markdown",
   "metadata": {},
   "source": [
    "### 3.3.2 Realiza el JOIN con detalle_orden, productos y categorias."
   ]
  },
  {
   "cell_type": "markdown",
   "metadata": {},
   "source": [
    "### 3.3.3 Utiliza agrupación (GROUP BY).\n"
   ]
  },
  {
   "cell_type": "markdown",
   "metadata": {},
   "source": [
    "## 3.4 Clientes con mayores gastos acumulados\n"
   ]
  },
  {
   "cell_type": "markdown",
   "metadata": {},
   "source": [
    "### 3.4.1 Muestra el nombre del cliente y el monto total que ha gastado (suma de todas sus órdenes).\n"
   ]
  },
  {
   "cell_type": "markdown",
   "metadata": {},
   "source": [
    "### 3.4.2 Asegúrate de tener en cuenta posibles descuentos (descuento) si se ha definido. Por ejemplo, la fórmula podría ser (cantidad * precio_unitario) - descuento.\n"
   ]
  },
  {
   "cell_type": "markdown",
   "metadata": {},
   "source": [
    "### 3.4.3 Ordena el resultado de mayor a menor gasto acumulado.\n"
   ]
  },
  {
   "cell_type": "markdown",
   "metadata": {},
   "source": [
    "## 3.5 Empleados y número de órdenes gestionadas\n"
   ]
  },
  {
   "cell_type": "markdown",
   "metadata": {},
   "source": [
    "### 3.5.1 Muestra el nombre del empleado, el puesto y la cantidad de órdenes que ha gestionado.\n"
   ]
  },
  {
   "cell_type": "markdown",
   "metadata": {},
   "source": [
    "### 3.5.2 Utiliza GROUP BY y COUNT.\n"
   ]
  },
  {
   "cell_type": "markdown",
   "metadata": {},
   "source": [
    "## 3.6 Ordenes filtradas por fecha y tienda\n"
   ]
  },
  {
   "cell_type": "markdown",
   "metadata": {},
   "source": [
    "### 3.6.1 Muestra todas las órdenes que se realizaron en un rango de fechas determinado (ej.: del 1 de enero de 2025 al 31 de enero de 2025) y en una tienda específica.\n"
   ]
  },
  {
   "cell_type": "markdown",
   "metadata": {},
   "source": [
    "### 3.6.2 Incluye datos de la tienda y del cliente.\n"
   ]
  },
  {
   "cell_type": "markdown",
   "metadata": {},
   "source": [
    "## 3.7 Ranking de productos más vendidos en cada tienda\n"
   ]
  },
  {
   "cell_type": "markdown",
   "metadata": {},
   "source": [
    "### 3.7.1 Para cada tienda, muestra los 3 productos más vendidos (en términos de cantidad total).\n"
   ]
  },
  {
   "cell_type": "markdown",
   "metadata": {},
   "source": [
    "### 3.7.2 Tendrás que unir tiendas, empleados, ordenes y detalle_orden, además de productos.\n"
   ]
  },
  {
   "cell_type": "markdown",
   "metadata": {},
   "source": [
    "### 3.7.3 Usa GROUP BY y ordena por la cantidad sumada (y opcionalmente, un LIMIT 3).\n"
   ]
  },
  {
   "cell_type": "markdown",
   "metadata": {},
   "source": [
    "Opcional: añadir alguna consulta con subconsultas o algo que no se abarque en las anteriores consulta."
   ]
  }
 ],
 "metadata": {
  "kernelspec": {
   "display_name": "Python 3",
   "language": "python",
   "name": "python3"
  },
  "language_info": {
   "codemirror_mode": {
    "name": "ipython",
    "version": 3
   },
   "file_extension": ".py",
   "mimetype": "text/x-python",
   "name": "python",
   "nbconvert_exporter": "python",
   "pygments_lexer": "ipython3",
   "version": "3.13.1"
  }
 },
 "nbformat": 4,
 "nbformat_minor": 2
}
