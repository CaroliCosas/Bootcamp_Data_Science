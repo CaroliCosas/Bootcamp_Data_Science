{
  "nbformat": 4,
  "nbformat_minor": 0,
  "metadata": {
    "colab": {
      "provenance": [],
      "authorship_tag": "ABX9TyMFdzBEUEORJbuz/ZA+0MO+",
      "include_colab_link": true
    },
    "kernelspec": {
      "name": "python3",
      "display_name": "Python 3"
    },
    "language_info": {
      "name": "python"
    }
  },
  "cells": [
    {
      "cell_type": "markdown",
      "metadata": {
        "id": "view-in-github",
        "colab_type": "text"
      },
      "source": [
        "<a href=\"https://colab.research.google.com/github/CaroliCosas/Bootcamp_Data_Science/blob/main/Mod2.ipynb\" target=\"_parent\"><img src=\"https://colab.research.google.com/assets/colab-badge.svg\" alt=\"Open In Colab\"/></a>"
      ]
    },
    {
      "cell_type": "code",
      "source": [
        "import numpy as np\n",
        "import matplotlib.pyplot as plt\n",
        "import seaborn as sns\n",
        "from scipy import stats\n",
        "from collections import Counter"
      ],
      "metadata": {
        "id": "2VJ-tZoSoidy"
      },
      "execution_count": 22,
      "outputs": []
    },
    {
      "cell_type": "code",
      "source": [
        "# Cargar datos\n",
        "def cargar_datos(filepath):\n",
        "    data = np.genfromtxt(filepath, delimiter=\",\", dtype=None, encoding=\"utf-8\", skip_header=1)\n",
        "    price = data[:, 0].astype(float)\n",
        "    bedrooms = data[:, 1].astype(float)\n",
        "    bathrooms = data[:, 2].astype(float)\n",
        "    m2 = data[:, 3].astype(float)\n",
        "    addresses = np.array([addr.replace(\", Madrid\", \"\") for addr in data[:, 4]])\n",
        "    return price, bedrooms, bathrooms, m2, addresses"
      ],
      "metadata": {
        "id": "TYUmTOHNqwoU"
      },
      "execution_count": 23,
      "outputs": []
    },
    {
      "cell_type": "code",
      "source": [
        "# Estadística básica\n",
        "def estadistica_basica(price):\n",
        "    mean_price = np.mean(price)\n",
        "    median_price = np.median(price)\n",
        "    max_price = np.max(price)\n",
        "    min_price = np.min(price)\n",
        "    print(f\"Media: {mean_price}, Mediana: {median_price}, Máximo: {max_price}, Mínimo: {min_price}\")"
      ],
      "metadata": {
        "id": "CjRPvn8Pq0wi"
      },
      "execution_count": 24,
      "outputs": []
    },
    {
      "cell_type": "code",
      "source": [
        "# Histograma y curva de densidad\n",
        "def histograma_curva_densidad(price):\n",
        "    plt.figure(figsize=(10, 6))\n",
        "    sns.histplot(price, kde=True, bins=30, color=\"blue\", alpha=0.6)\n",
        "    plt.title(\"Histograma y Curva de Densidad de Precios\")\n",
        "    plt.xlabel(\"Precio (€)\")\n",
        "    plt.ylabel(\"Frecuencia\")\n",
        "    plt.grid()\n",
        "    plt.show()"
      ],
      "metadata": {
        "id": "J_LhspkBq6Kp"
      },
      "execution_count": 25,
      "outputs": []
    },
    {
      "cell_type": "code",
      "source": [
        "# Cuartiles e IQR\n",
        "def cuartiles_iqr(price):\n",
        "    q1 = np.percentile(price, 25)\n",
        "    q2 = np.percentile(price, 50)\n",
        "    q3 = np.percentile(price, 75)\n",
        "    iqr = q3 - q1\n",
        "    print(f\"Q1: {q1}, Q2: {q2}, Q3: {q3}, IQR: {iqr}\")\n",
        "    return q1, q3, iqr"
      ],
      "metadata": {
        "id": "nMtXRBJUrA6_"
      },
      "execution_count": 26,
      "outputs": []
    },
    {
      "cell_type": "code",
      "source": [
        "# Filtrar por porcentaje\n",
        "def filtrar_por_porcentaje(price):\n",
        "    price_sorted = np.sort(price)\n",
        "    top_20_percent = price_sorted[int(len(price) * 0.8):]\n",
        "    bottom_20_percent = price_sorted[:int(len(price) * 0.2)]\n",
        "    print(f\"Top 20% más caro: {len(top_20_percent)}, Bottom 20% más barato: {len(bottom_20_percent)}\")\n",
        "    return top_20_percent, bottom_20_percent"
      ],
      "metadata": {
        "id": "djlYu68VrGGI"
      },
      "execution_count": 27,
      "outputs": []
    },
    {
      "cell_type": "code",
      "source": [
        "# Moda\n",
        "def moda(addresses):\n",
        "    address_mode = Counter(addresses).most_common(1)\n",
        "    print(f\"Moda de las direcciones: {address_mode}\")"
      ],
      "metadata": {
        "id": "oVWMncpGrK6E"
      },
      "execution_count": 28,
      "outputs": []
    },
    {
      "cell_type": "code",
      "source": [
        "# Varianza y desviación estándar\n",
        "def varianza_desviacion(price):\n",
        "    variance = np.var(price)\n",
        "    std_dev = np.std(price)\n",
        "    print(f\"Varianza: {variance}, Desviación estándar: {std_dev}\")\n",
        "    return variance, std_dev"
      ],
      "metadata": {
        "id": "x4J92Q7MrOtR"
      },
      "execution_count": 29,
      "outputs": []
    },
    {
      "cell_type": "code",
      "source": [
        "# Detectar outliers con Tukey\n",
        "def filtro_outliers_tukey(price, q1, q3, iqr):\n",
        "    upper_limit = q3 + 1.5 * iqr\n",
        "    lower_limit = q1 - 1.5 * iqr\n",
        "    outliers = price[(price > upper_limit) | (price < lower_limit)]\n",
        "    print(f\"Outliers detectados: {len(outliers)}\")\n",
        "    return upper_limit, lower_limit, outliers"
      ],
      "metadata": {
        "id": "WyzZnaL1rTFA"
      },
      "execution_count": 30,
      "outputs": []
    },
    {
      "cell_type": "code",
      "source": [
        "# Graficar outliers\n",
        "def graficar_outliers(price, upper_limit, lower_limit):\n",
        "    plt.figure(figsize=(10, 6))\n",
        "    sns.histplot(price, bins=30, color=\"blue\", alpha=0.6, kde=True)\n",
        "    plt.axvline(upper_limit, color='red', linestyle='dashed', linewidth=1, label=\"Límite Superior\")\n",
        "    plt.axvline(lower_limit, color='blue', linestyle='dashed', linewidth=1, label=\"Límite Inferior\")\n",
        "    plt.legend()\n",
        "    plt.title(\"Outliers con límites marcados\")\n",
        "    plt.grid()\n",
        "    plt.show()"
      ],
      "metadata": {
        "id": "rf1hteC3rjHD"
      },
      "execution_count": 31,
      "outputs": []
    },
    {
      "cell_type": "code",
      "source": [
        "# Matriz de correlación\n",
        "def matriz_correlacion(price, bedrooms, bathrooms, m2):\n",
        "    data_matrix = np.corrcoef([price, bedrooms, bathrooms, m2])\n",
        "    sns.heatmap(data_matrix, annot=True, xticklabels=[\"price\", \"bedrooms\", \"bathrooms\", \"m2\"], yticklabels=[\"price\", \"bedrooms\", \"bathrooms\", \"m2\"])\n",
        "    plt.title(\"Matriz de Correlación\")\n",
        "    plt.show()"
      ],
      "metadata": {
        "id": "J6Y5kEyIrnBP"
      },
      "execution_count": 32,
      "outputs": []
    },
    {
      "cell_type": "code",
      "source": [
        "# Estandarizar\n",
        "def estandarizar(price):\n",
        "    mean_price = np.mean(price)\n",
        "    std_dev_price = np.std(price)\n",
        "    price_std = (price - mean_price) / std_dev_price\n",
        "    return price_std"
      ],
      "metadata": {
        "id": "9H3ScVhnrqfK"
      },
      "execution_count": 33,
      "outputs": []
    },
    {
      "cell_type": "code",
      "source": [
        "# Asimetría y curtosis\n",
        "def asimetria_curtosis(price):\n",
        "    skewness = stats.skew(price)\n",
        "    kurtosis = stats.kurtosis(price)\n",
        "    print(f\"Asimetría: {skewness}, Curtosis: {kurtosis}\")"
      ],
      "metadata": {
        "id": "zqGqAJizruf1"
      },
      "execution_count": 34,
      "outputs": []
    },
    {
      "cell_type": "code",
      "source": [
        "# Transformar distribuciones\n",
        "def transformar_distribuciones(price):\n",
        "    price_log = np.log(price[price > 0])\n",
        "    plt.figure(figsize=(10, 6))\n",
        "    sns.histplot(price_log, kde=True, bins=30, color=\"green\", alpha=0.6)\n",
        "    plt.title(\"Transformación Logarítmica de Precios\")\n",
        "    plt.xlabel(\"Log(Precio)\")\n",
        "    plt.ylabel(\"Frecuencia\")\n",
        "    plt.grid()\n",
        "    plt.show()"
      ],
      "metadata": {
        "id": "rnlLvq4Rry2-"
      },
      "execution_count": 35,
      "outputs": []
    },
    {
      "cell_type": "code",
      "source": [
        "# Contraste de hipótesis\n",
        "def contraste_hipotesis_barrio(price, addresses, barrio_x, barrio_y):\n",
        "    barrio_x_prices = price[addresses == barrio_x]\n",
        "    barrio_y_prices = price[addresses == barrio_y]\n",
        "    t_stat, p_value = stats.ttest_ind(barrio_x_prices, barrio_y_prices, equal_var=False)\n",
        "    print(f\"T-stat: {t_stat}, P-value: {p_value}\")\n",
        "\n",
        "def contraste_hipotesis_baños(price, bathrooms):\n",
        "    three_bathrooms = price[bathrooms >= 3]\n",
        "    one_two_bathrooms = price[(bathrooms == 1) | (bathrooms == 2)]\n",
        "    t_stat, p_value = stats.ttest_ind(three_bathrooms, one_two_bathrooms, equal_var=False)\n",
        "    print(f\"T-stat: {t_stat}, P-value: {p_value}\")"
      ],
      "metadata": {
        "id": "rJXUbSD7r3ih"
      },
      "execution_count": 36,
      "outputs": []
    },
    {
      "cell_type": "code",
      "source": [
        "# Carga del archivo y ejecución de análisis\n",
        "filepath = \"madrid_idealista.csv\"\n",
        "price, bedrooms, bathrooms, m2, addresses = cargar_datos(filepath)\n",
        "estadistica_basica(price)\n",
        "histograma_curva_densidad(price)\n",
        "q1, q3, iqr = cuartiles_iqr(price)\n",
        "filtrar_por_porcentaje(price)\n",
        "moda(addresses)\n",
        "variance, std_dev = varianza_desviacion(price)\n",
        "upper_limit, lower_limit, outliers = filtro_outliers_tukey(price, q1, q3, iqr)\n",
        "graficar_outliers(price, upper_limit, lower_limit)\n",
        "matriz_correlacion(price, bedrooms, bathrooms, m2)\n",
        "price_std = estandarizar(price)\n",
        "asimetria_curtosis(price)\n",
        "transformar_distribuciones(price)"
      ],
      "metadata": {
        "colab": {
          "base_uri": "https://localhost:8080/",
          "height": 634
        },
        "id": "L-55jPwir8xi",
        "outputId": "c9f70c54-0393-41e1-a5f3-5471d338068c"
      },
      "execution_count": 37,
      "outputs": [
        {
          "output_type": "error",
          "ename": "FileNotFoundError",
          "evalue": "madrid_idealista.csv not found.",
          "traceback": [
            "\u001b[0;31m---------------------------------------------------------------------------\u001b[0m",
            "\u001b[0;31mFileNotFoundError\u001b[0m                         Traceback (most recent call last)",
            "\u001b[0;32m<ipython-input-37-6f9364fdbd45>\u001b[0m in \u001b[0;36m<cell line: 3>\u001b[0;34m()\u001b[0m\n\u001b[1;32m      1\u001b[0m \u001b[0;31m# Carga del archivo y ejecución de análisis\u001b[0m\u001b[0;34m\u001b[0m\u001b[0;34m\u001b[0m\u001b[0m\n\u001b[1;32m      2\u001b[0m \u001b[0mfilepath\u001b[0m \u001b[0;34m=\u001b[0m \u001b[0;34m\"madrid_idealista.csv\"\u001b[0m\u001b[0;34m\u001b[0m\u001b[0;34m\u001b[0m\u001b[0m\n\u001b[0;32m----> 3\u001b[0;31m \u001b[0mprice\u001b[0m\u001b[0;34m,\u001b[0m \u001b[0mbedrooms\u001b[0m\u001b[0;34m,\u001b[0m \u001b[0mbathrooms\u001b[0m\u001b[0;34m,\u001b[0m \u001b[0mm2\u001b[0m\u001b[0;34m,\u001b[0m \u001b[0maddresses\u001b[0m \u001b[0;34m=\u001b[0m \u001b[0mcargar_datos\u001b[0m\u001b[0;34m(\u001b[0m\u001b[0mfilepath\u001b[0m\u001b[0;34m)\u001b[0m\u001b[0;34m\u001b[0m\u001b[0;34m\u001b[0m\u001b[0m\n\u001b[0m\u001b[1;32m      4\u001b[0m \u001b[0mestadistica_basica\u001b[0m\u001b[0;34m(\u001b[0m\u001b[0mprice\u001b[0m\u001b[0;34m)\u001b[0m\u001b[0;34m\u001b[0m\u001b[0;34m\u001b[0m\u001b[0m\n\u001b[1;32m      5\u001b[0m \u001b[0mhistograma_curva_densidad\u001b[0m\u001b[0;34m(\u001b[0m\u001b[0mprice\u001b[0m\u001b[0;34m)\u001b[0m\u001b[0;34m\u001b[0m\u001b[0;34m\u001b[0m\u001b[0m\n",
            "\u001b[0;32m<ipython-input-23-49baf6a73e35>\u001b[0m in \u001b[0;36mcargar_datos\u001b[0;34m(filepath)\u001b[0m\n\u001b[1;32m      1\u001b[0m \u001b[0;31m# Cargar datos\u001b[0m\u001b[0;34m\u001b[0m\u001b[0;34m\u001b[0m\u001b[0m\n\u001b[1;32m      2\u001b[0m \u001b[0;32mdef\u001b[0m \u001b[0mcargar_datos\u001b[0m\u001b[0;34m(\u001b[0m\u001b[0mfilepath\u001b[0m\u001b[0;34m)\u001b[0m\u001b[0;34m:\u001b[0m\u001b[0;34m\u001b[0m\u001b[0;34m\u001b[0m\u001b[0m\n\u001b[0;32m----> 3\u001b[0;31m     \u001b[0mdata\u001b[0m \u001b[0;34m=\u001b[0m \u001b[0mnp\u001b[0m\u001b[0;34m.\u001b[0m\u001b[0mgenfromtxt\u001b[0m\u001b[0;34m(\u001b[0m\u001b[0mfilepath\u001b[0m\u001b[0;34m,\u001b[0m \u001b[0mdelimiter\u001b[0m\u001b[0;34m=\u001b[0m\u001b[0;34m\",\"\u001b[0m\u001b[0;34m,\u001b[0m \u001b[0mdtype\u001b[0m\u001b[0;34m=\u001b[0m\u001b[0;32mNone\u001b[0m\u001b[0;34m,\u001b[0m \u001b[0mencoding\u001b[0m\u001b[0;34m=\u001b[0m\u001b[0;34m\"utf-8\"\u001b[0m\u001b[0;34m,\u001b[0m \u001b[0mskip_header\u001b[0m\u001b[0;34m=\u001b[0m\u001b[0;36m1\u001b[0m\u001b[0;34m)\u001b[0m\u001b[0;34m\u001b[0m\u001b[0;34m\u001b[0m\u001b[0m\n\u001b[0m\u001b[1;32m      4\u001b[0m     \u001b[0mprice\u001b[0m \u001b[0;34m=\u001b[0m \u001b[0mdata\u001b[0m\u001b[0;34m[\u001b[0m\u001b[0;34m:\u001b[0m\u001b[0;34m,\u001b[0m \u001b[0;36m0\u001b[0m\u001b[0;34m]\u001b[0m\u001b[0;34m.\u001b[0m\u001b[0mastype\u001b[0m\u001b[0;34m(\u001b[0m\u001b[0mfloat\u001b[0m\u001b[0;34m)\u001b[0m\u001b[0;34m\u001b[0m\u001b[0;34m\u001b[0m\u001b[0m\n\u001b[1;32m      5\u001b[0m     \u001b[0mbedrooms\u001b[0m \u001b[0;34m=\u001b[0m \u001b[0mdata\u001b[0m\u001b[0;34m[\u001b[0m\u001b[0;34m:\u001b[0m\u001b[0;34m,\u001b[0m \u001b[0;36m1\u001b[0m\u001b[0;34m]\u001b[0m\u001b[0;34m.\u001b[0m\u001b[0mastype\u001b[0m\u001b[0;34m(\u001b[0m\u001b[0mfloat\u001b[0m\u001b[0;34m)\u001b[0m\u001b[0;34m\u001b[0m\u001b[0;34m\u001b[0m\u001b[0m\n",
            "\u001b[0;32m/usr/local/lib/python3.10/dist-packages/numpy/lib/npyio.py\u001b[0m in \u001b[0;36mgenfromtxt\u001b[0;34m(fname, dtype, comments, delimiter, skip_header, skip_footer, converters, missing_values, filling_values, usecols, names, excludelist, deletechars, replace_space, autostrip, case_sensitive, defaultfmt, unpack, usemask, loose, invalid_raise, max_rows, encoding, ndmin, like)\u001b[0m\n\u001b[1;32m   1978\u001b[0m         \u001b[0mfname\u001b[0m \u001b[0;34m=\u001b[0m \u001b[0mos_fspath\u001b[0m\u001b[0;34m(\u001b[0m\u001b[0mfname\u001b[0m\u001b[0;34m)\u001b[0m\u001b[0;34m\u001b[0m\u001b[0;34m\u001b[0m\u001b[0m\n\u001b[1;32m   1979\u001b[0m     \u001b[0;32mif\u001b[0m \u001b[0misinstance\u001b[0m\u001b[0;34m(\u001b[0m\u001b[0mfname\u001b[0m\u001b[0;34m,\u001b[0m \u001b[0mstr\u001b[0m\u001b[0;34m)\u001b[0m\u001b[0;34m:\u001b[0m\u001b[0;34m\u001b[0m\u001b[0;34m\u001b[0m\u001b[0m\n\u001b[0;32m-> 1980\u001b[0;31m         \u001b[0mfid\u001b[0m \u001b[0;34m=\u001b[0m \u001b[0mnp\u001b[0m\u001b[0;34m.\u001b[0m\u001b[0mlib\u001b[0m\u001b[0;34m.\u001b[0m\u001b[0m_datasource\u001b[0m\u001b[0;34m.\u001b[0m\u001b[0mopen\u001b[0m\u001b[0;34m(\u001b[0m\u001b[0mfname\u001b[0m\u001b[0;34m,\u001b[0m \u001b[0;34m'rt'\u001b[0m\u001b[0;34m,\u001b[0m \u001b[0mencoding\u001b[0m\u001b[0;34m=\u001b[0m\u001b[0mencoding\u001b[0m\u001b[0;34m)\u001b[0m\u001b[0;34m\u001b[0m\u001b[0;34m\u001b[0m\u001b[0m\n\u001b[0m\u001b[1;32m   1981\u001b[0m         \u001b[0mfid_ctx\u001b[0m \u001b[0;34m=\u001b[0m \u001b[0mcontextlib\u001b[0m\u001b[0;34m.\u001b[0m\u001b[0mclosing\u001b[0m\u001b[0;34m(\u001b[0m\u001b[0mfid\u001b[0m\u001b[0;34m)\u001b[0m\u001b[0;34m\u001b[0m\u001b[0;34m\u001b[0m\u001b[0m\n\u001b[1;32m   1982\u001b[0m     \u001b[0;32melse\u001b[0m\u001b[0;34m:\u001b[0m\u001b[0;34m\u001b[0m\u001b[0;34m\u001b[0m\u001b[0m\n",
            "\u001b[0;32m/usr/local/lib/python3.10/dist-packages/numpy/lib/_datasource.py\u001b[0m in \u001b[0;36mopen\u001b[0;34m(path, mode, destpath, encoding, newline)\u001b[0m\n\u001b[1;32m    191\u001b[0m \u001b[0;34m\u001b[0m\u001b[0m\n\u001b[1;32m    192\u001b[0m     \u001b[0mds\u001b[0m \u001b[0;34m=\u001b[0m \u001b[0mDataSource\u001b[0m\u001b[0;34m(\u001b[0m\u001b[0mdestpath\u001b[0m\u001b[0;34m)\u001b[0m\u001b[0;34m\u001b[0m\u001b[0;34m\u001b[0m\u001b[0m\n\u001b[0;32m--> 193\u001b[0;31m     \u001b[0;32mreturn\u001b[0m \u001b[0mds\u001b[0m\u001b[0;34m.\u001b[0m\u001b[0mopen\u001b[0m\u001b[0;34m(\u001b[0m\u001b[0mpath\u001b[0m\u001b[0;34m,\u001b[0m \u001b[0mmode\u001b[0m\u001b[0;34m,\u001b[0m \u001b[0mencoding\u001b[0m\u001b[0;34m=\u001b[0m\u001b[0mencoding\u001b[0m\u001b[0;34m,\u001b[0m \u001b[0mnewline\u001b[0m\u001b[0;34m=\u001b[0m\u001b[0mnewline\u001b[0m\u001b[0;34m)\u001b[0m\u001b[0;34m\u001b[0m\u001b[0;34m\u001b[0m\u001b[0m\n\u001b[0m\u001b[1;32m    194\u001b[0m \u001b[0;34m\u001b[0m\u001b[0m\n\u001b[1;32m    195\u001b[0m \u001b[0;34m\u001b[0m\u001b[0m\n",
            "\u001b[0;32m/usr/local/lib/python3.10/dist-packages/numpy/lib/_datasource.py\u001b[0m in \u001b[0;36mopen\u001b[0;34m(self, path, mode, encoding, newline)\u001b[0m\n\u001b[1;32m    531\u001b[0m                                       encoding=encoding, newline=newline)\n\u001b[1;32m    532\u001b[0m         \u001b[0;32melse\u001b[0m\u001b[0;34m:\u001b[0m\u001b[0;34m\u001b[0m\u001b[0;34m\u001b[0m\u001b[0m\n\u001b[0;32m--> 533\u001b[0;31m             \u001b[0;32mraise\u001b[0m \u001b[0mFileNotFoundError\u001b[0m\u001b[0;34m(\u001b[0m\u001b[0;34mf\"{path} not found.\"\u001b[0m\u001b[0;34m)\u001b[0m\u001b[0;34m\u001b[0m\u001b[0;34m\u001b[0m\u001b[0m\n\u001b[0m\u001b[1;32m    534\u001b[0m \u001b[0;34m\u001b[0m\u001b[0m\n\u001b[1;32m    535\u001b[0m \u001b[0;34m\u001b[0m\u001b[0m\n",
            "\u001b[0;31mFileNotFoundError\u001b[0m: madrid_idealista.csv not found."
          ]
        }
      ]
    }
  ]
}