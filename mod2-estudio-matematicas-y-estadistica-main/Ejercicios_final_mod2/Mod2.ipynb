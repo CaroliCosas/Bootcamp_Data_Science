{
  "cells": [
    {
      "cell_type": "markdown",
      "metadata": {
        "colab_type": "text",
        "id": "view-in-github"
      },
      "source": [
        "<a href=\"https://colab.research.google.com/github/CaroliCosas/Bootcamp_Data_Science/blob/main/Mod2.ipynb\" target=\"_parent\"><img src=\"https://colab.research.google.com/assets/colab-badge.svg\" alt=\"Open In Colab\"/></a>"
      ]
    },
    {
      "cell_type": "code",
      "execution_count": 1,
      "metadata": {
        "id": "2VJ-tZoSoidy"
      },
      "outputs": [],
      "source": [
        "import numpy as np\n",
        "import matplotlib.pyplot as plt\n",
        "import seaborn as sns\n",
        "from scipy import stats\n",
        "from collections import Counter"
      ]
    },
    {
      "cell_type": "code",
      "execution_count": 2,
      "metadata": {
        "id": "TYUmTOHNqwoU"
      },
      "outputs": [],
      "source": [
        "# Cargar datos\n",
        "def cargar_datos(filepath):\n",
        "    data = np.genfromtxt(filepath, delimiter=\",\", dtype=None, encoding=\"utf-8\", skip_header=1)\n",
        "    price = data[:, 0].astype(float)\n",
        "    baths = data[:, 1].astype(float)\n",
        "    rooms = data[:, 2].astype(float)\n",
        "    m2 = data[:, 3].astype(float)\n",
        "    addresses = np.array([addr.replace(\", Madrid\", \"\") for addr in data[:, 4]])\n",
        "    return price, baths, rooms, m2, addresses"
      ]
    },
    {
      "cell_type": "code",
      "execution_count": 3,
      "metadata": {
        "id": "CjRPvn8Pq0wi"
      },
      "outputs": [],
      "source": [
        "# Estadística básica\n",
        "def estadistica_basica(price):\n",
        "    mean_price = np.mean(price)\n",
        "    median_price = np.median(price)\n",
        "    max_price = np.max(price)\n",
        "    min_price = np.min(price)\n",
        "    print(f\"Media: {mean_price}, Mediana: {median_price}, Máximo: {max_price}, Mínimo: {min_price}\")"
      ]
    },
    {
      "cell_type": "code",
      "execution_count": 4,
      "metadata": {
        "id": "J_LhspkBq6Kp"
      },
      "outputs": [],
      "source": [
        "# Histograma y curva de densidad\n",
        "def histograma_curva_densidad(price):\n",
        "    plt.figure(figsize=(10, 6))\n",
        "    sns.histplot(price, kde=True, bins=30, color=\"blue\", alpha=0.6)\n",
        "    plt.title(\"Histograma y Curva de Densidad de Precios\")\n",
        "    plt.xlabel(\"Precio (€)\")\n",
        "    plt.ylabel(\"Frecuencia\")\n",
        "    plt.grid()\n",
        "    plt.show()"
      ]
    },
    {
      "cell_type": "code",
      "execution_count": 5,
      "metadata": {
        "id": "nMtXRBJUrA6_"
      },
      "outputs": [],
      "source": [
        "# Cuartiles e IQR\n",
        "def cuartiles_iqr(price):\n",
        "    q1 = np.percentile(price, 25)\n",
        "    q2 = np.percentile(price, 50)\n",
        "    q3 = np.percentile(price, 75)\n",
        "    iqr = q3 - q1\n",
        "    print(f\"Q1: {q1}, Q2: {q2}, Q3: {q3}, IQR: {iqr}\")\n",
        "    return q1, q3, iqr"
      ]
    },
    {
      "cell_type": "code",
      "execution_count": 6,
      "metadata": {
        "id": "djlYu68VrGGI"
      },
      "outputs": [],
      "source": [
        "# Filtrar por porcentaje\n",
        "def filtrar_por_porcentaje(price):\n",
        "    price_sorted = np.sort(price)\n",
        "    top_20_percent = price_sorted[int(len(price) * 0.8):]\n",
        "    bottom_20_percent = price_sorted[:int(len(price) * 0.2)]\n",
        "    print(f\"Top 20% más caro: {len(top_20_percent)}, Bottom 20% más barato: {len(bottom_20_percent)}\")\n",
        "    return top_20_percent, bottom_20_percent"
      ]
    },
    {
      "cell_type": "code",
      "execution_count": 7,
      "metadata": {
        "id": "oVWMncpGrK6E"
      },
      "outputs": [],
      "source": [
        "# Moda\n",
        "def moda(addresses):\n",
        "    address_mode = Counter(addresses).most_common(1)\n",
        "    print(f\"Moda de las direcciones: {address_mode}\")"
      ]
    },
    {
      "cell_type": "code",
      "execution_count": 8,
      "metadata": {
        "id": "x4J92Q7MrOtR"
      },
      "outputs": [],
      "source": [
        "# Varianza y desviación estándar\n",
        "def varianza_desviacion(price):\n",
        "    variance = np.var(price)\n",
        "    std_dev = np.std(price)\n",
        "    print(f\"Varianza: {variance}, Desviación estándar: {std_dev}\")\n",
        "    return variance, std_dev"
      ]
    },
    {
      "cell_type": "code",
      "execution_count": 9,
      "metadata": {
        "id": "WyzZnaL1rTFA"
      },
      "outputs": [],
      "source": [
        "# Detectar outliers con Tukey\n",
        "def filtro_outliers_tukey(price, q1, q3, iqr):\n",
        "    upper_limit = q3 + 1.5 * iqr\n",
        "    lower_limit = q1 - 1.5 * iqr\n",
        "    outliers = price[(price > upper_limit) | (price < lower_limit)]\n",
        "    print(f\"Outliers detectados: {len(outliers)}\")\n",
        "    return upper_limit, lower_limit, outliers"
      ]
    },
    {
      "cell_type": "code",
      "execution_count": 10,
      "metadata": {
        "id": "rf1hteC3rjHD"
      },
      "outputs": [],
      "source": [
        "# Graficar outliers\n",
        "def graficar_outliers(price, upper_limit, lower_limit):\n",
        "    plt.figure(figsize=(10, 6))\n",
        "    sns.histplot(price, bins=30, color=\"blue\", alpha=0.6, kde=True)\n",
        "    plt.axvline(upper_limit, color='red', linestyle='dashed', linewidth=1, label=\"Límite Superior\")\n",
        "    plt.axvline(lower_limit, color='blue', linestyle='dashed', linewidth=1, label=\"Límite Inferior\")\n",
        "    plt.legend()\n",
        "    plt.title(\"Outliers con límites marcados\")\n",
        "    plt.grid()\n",
        "    plt.show()"
      ]
    },
    {
      "cell_type": "code",
      "execution_count": 11,
      "metadata": {
        "id": "J6Y5kEyIrnBP"
      },
      "outputs": [],
      "source": [
        "# Matriz de correlación\n",
        "def matriz_correlacion(price, bedrooms, bathrooms, m2):\n",
        "    data_matrix = np.corrcoef([price, bedrooms, bathrooms, m2])\n",
        "    sns.heatmap(data_matrix, annot=True, xticklabels=[\"price\", \"bedrooms\", \"bathrooms\", \"m2\"], yticklabels=[\"price\", \"bedrooms\", \"bathrooms\", \"m2\"])\n",
        "    plt.title(\"Matriz de Correlación\")\n",
        "    plt.show()"
      ]
    },
    {
      "cell_type": "code",
      "execution_count": 12,
      "metadata": {
        "id": "9H3ScVhnrqfK"
      },
      "outputs": [],
      "source": [
        "# Estandarizar\n",
        "def estandarizar(price):\n",
        "    mean_price = np.mean(price)\n",
        "    std_dev_price = np.std(price)\n",
        "    price_std = (price - mean_price) / std_dev_price\n",
        "    return price_std"
      ]
    },
    {
      "cell_type": "code",
      "execution_count": 13,
      "metadata": {
        "id": "zqGqAJizruf1"
      },
      "outputs": [],
      "source": [
        "# Asimetría y curtosis\n",
        "def asimetria_curtosis(price):\n",
        "    skewness = stats.skew(price)\n",
        "    kurtosis = stats.kurtosis(price)\n",
        "    print(f\"Asimetría: {skewness}, Curtosis: {kurtosis}\")"
      ]
    },
    {
      "cell_type": "code",
      "execution_count": 14,
      "metadata": {
        "id": "rnlLvq4Rry2-"
      },
      "outputs": [],
      "source": [
        "# Transformar distribuciones\n",
        "def transformar_distribuciones(price):\n",
        "    price_log = np.log(price[price > 0])\n",
        "    plt.figure(figsize=(10, 6))\n",
        "    sns.histplot(price_log, kde=True, bins=30, color=\"green\", alpha=0.6)\n",
        "    plt.title(\"Transformación Logarítmica de Precios\")\n",
        "    plt.xlabel(\"Log(Precio)\")\n",
        "    plt.ylabel(\"Frecuencia\")\n",
        "    plt.grid()\n",
        "    plt.show()"
      ]
    },
    {
      "cell_type": "code",
      "execution_count": 15,
      "metadata": {
        "id": "rJXUbSD7r3ih"
      },
      "outputs": [],
      "source": [
        "# Contraste de hipótesis\n",
        "def contraste_hipotesis_barrio(price, addresses, barrio_x, barrio_y):\n",
        "    barrio_x_prices = price[addresses == barrio_x]\n",
        "    barrio_y_prices = price[addresses == barrio_y]\n",
        "    t_stat, p_value = stats.ttest_ind(barrio_x_prices, barrio_y_prices, equal_var=False)\n",
        "    print(f\"T-stat: {t_stat}, P-value: {p_value}\")\n",
        "\n",
        "def contraste_hipotesis_baños(price, bathrooms):\n",
        "    three_bathrooms = price[bathrooms >= 3]\n",
        "    one_two_bathrooms = price[(bathrooms == 1) | (bathrooms == 2)]\n",
        "    t_stat, p_value = stats.ttest_ind(three_bathrooms, one_two_bathrooms, equal_var=False)\n",
        "    print(f\"T-stat: {t_stat}, P-value: {p_value}\")"
      ]
    },
    {
      "cell_type": "code",
      "execution_count": 16,
      "metadata": {
        "colab": {
          "base_uri": "https://localhost:8080/",
          "height": 634
        },
        "id": "L-55jPwir8xi",
        "outputId": "c9f70c54-0393-41e1-a5f3-5471d338068c"
      },
      "outputs": [
        {
          "ename": "IndexError",
          "evalue": "too many indices for array: array is 1-dimensional, but 2 were indexed",
          "output_type": "error",
          "traceback": [
            "\u001b[1;31m---------------------------------------------------------------------------\u001b[0m",
            "\u001b[1;31mIndexError\u001b[0m                                Traceback (most recent call last)",
            "Cell \u001b[1;32mIn[16], line 3\u001b[0m\n\u001b[0;32m      1\u001b[0m \u001b[38;5;66;03m# Carga del archivo y ejecución de análisis\u001b[39;00m\n\u001b[0;32m      2\u001b[0m filepath \u001b[38;5;241m=\u001b[39m \u001b[38;5;124m\"\u001b[39m\u001b[38;5;124m../Data/idealista_madrid.csv\u001b[39m\u001b[38;5;124m\"\u001b[39m \n\u001b[1;32m----> 3\u001b[0m price, baths, rooms, sqft, address \u001b[38;5;241m=\u001b[39m \u001b[43mcargar_datos\u001b[49m\u001b[43m(\u001b[49m\u001b[43mfilepath\u001b[49m\u001b[43m)\u001b[49m\n\u001b[0;32m      4\u001b[0m estadistica_basica(price)\n\u001b[0;32m      5\u001b[0m histograma_curva_densidad(price)\n",
            "Cell \u001b[1;32mIn[2], line 4\u001b[0m, in \u001b[0;36mcargar_datos\u001b[1;34m(filepath)\u001b[0m\n\u001b[0;32m      2\u001b[0m \u001b[38;5;28;01mdef\u001b[39;00m \u001b[38;5;21mcargar_datos\u001b[39m(filepath):\n\u001b[0;32m      3\u001b[0m     data \u001b[38;5;241m=\u001b[39m np\u001b[38;5;241m.\u001b[39mgenfromtxt(filepath, delimiter\u001b[38;5;241m=\u001b[39m\u001b[38;5;124m\"\u001b[39m\u001b[38;5;124m,\u001b[39m\u001b[38;5;124m\"\u001b[39m, dtype\u001b[38;5;241m=\u001b[39m\u001b[38;5;28;01mNone\u001b[39;00m, encoding\u001b[38;5;241m=\u001b[39m\u001b[38;5;124m\"\u001b[39m\u001b[38;5;124mutf-8\u001b[39m\u001b[38;5;124m\"\u001b[39m, skip_header\u001b[38;5;241m=\u001b[39m\u001b[38;5;241m1\u001b[39m)\n\u001b[1;32m----> 4\u001b[0m     price \u001b[38;5;241m=\u001b[39m \u001b[43mdata\u001b[49m\u001b[43m[\u001b[49m\u001b[43m:\u001b[49m\u001b[43m,\u001b[49m\u001b[43m \u001b[49m\u001b[38;5;241;43m0\u001b[39;49m\u001b[43m]\u001b[49m\u001b[38;5;241m.\u001b[39mastype(\u001b[38;5;28mfloat\u001b[39m)\n\u001b[0;32m      5\u001b[0m     baths \u001b[38;5;241m=\u001b[39m data[:, \u001b[38;5;241m1\u001b[39m]\u001b[38;5;241m.\u001b[39mastype(\u001b[38;5;28mfloat\u001b[39m)\n\u001b[0;32m      6\u001b[0m     rooms \u001b[38;5;241m=\u001b[39m data[:, \u001b[38;5;241m2\u001b[39m]\u001b[38;5;241m.\u001b[39mastype(\u001b[38;5;28mfloat\u001b[39m)\n",
            "\u001b[1;31mIndexError\u001b[0m: too many indices for array: array is 1-dimensional, but 2 were indexed"
          ]
        }
      ],
      "source": [
        "# Carga del archivo y ejecución de análisis\n",
        "filepath = \"../Data/idealista_madrid.csv\" \n",
        "price, baths, rooms, sqft, address = cargar_datos(filepath)\n",
        "estadistica_basica(price)\n",
        "histograma_curva_densidad(price)\n",
        "q1, q3, iqr = cuartiles_iqr(price)\n",
        "filtrar_por_porcentaje(price)\n",
        "moda(addresses)\n",
        "variance, std_dev = varianza_desviacion(price)\n",
        "upper_limit, lower_limit, outliers = filtro_outliers_tukey(price, q1, q3, iqr)\n",
        "graficar_outliers(price, upper_limit, lower_limit)\n",
        "matriz_correlacion(price, bedrooms, bathrooms, m2)\n",
        "price_std = estandarizar(price)\n",
        "asimetria_curtosis(price)\n",
        "transformar_distribuciones(price)"
      ]
    }
  ],
  "metadata": {
    "colab": {
      "authorship_tag": "ABX9TyMFdzBEUEORJbuz/ZA+0MO+",
      "include_colab_link": true,
      "provenance": []
    },
    "kernelspec": {
      "display_name": "Python 3",
      "name": "python3"
    },
    "language_info": {
      "codemirror_mode": {
        "name": "ipython",
        "version": 3
      },
      "file_extension": ".py",
      "mimetype": "text/x-python",
      "name": "python",
      "nbconvert_exporter": "python",
      "pygments_lexer": "ipython3",
      "version": "3.13.1"
    }
  },
  "nbformat": 4,
  "nbformat_minor": 0
}
