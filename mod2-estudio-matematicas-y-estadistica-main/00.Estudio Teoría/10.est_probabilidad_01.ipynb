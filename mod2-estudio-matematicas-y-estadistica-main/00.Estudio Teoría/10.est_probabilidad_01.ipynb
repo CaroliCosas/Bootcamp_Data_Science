{
 "cells": [
  {
   "cell_type": "markdown",
   "id": "d97ee591-5f54-47ad-ab65-3dc1b2f9e0e4",
   "metadata": {},
   "source": [
    "## Probabilidad 01 - Introducción\n",
    "\n",
    "- Conceptos de Probabilidad\n",
    "- Reglas de Adición\n",
    "- Probabilidad Condicional\n",
    "- Regla de Multiplicación"
   ]
  },
  {
   "cell_type": "markdown",
   "id": "7179b018",
   "metadata": {},
   "source": [
    "### Conceptos de Probabilidad\n",
    "\n",
    "- **Espacio muestral (S):** es el conjunto de todos los resultado posibles de un experimento aleatorio.\n",
    "- **Evento:** es todo subconjunto del espacio muestral. Se denotan por letras mayúsculas A, B, etc.\n",
    "\n",
    "**Ejemplo:**\n",
    "\n",
    "Sea el **experimento E**: lanzar un dado.\n",
    "\n",
    "**Evento:** que salga un número par.\n",
    "\n",
    "Definimos el evento de la siguiente manera: \n",
    "- A = sale número par = (2, 4, 6)"
   ]
  },
  {
   "cell_type": "markdown",
   "id": "3d3bcbf7",
   "metadata": {},
   "source": [
    "- **Probabilidad:** es el conjunto de posibilidades de que un evento ocurra o no en un momento determinado. Estas posibilidades se miden en una escala del 0 al 1. Donde 0 indica que es imposible que el evento ocurra y 1 indica que el evento ocurrirá con certeza.\n",
    "\n",
    "Si todos los resultados en un espacio muestral S finito son igualmente probables, y E es un evento en ese espacio muestral, entonces la probabilidad del evento E está dada por la siguiente fórmula (definición clásica de la probabilidad)."
   ]
  },
  {
   "cell_type": "markdown",
   "id": "20e8650b",
   "metadata": {},
   "source": [
    "$$\\Large P(E) = \\frac{\\text{# resultados favorables}}{\\text{# total de posibles resultados}} = \\frac{n(E)}{n(S)}$$"
   ]
  },
  {
   "cell_type": "markdown",
   "id": "b9c262f8",
   "metadata": {},
   "source": [
    "### Reglas de Adición\n",
    "\n",
    "\n",
    "#### Eventos Excluyentes:\n",
    "$$\\large{\n",
    "P(A \\cup B) = P(A) + P(B)\\\\\n",
    "P(A \\cap B) = \\emptyset} \n",
    "$$\n",
    "\n",
    "<div align=\"center\">\n",
    "   <img src=\"attachment:4ddcb83a-d927-47a6-ac67-10d22742dad4.png\" width=\"400\">\n",
    "</div>\n"
   ]
  },
  {
   "cell_type": "markdown",
   "id": "97f080ba-24b3-4fb1-b476-f24786204156",
   "metadata": {},
   "source": [
    "#### Eventos No-Excluyentes:\n",
    "$$\\large{\n",
    "P(A \\cup B) = P(A) + P(B) - P(A \\cap B)\\\\\n",
    "P(A \\cap B) \\neq  \\emptyset} \n",
    "$$\n",
    "\n",
    "<div align=\"center\">\n",
    "   <img src=\"attachment:8190dd0e-6de2-4948-856d-96f60d885dc4.png\" width=\"400\">\n",
    "</div>"
   ]
  },
  {
   "cell_type": "markdown",
   "id": "4f64a796",
   "metadata": {},
   "source": [
    "**Ejemplo:** Lanzamiento de un dado. \n",
    "\n",
    "$$\\text{Probabilidad } E: P(E = 1/6)$$\n",
    "\n",
    "**Evento excluyente**: Probabilidad de que salga un número par: $A = {2, 4, 6}$ \n",
    "\n",
    "$$P(A) = P(2) + P(4) + P(6) = 1/6 + 1/6 + 1/6 = 1/2$$\n",
    "\n",
    "**Evento excluyente**: Probabilidad de que salga un número mayor a 3: $A = {4, 5, 6}$\n",
    "\n",
    "$$P(A) = P(4) + P(5) + P(6) = 1/6 + 1/6 + 1/6 = 1/2$$\n",
    "\n",
    "**Evento no excluyente**: Probabilidad de que salga un número par o mayor a 3: \n",
    "\n",
    "- $A = {2, 4, 6}$\n",
    "- $B = {4, 5, 6}$\n",
    "- $A\\cap B = {4, 6}$\n",
    "\n",
    "$$P(A \\cap B) = 2/6 = 1/3$$\n",
    "\n",
    "$$P(A \\cup B) = 1/2 + 1/2 - 1/3 = 2/3 $$"
   ]
  },
  {
   "cell_type": "markdown",
   "id": "461b0f66-20c6-4f92-8ed9-b3c66f6a0e3e",
   "metadata": {},
   "source": [
    "### Probabilidad Condicional\n",
    "\n",
    "La probabilidad condicional, (o probabilidad condicionada) es la probabilidad de que ocurra un evento, dado que otro evento ha ocurrido.\n",
    "\n",
    "Probabilidad condicional de $A$, dado $B$.\n",
    "\n",
    "$$\\large{\n",
    "P(A|B) = \\frac{P(A \\cap B)}{P(B)}, P(B) > 0}\n",
    "$$\n",
    "\n",
    "No es posible que exista $P(A)$ dado $B$, si $B$ no sucede.\n",
    "\n",
    "<div align=\"center\">\n",
    "   <img src=\"attachment:9a863ffb-030a-445c-8e1f-8114da5460cc.png\" width=\"400\">\n",
    "</div>\n",
    "\n",
    "**Ejemplo:**\n",
    "\n",
    "Se clasifica un grupo de 100 ejecutivos, de acuerdo a su peso y a si sufren o no de hipertensión. La tabla muestra el número de ejecutivos en cada categoría.\n",
    "\n",
    "|                | Insuficiente | Normal | Sobrepeso | Total     |\n",
    "|----------------|--------------|--------|-----------|-----------|\n",
    "| **Hipertenso** | 2            | 8      | 10        | 20        |\n",
    "| **Normal**     | 20           | 45     | 15        | 80        |\n",
    "| **Total**      | 22           | 53     | 25        | **100**   |\n",
    "\n",
    "- Si se elige un ejecutivo al azar, ¿cuál es la probabilidad de que tenga hipertensión?\n",
    "\n",
    "$$P(H) = 20/100 = 0.2 = 20\\%$$\n",
    "\n",
    "- Si se elige a una persona al azar, y se descubre que tiene sobrepeso, ¿cuál es la probabilidad de que tenga hipertensión? ¿Es la misma que antes?\n",
    "\n",
    "Probabilidad de que sea hipertenso, sabiendo que tiene sobrepeso:\n",
    "$$P(H|S)$$\n",
    "\n",
    "Para calcularla, nos fijamos sólo en los ejecutivos con sobrepeso:\n",
    "$$P(H|S) = 10/25 = 0.4 = 40\\%$$\n",
    "\n",
    "¿Por qué? es como si eligiese la persona al azar sólo entre los que tienen sobrepeso."
   ]
  },
  {
   "cell_type": "markdown",
   "id": "d6e2d50b-e520-4df5-9738-178e50dd5ebe",
   "metadata": {},
   "source": [
    "#### Regla de la multiplicación\n",
    "\n",
    "- **Eventos dependientes**:\n",
    "$$\\large\n",
    "P(A \\cap B) = P(A) \\cdot P(B|A)\n",
    "$$\n",
    "\n",
    "- **Eventos independientes**:\n",
    "$$\\large\n",
    "P(A \\cap B) = P(A) \\cdot P(B)\n",
    "$$"
   ]
  },
  {
   "cell_type": "markdown",
   "id": "12454176",
   "metadata": {},
   "source": [
    "**Eventos independientes**\n",
    "\n",
    "**Ejemplo:**\n",
    "\n",
    "Tiro de 2 dados. Cual es la probabilidad de que:\n",
    "1. En el primer dado salga un 1: \n",
    "\n",
    "$$P(C) = 1/6$$\n",
    "\n",
    "2. El segundo dado salga un 1, sabiendo que en el primero salió 1:\n",
    "\n",
    "$$P(D|C) = P(D) = 1/6$$\n",
    "\n",
    "3. Que en los 2 dados salga un 1:\n",
    "$$P(C \\cap D) = P(C) * P(D) = 1/6 * 1/6 = 1/36 = 0.027$$"
   ]
  },
  {
   "cell_type": "markdown",
   "id": "4b5ae1df",
   "metadata": {},
   "source": [
    "**Eventos dependientes**\n",
    "\n",
    "**Ejemplo:**\n",
    "\n",
    "De una baraja de poker, saco 2 cartas. Cual es la probabilidad de que:\n",
    "1. La primera carta sea de **corazones**: \n",
    "\n",
    "$$P(A) = 13/52$$\n",
    "\n",
    "2. La segunda sea **espada**, sabiendo que la primera fue **espada**: \n",
    "\n",
    "$$P(B|A) = 12/51$$\n",
    "\n",
    "3. Las dos cartas sean **espada**, sin haber sacado la primera:\n",
    "$$P(A \\cap B) = P(A) * P(B|A) = 13/52 * 12/51 = 156/2652 = 0.058$$"
   ]
  },
  {
   "cell_type": "code",
   "execution_count": null,
   "id": "949985dc",
   "metadata": {},
   "outputs": [],
   "source": [
    "##############################################################################################################################"
   ]
  }
 ],
 "metadata": {
  "kernelspec": {
   "display_name": "Python 3 (ipykernel)",
   "language": "python",
   "name": "python3"
  },
  "language_info": {
   "codemirror_mode": {
    "name": "ipython",
    "version": 3
   },
   "file_extension": ".py",
   "mimetype": "text/x-python",
   "name": "python",
   "nbconvert_exporter": "python",
   "pygments_lexer": "ipython3",
   "version": "3.11.5"
  }
 },
 "nbformat": 4,
 "nbformat_minor": 5
}
