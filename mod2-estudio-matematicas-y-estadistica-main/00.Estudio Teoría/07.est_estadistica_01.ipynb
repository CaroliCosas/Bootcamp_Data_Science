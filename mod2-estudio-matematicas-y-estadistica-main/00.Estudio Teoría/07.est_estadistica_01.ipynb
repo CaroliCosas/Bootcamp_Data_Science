{
 "cells": [
  {
   "cell_type": "markdown",
   "id": "dc78c222",
   "metadata": {},
   "source": [
    "## Estadística\n",
    "\n",
    "La estadística es la ciencia que se encarga de recolectar, organizar, resumir y analizar datos para después obtener conclusiones a partir de ellos. \n",
    "\n",
    "De manera general, la estadística puede ser dividida en dos grandes áreas:\n",
    "- **Estadística descriptiva.**\n",
    "- **Estadística inferencial.**\n",
    "\n",
    "**La estadística descriptiva** es una colección de métodos para la organización, resumen y presentación de datos. \n",
    "\n",
    "**La estadística inferencial** utiliza algunas técnicas que nos ayudan a conocer, con determinado grado de confianza, cierta información de una **población** con base en la información de la muestra obtenida."
   ]
  },
  {
   "cell_type": "code",
   "execution_count": null,
   "id": "f4352cbe",
   "metadata": {},
   "outputs": [],
   "source": [
    "# pip install scipy\n",
    "# pip install pandas\n",
    "# pip install seaborn\n",
    "\n",
    "# o pip install scipy pandas seaborn todo seguido, pero entonces si da fallos no lo vemos \n"
   ]
  },
  {
   "cell_type": "code",
   "execution_count": 6,
   "id": "07183a9d-cc28-4113-8434-b0a12d40a0b4",
   "metadata": {
    "tags": []
   },
   "outputs": [],
   "source": [
    "import numpy as np\n",
    "\n",
    "import scipy\n",
    "from scipy import stats\n",
    "\n",
    "from collections import Counter"
   ]
  },
  {
   "cell_type": "code",
   "execution_count": 7,
   "id": "1017f739-9f3a-4b43-8eaf-c4df0f5b1346",
   "metadata": {
    "tags": []
   },
   "outputs": [
    {
     "name": "stdout",
     "output_type": "stream",
     "text": [
      "numpy==2.2.0\n",
      "scipy==1.14.1\n"
     ]
    }
   ],
   "source": [
    "# Versiones\n",
    "\n",
    "print(f\"numpy=={np.__version__}\")\n",
    "print(f\"scipy=={scipy.__version__}\")"
   ]
  },
  {
   "cell_type": "markdown",
   "id": "649766bf",
   "metadata": {},
   "source": [
    "## Estadística Descriptiva\n",
    "\n",
    "El objetivo principal de la **estadística descriptiva** es, valga la redundancia, describir la información que hemos recopilado. Entre las técnicas/herramientas más utilizadas por la **estadística descriptiva** para describir datos tenemos:\n",
    "- **Tablas.**\n",
    "- **Graficos.**\n",
    "- **Medidas de tendencia central.**\n",
    "- **Medidas de dispersión.**\n",
    "\n",
    "Ejemplos donde se aplica la **estadística descriptiva**:\n",
    "\n",
    "- Los datos del Censo de población de un año determinado.\n",
    "- Fichas de alumnos de un instituto.\n",
    "- Los goles de un equipo de fútbol."
   ]
  },
  {
   "cell_type": "markdown",
   "id": "947910fa",
   "metadata": {},
   "source": [
    "### Conceptos Básicos\n",
    "\n",
    "**1. Población**\n",
    "La población es un conjunto bien definido sobre el que se observa o puede observarse una cierta característica.\n",
    "\n",
    "\n",
    "**2. Individuo**\n",
    "Se llama individuo a cada uno de los elementos de la población. Estos elementos no tienen por qué ser necesariamente personas.\n",
    "\n",
    "**3. Muestra, tamaño**\n",
    "Una muestra es un conjunto de individuos de la población que refleja las características de ésta lo mejor posible.\n",
    "\n",
    "**4. Variable estadística:**\n",
    "Característica que se desea estudiar. Las distintas observaciones de la variable constituyen los datos de la investigación. \n",
    "\n",
    "**5. Variables cualitativas:**\n",
    "Son datos que no son valores numéricos. \n",
    "\n",
    "**6. Variables cuantitativas:** \n",
    "Los datos que son valores numéricos.\n",
    "- **Discretas**: Los datos son números enteros.\n",
    "- **Continuas**: Los datos pueden tomar cualquier valor real.\n",
    "\n",
    "<div align=\"center\">\n",
    "   <img src=\"attachment:6d1a91bf-0284-4e9d-a7f6-677bf4a0d333.png\" width=\"600\">\n",
    "</div>\n",
    "\n",
    "### Escala de las variables\n",
    "\n",
    "**Escala nominal:**\n",
    "Modalidades sin ningún orden ni jerarquía entre ellas. (No podemos realizar operaciones aritméticas entre ellas).\n",
    "\n",
    "- _Ejemplos: género, nacionalidad, número de teléfono..._\n",
    "\n",
    "**Escala ordinal:**\n",
    "Modalidades con algún tipo de orden entre ellas.\n",
    "\n",
    "- _Ejemplos: nivel educativo, cargo militar..._\n",
    "\n",
    "**Escala de intervalos:**\n",
    "Se puede cuantificar numéricamente la distancia entre 2 observaciones.\n",
    "- _Ejemplos: temperatura en grados Celsius, transacción bancaria..._\n",
    "\n",
    "**Escala de proporción:**\n",
    "Se puede cuantificar numéricamente la distancia entre 2 observaciones y fijar un punto de origen como cero absoluto.\n",
    "- _Ejemplos: temperatura en grados Kelvin, peso, estatura..._\n",
    "\n",
    "**Escala binaria:**\n",
    "Son escalas nominales que consisten en elementos binarios que asumen uno de dos valores posibles, como sí o no, verdadero o falso.\n",
    "- _Ejemplos: Hombre/Mujer, Encendido/Apagado, Cara/Cruz..._"
   ]
  },
  {
   "cell_type": "markdown",
   "id": "9d2726ba-8191-4123-9429-4017fc9c4d9e",
   "metadata": {},
   "source": [
    "|Fare |Pclass|Sex   |Survived|Age|\n",
    "|-----|------|------|--------|---|\n",
    "|7.25 |3     |male  |False   |22 |\n",
    "|71.28|1     |female|True    |38 |\n",
    "|7.92 |3     |female|True    |26 |\n",
    "|53.10|1     |female|True    |35 |\n",
    "|8.05 |3     |male  |False   |35 |"
   ]
  },
  {
   "cell_type": "markdown",
   "id": "dc30212c",
   "metadata": {},
   "source": [
    "### Estudio Estadístico\n",
    "\n",
    "Un estudio estadístico es un proceso sistemático que se utiliza para recopilar, analizar e interpretar datos con el objetivo de obtener información sobre una población o fenómeno.\n",
    "\n",
    "Etapas de un estudio estadístico:\n",
    "\n",
    "1. **Planteamiento del problema**: En esta etapa se define el problema que se va a investigar, se establecen los objetivos del estudio y se determina la población o muestra a la que se va a aplicar el estudio.\n",
    "\n",
    "\n",
    "2. **Recolección de datos**: En esta etapa se recopilan los datos necesarios para el estudio. Los datos pueden ser recogidos a través de diferentes métodos, como encuestas, cuestionarios, entrevistas, experimentos o registros administrativos.\n",
    "\n",
    "\n",
    "3. **Preparación de los datos**: En esta etapa se preparan los datos para su análisis. Esto puede incluir la limpieza de los datos, la codificación de las variables y la transformación de los datos.\n",
    "\n",
    "\n",
    "4. **Análisis de los datos**: En esta etapa se analizan los datos para obtener información sobre el problema que se está investigando. Las técnicas de análisis estadístico que se utilizan dependerán del tipo de datos y del problema que se esté investigando.\n",
    "\n",
    "\n",
    "5. **Interpretación de los resultados**: En esta etapa se interpretan los resultados del análisis estadístico. Esto implica comunicar los resultados a los interesados y explicar las implicaciones de los resultados.\n",
    "\n",
    "\n",
    "6. **Conclusiones**: En esta etapa se presentan las conclusiones del estudio y se realizan recomendaciones para la toma de decisiones.\n"
   ]
  },
  {
   "cell_type": "markdown",
   "id": "1832e603-736e-4265-9e16-4e70799b007d",
   "metadata": {},
   "source": [
    "<div align=\"center\">\n",
    "   <img src=\"attachment:4e71fa48-32a6-41de-9953-0c42e0832db9.png\" width=\"700\">\n",
    "</div>"
   ]
  },
  {
   "cell_type": "markdown",
   "id": "35067647",
   "metadata": {},
   "source": [
    "### Exploratory Data Analysis (EDA)\n",
    "\n",
    "El **análisis exploratorio de datos** (_EDA_) es un proceso iterativo de **resumen**, **visualización** y **exploración** de datos para **obtener información sobre sus características y relaciones**.\n",
    "\n",
    "Es un paso esencial que ayuda a descubrir patrones, identificar anomalías y comprender la estructura general de los datos.\n",
    "\n",
    "### Medidas de tendencia central\n",
    "\n",
    "Supongamos que tenemos un conjunto de datos numéricos $x_1,x_2,x_3,x_4...,x_n$, que representan mediciones de alguna variable de interés.\n",
    "\n",
    "Para conocer algunas características globales de esta variable se pueden calcular ciertas medidas o tendencias.\n",
    "\n",
    "**1. Media Aritmética (_mean_)**: La media es la suma de todos los valores divididos por el número total de valores. Suele denotarse con la letra griega _**Mu**_ $\\mu$.\n",
    "\n",
    "$$ \\overline{x} = \\mu = \\frac{\\sum_{i=1}^{n} x_i}{n} $$"
   ]
  },
  {
   "cell_type": "code",
   "execution_count": 12,
   "id": "936f5961",
   "metadata": {
    "tags": []
   },
   "outputs": [
    {
     "name": "stdout",
     "output_type": "stream",
     "text": [
      "Promedio con NumPy: 8.0\n",
      "Promedio rudimentario: 8.0\n",
      "Promedio aún más rudimentario: 8.0\n"
     ]
    }
   ],
   "source": [
    "array = np.array([10, 9, 8, 7, 6])\n",
    "\n",
    "# versión rápida y eficiente\n",
    "mean_np = np.mean(array)\n",
    "print(f\"Promedio con NumPy: {mean_np}\")\n",
    "\n",
    "# versión rudimentaria\n",
    "mean = sum(array)/len(array)\n",
    "print(f\"Promedio rudimentario: {mean}\")\n",
    "\n",
    "# versión aún más rudimentaria\n",
    "tamaño = 0\n",
    "suma = 0\n",
    "for num in array:\n",
    "    tamaño +=1\n",
    "    suma += num\n",
    "\n",
    "media = suma/tamaño\n",
    "print(f\"Promedio aún más rudimentario: {media}\")"
   ]
  },
  {
   "cell_type": "code",
   "execution_count": null,
   "id": "651294f7",
   "metadata": {},
   "outputs": [],
   "source": []
  },
  {
   "cell_type": "code",
   "execution_count": null,
   "id": "ad03a7db",
   "metadata": {},
   "outputs": [],
   "source": []
  },
  {
   "cell_type": "markdown",
   "id": "eaa99974",
   "metadata": {},
   "source": [
    "**2. Mediana (median)**\n",
    "\n",
    "Dada una distribución de frecuencias con los valores ordenados de menor a mayor llamamos mediana y la representamos por $M_e$ al valor de la variable, qué deja a su izquierda el mismo número de frecuencias que a su derecha.\n",
    "\n",
    "$M_e = x_{(k)}$ Para $n$ impar.\n",
    "\n",
    "\n",
    "$M_e = \\frac{ x_{(k)}+ x_{(k+1)}}{2}$ Para $n$ par."
   ]
  },
  {
   "cell_type": "code",
   "execution_count": 13,
   "id": "62af627d",
   "metadata": {},
   "outputs": [
    {
     "name": "stdout",
     "output_type": "stream",
     "text": [
      "Mediana con NumPy: 8.0\n",
      "Mediana rudimentario: 8\n"
     ]
    }
   ],
   "source": [
    "# versión rápida y eficiente\n",
    "median_np = np.median(array)\n",
    "print(f\"Mediana con NumPy: {median_np}\")\n",
    "\n",
    "# versión rudimentaria\n",
    "sorted_array = sorted(array)\n",
    "length = len(array)\n",
    "middle = length//2\n",
    "\n",
    "if length%2 == 0:\n",
    "    elem1 = array[middle - 1]\n",
    "    elem2 = array[middle]\n",
    "    \n",
    "    median = (elem1 + elem2)/2\n",
    "else:\n",
    "    median = array[middle]\n",
    "    \n",
    "print(f\"Mediana rudimentario: {median}\")"
   ]
  },
  {
   "cell_type": "code",
   "execution_count": 18,
   "id": "e5532f41",
   "metadata": {},
   "outputs": [
    {
     "name": "stdout",
     "output_type": "stream",
     "text": [
      "precios_casas media: 119600.32000000002\n",
      "precios_casas mediana: 120000.32\n"
     ]
    }
   ],
   "source": [
    "precios_casas = np.array([120000.32, 120000.32, 115000.32, 122000.32, 121000.32])\n",
    "print(f\"precios_casas media: {np.mean(precios_casas)}\")\n",
    "print(f\"precios_casas mediana: {np.median(precios_casas)}\")\n"
   ]
  },
  {
   "cell_type": "markdown",
   "id": "7b8235a0",
   "metadata": {},
   "source": [
    "**3. Moda (mode)**\n",
    "\n",
    "La moda es el valor de la variable que más veces se repite, y en consecuencia en una distribución de frecuencias es el valor de variable que viene afectada por la máxima frecuencia de la distribución. \n",
    "\n",
    "Se suele usar para la ciudad donde vive un usuario, a datos etiquetados como grupos. Podríamos saber desde que ciudad te visitan mas o te compran mas. \n",
    "Las cookies analíticas permiten saber el navegador que usamos, el dispositivo, el país, el agent, la resolucion del dispositivo que usemos.."
   ]
  },
  {
   "cell_type": "code",
   "execution_count": 19,
   "id": "9d5d2c46",
   "metadata": {},
   "outputs": [
    {
     "name": "stdout",
     "output_type": "stream",
     "text": [
      "Moda con SciPy: ModeResult(mode=np.int64(2), count=np.int64(3))\n",
      "El valor de la moda es 2 y se repite 3 veces\n",
      "Moda rudimentaria: 2, 3\n",
      "El valor de la moda es 2 y se repite 3 veces\n"
     ]
    }
   ],
   "source": [
    "array = np.array([1, 1, 2, 2, 2])\n",
    "\n",
    "# versión rápida y eficiente\n",
    "x = stats.mode(array) # en vez de scipy usa stats\n",
    "print(f\"Moda con SciPy: {x}\")\n",
    "print(f\"El valor de la moda es {x[0]} y se repite {x[1]} veces\")\n",
    "\n",
    "# versión rudimentaria\n",
    "count = 0\n",
    "value = None\n",
    "for key, val in Counter(array).items():\n",
    "    if val > count:\n",
    "        value = key\n",
    "        count = val\n",
    "print(f\"Moda rudimentaria: {value}, {count}\")\n",
    "print(f\"El valor de la moda es {value} y se repite {count} veces\")"
   ]
  },
  {
   "cell_type": "code",
   "execution_count": 20,
   "id": "ba26ba9a",
   "metadata": {},
   "outputs": [
    {
     "name": "stdout",
     "output_type": "stream",
     "text": [
      "Moda con SciPy: ModeResult(mode=np.int64(5), count=np.int64(7))\n",
      "El valor de la moda es 5 y se repite 7 veces\n",
      "Moda rudimentaria: 5, 7\n",
      "El valor de la moda es 5 y se repite 7 veces\n"
     ]
    }
   ],
   "source": [
    "array = np.array([1, 1, 2, 2, 2, 2, 2, 2, 5, 5, 5, 5, 5, 5, 5])\n",
    "\n",
    "# versión rápida y eficiente\n",
    "x = stats.mode(array) # en vez de scipy usa stats\n",
    "print(f\"Moda con SciPy: {x}\")\n",
    "print(f\"El valor de la moda es {x[0]} y se repite {x[1]} veces\")\n",
    "\n",
    "# versión rudimentaria\n",
    "count = 0\n",
    "value = None\n",
    "for key, val in Counter(array).items():\n",
    "    if val > count:\n",
    "        value = key\n",
    "        count = val\n",
    "print(f\"Moda rudimentaria: {value}, {count}\")\n",
    "print(f\"El valor de la moda es {value} y se repite {count} veces\")"
   ]
  },
  {
   "cell_type": "code",
   "execution_count": 29,
   "id": "8fb8060e",
   "metadata": {},
   "outputs": [
    {
     "data": {
      "text/plain": [
       "array(['barcelona', 'gijon', 'madrid', 'salamanca', 'zamora'], dtype='<U9')"
      ]
     },
     "execution_count": 29,
     "metadata": {},
     "output_type": "execute_result"
    }
   ],
   "source": [
    "# np.unique: ver los valores únicos de un conjunto de valores categóticos (textos)\n",
    "array = np.array(['madrid', 'zamora', 'madrid', 'gijon', 'barcelona', 'salamanca', 'barcelona'])\n",
    "np.unique(array)\n"
   ]
  },
  {
   "cell_type": "code",
   "execution_count": 25,
   "id": "9da3ce11",
   "metadata": {},
   "outputs": [
    {
     "name": "stdout",
     "output_type": "stream",
     "text": [
      "Moda con SciPy: ModeResult(mode=np.float64(120000.32), count=np.int64(2))\n",
      "El valor de la moda es 120000.32 y se repite 2 veces\n"
     ]
    }
   ],
   "source": [
    "array = np.array([120000.32, 120000.32, 115000.32, 122000.32, 121000.32])\n",
    "x = stats.mode(array)\n",
    "\n",
    "print(f\"Moda con SciPy: {x}\")\n",
    "print(f\"El valor de la moda es {x[0]} y se repite {x[1]} veces\")\n"
   ]
  },
  {
   "cell_type": "markdown",
   "id": "13dfa617",
   "metadata": {},
   "source": [
    "### Medidas de posición no central (Cuantiles)\n",
    "\n",
    "Los cuantiles son aquellos valores de la muestra, que ordenados de menor a mayor, dividen a la distribución en partes, de tal manera que cada una de ellas contiene el mismo número de frecuencias.\n",
    "\n",
    "**1. Cuartiles (Qi)**:\n",
    "\n",
    "Son valores de la variable que dividen a la distribución en 4 partes, cada una de las cuales engloba el 25 % de las mismas. Se denotan de la siguiente forma: \n",
    "\n",
    "- **Q1** es el primer cuartil que deja a su izquierda el 25% de los datos y a su derecha 75% de los datos.\n",
    "- **Q2** es el segundo cuartil que deja a su izquierda el 50% de los datos y a su derecha 50% de los datos. Es, en esencia, la mediana.\n",
    "- **Q3** es el tercer cuartil que deja a su izquierda el 75% de los datos y a su derecha 25% de los datos. "
   ]
  },
  {
   "cell_type": "code",
   "execution_count": 35,
   "id": "e0e3219a",
   "metadata": {},
   "outputs": [
    {
     "data": {
      "text/plain": [
       "np.int64(5)"
      ]
     },
     "execution_count": 35,
     "metadata": {},
     "output_type": "execute_result"
    }
   ],
   "source": [
    "array = np.array([0, 1, 2, 3, 4, 5, 6, 7, 8, 9, 10, 11])\n",
    "\n",
    "np.quantile(a = array, \n",
    "            q = 0.5,   # 50% \n",
    "            interpolation = \"lower\")"
   ]
  },
  {
   "cell_type": "markdown",
   "id": "dad7b886",
   "metadata": {},
   "source": [
    "**2. Deciles (Di):**\n",
    "\n",
    "Son los valores de la variable que dividen a la distribución en partes iguales, cada una de las cuales engloba el 10 % de los datos. En total habrá 9 deciles. (Q2 = D5 = Median)"
   ]
  },
  {
   "cell_type": "code",
   "execution_count": 38,
   "id": "cbf6a5c1",
   "metadata": {},
   "outputs": [
    {
     "data": {
      "text/plain": [
       "np.int64(4)"
      ]
     },
     "execution_count": 38,
     "metadata": {},
     "output_type": "execute_result"
    }
   ],
   "source": [
    "np.quantile(a = array, \n",
    "            q = 0.40,\n",
    "            interpolation = \"lower\")"
   ]
  },
  {
   "cell_type": "markdown",
   "id": "6be62a21",
   "metadata": {},
   "source": [
    "**3. Centiles o Percentiles (Pi):**\n",
    "\n",
    "Son los valores que dividen a la distribución en 100 partes iguales, cada una de las cuales engloba el 1 % de las observaciones. \n",
    "\n",
    "En total habrá 100 percentiles (de 0 a 99). (Q2 = D5 = Me = P50)"
   ]
  },
  {
   "cell_type": "code",
   "execution_count": 39,
   "id": "181c35cc",
   "metadata": {},
   "outputs": [
    {
     "data": {
      "text/plain": [
       "np.int64(3)"
      ]
     },
     "execution_count": 39,
     "metadata": {},
     "output_type": "execute_result"
    }
   ],
   "source": [
    "np.quantile(a = range(200),\n",
    "            q = 0.02,\n",
    "            interpolation = \"lower\")"
   ]
  },
  {
   "cell_type": "markdown",
   "id": "42cfb104",
   "metadata": {},
   "source": [
    "### Medidas de dispersión \n",
    "\n",
    "Sirven para medir la dispersión de los datos, es decir, cómo de separados están unos de otros."
   ]
  },
  {
   "cell_type": "markdown",
   "id": "daf8e0ff",
   "metadata": {},
   "source": [
    "**1. Rango:**\n",
    "\n",
    "Se define como la diferencia entre el máximo y el mínimo valor de la variable.\n",
    "\n",
    "$$ R = max(x_i) - min (x_i)$$"
   ]
  },
  {
   "cell_type": "code",
   "execution_count": null,
   "id": "fac86518",
   "metadata": {},
   "outputs": [],
   "source": [
    "array = [9, 7, 5, 4, 2]\n",
    "\n",
    "r = np.max(np.array(array)) - np.min(np.array(array))\n",
    "print(r)"
   ]
  },
  {
   "cell_type": "markdown",
   "id": "da930495",
   "metadata": {},
   "source": [
    "**2. Rango intercuartil (Interquartile range):**\n",
    "\n",
    "Se define como la diferencia entre el máximo y el mínimo valor de la variable.\n",
    "\n",
    "$$\n",
    "RIC = IQR = Q3 - Q1\n",
    "$$"
   ]
  },
  {
   "cell_type": "code",
   "execution_count": 41,
   "id": "b4137e01",
   "metadata": {},
   "outputs": [
    {
     "name": "stdout",
     "output_type": "stream",
     "text": [
      "3.0\n"
     ]
    }
   ],
   "source": [
    "# nos sirve para descartar valores anómalos\n",
    "array = [9, 7, 5, 4, 2]\n",
    "\n",
    "q1 = np.quantile(a = np.array(array), q = 0.25)\n",
    "q3 = np.quantile(a = np.array(array), q = 0.75)\n",
    "\n",
    "ric = q3 - q1\n",
    "print(ric)"
   ]
  },
  {
   "cell_type": "markdown",
   "id": "a9bc7b69",
   "metadata": {},
   "source": [
    "**3. Varianza**\n",
    "\n",
    "La varianza mide la mayor o menor dispersión de los valores de la variable respecto a la media aritmética. \n",
    "\n",
    "Cuanto mayor sea la varianza mayor dispersión existirá y por lo tanto menor representatividad tendrá la media aritmética.\n",
    "\n",
    "$$ \\mathbf{S^2} = \\frac{1}{n} \\sum_{i=1}^{n} x_{i}^{2}- \\overline{x}^2$$"
   ]
  },
  {
   "cell_type": "code",
   "execution_count": 43,
   "id": "61769876",
   "metadata": {},
   "outputs": [
    {
     "data": {
      "text/plain": [
       "np.float64(3.254437869822485)"
      ]
     },
     "execution_count": 43,
     "metadata": {},
     "output_type": "execute_result"
    }
   ],
   "source": [
    "array = np.array([1, 1, 1, 3, 3, 3, 5, 5, 5, 5, 5, 6, 6])\n",
    "\n",
    "np.var(array)"
   ]
  },
  {
   "cell_type": "code",
   "execution_count": 49,
   "id": "dd682cfc",
   "metadata": {},
   "outputs": [
    {
     "name": "stdout",
     "output_type": "stream",
     "text": [
      "305941246.984375\n",
      "17491.17626074287\n"
     ]
    }
   ],
   "source": [
    "array = np.array([1, 300, 3000, 30000, 50, 500, 5000, 50000])\n",
    "h = np.var(array)\n",
    "print(h)\n",
    "print(np.sqrt(h))"
   ]
  },
  {
   "cell_type": "markdown",
   "id": "31fe41da",
   "metadata": {},
   "source": [
    "**4. Desviación estándar**\n",
    "\n",
    "Cuantifica la dispersión de los valores que se alejan de la media aritmética, al igual que la varianza; pero la desviación estándar es la raíz cuadrada de la varianza. Se suele denotar por la letra griega _**sigma**_ $\\sigma$.\n",
    "\n",
    "$$ \\mathbf{S} = \\sigma = \\sqrt{\\frac{1}{n} \\sum_{i=1}^{n} x_{i}^{2}- \\overline{x}^2}$$"
   ]
  },
  {
   "cell_type": "code",
   "execution_count": 53,
   "id": "99f0e209",
   "metadata": {},
   "outputs": [
    {
     "name": "stdout",
     "output_type": "stream",
     "text": [
      "1.8040060614705498\n"
     ]
    },
    {
     "data": {
      "text/plain": [
       "np.float64(1.8040060614705498)"
      ]
     },
     "execution_count": 53,
     "metadata": {},
     "output_type": "execute_result"
    }
   ],
   "source": [
    "array = np.array([1, 1, 1, 3, 3, 3, 5, 5, 5, 5, 5, 6, 6])\n",
    "print(np.sqrt(np.var(array)))\n",
    "np.std(array)"
   ]
  },
  {
   "cell_type": "code",
   "execution_count": null,
   "id": "b1daf8ab",
   "metadata": {},
   "outputs": [],
   "source": [
    "array = np.array([1, 1, 1, 3, 3, 3, 5, 5, 5, 5, 5, 6, 6])\n",
    "\n",
    "np.sqrt(np.var(array))"
   ]
  },
  {
   "cell_type": "code",
   "execution_count": null,
   "id": "8d55e323",
   "metadata": {},
   "outputs": [],
   "source": [
    "# versión rudimentaria\n",
    "def std(array):\n",
    "    mean = np.mean(array)\n",
    "    squared_mean = mean**2\n",
    "    squared_elements = [element**2 for element in array]\n",
    "    differences = [element - squared_mean for element in squared_elements]\n",
    "    variance = np.sum(differences)/len(array)\n",
    "    standard_dev = np.sqrt(variance)\n",
    "    return standard_dev"
   ]
  },
  {
   "cell_type": "code",
   "execution_count": null,
   "id": "3e7e724a",
   "metadata": {},
   "outputs": [],
   "source": [
    "array = np.array([1, 1, 1, 3, 3, 3, 5, 5, 5, 5, 5, 6, 6])\n",
    "print(std(array))"
   ]
  },
  {
   "cell_type": "markdown",
   "id": "be6baf53-5e98-4923-9a15-9de5e98deed2",
   "metadata": {},
   "source": [
    "### Tabla de funciones\n",
    "\n",
    "|Función          |Descripción                                |\n",
    "|-----------------|-------------------------------------------|\n",
    "|**np.mean()**    |Calcula la media de un array.              |\n",
    "|**np.median()**  |Calcula la mediana de un array.            |\n",
    "|**np.quantile()**|Cualcula quantiles de un array.            |\n",
    "|**np.var()**     |Calcula la varianza de un array.           |\n",
    "|**np.std()**     |Calcula la desviación estandar de un array.|\n",
    "|**stats.mode()** |Calcula la moda de un array.               |"
   ]
  },
  {
   "cell_type": "code",
   "execution_count": null,
   "id": "bddda0d4",
   "metadata": {},
   "outputs": [],
   "source": [
    "################################################################################################################################"
   ]
  }
 ],
 "metadata": {
  "kernelspec": {
   "display_name": "Python 3",
   "language": "python",
   "name": "python3"
  },
  "language_info": {
   "codemirror_mode": {
    "name": "ipython",
    "version": 3
   },
   "file_extension": ".py",
   "mimetype": "text/x-python",
   "name": "python",
   "nbconvert_exporter": "python",
   "pygments_lexer": "ipython3",
   "version": "3.13.1"
  }
 },
 "nbformat": 4,
 "nbformat_minor": 5
}
