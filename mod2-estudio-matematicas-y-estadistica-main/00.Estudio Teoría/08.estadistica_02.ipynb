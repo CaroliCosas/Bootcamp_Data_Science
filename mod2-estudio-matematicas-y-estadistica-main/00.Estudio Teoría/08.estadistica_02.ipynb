{
 "cells": [
  {
   "cell_type": "markdown",
   "id": "d7941abf",
   "metadata": {},
   "source": [
    "## Estadística Inferencial\n",
    "\n",
    "Se llama estadística inferencial a la rama de la Estadística encargada de hacer deducciones, es decir, inferir propiedades, conclusiones y tendencias, a partir de una muestra del conjunto. Su papel es interpretar, hacer proyecciones y comparaciones."
   ]
  },
  {
   "cell_type": "code",
   "execution_count": null,
   "id": "612f83b1",
   "metadata": {},
   "outputs": [],
   "source": [
    "import numpy as np\n",
    "import matplotlib\n",
    "import matplotlib.pyplot as plt\n",
    "import seaborn as sns\n",
    "\n",
    "from collections import Counter\n",
    "import random\n",
    "import pickle\n",
    "\n",
    "import scipy\n",
    "from scipy import stats"
   ]
  },
  {
   "cell_type": "code",
   "execution_count": null,
   "id": "691e62b5-455d-4494-b483-bcbe817de050",
   "metadata": {
    "tags": []
   },
   "outputs": [],
   "source": [
    "# Versiones\n",
    "\n",
    "print(f\"numpy=={np.__version__}\")\n",
    "print(f\"matplotlib=={matplotlib.__version__}\")\n",
    "print(f\"seaborn=={sns.__version__}\")\n",
    "print(f\"scipy=={scipy.__version__}\")"
   ]
  },
  {
   "cell_type": "markdown",
   "id": "541c5c0f",
   "metadata": {},
   "source": [
    "### Distribución\n",
    "\n",
    "Una distribución es una función que muestra los posibles valores para una variable y con que frecuencia ocurren.\n",
    "\n",
    "\n",
    "**Ejemplo 1**:\n",
    "\n",
    "Podemos crear una distribución usando los posibles valores que aparecen al lanzar un dado de 6 caras, estos serían los numeros del 1 al 6. Como solo hay 6 posibles valores y son independientes entre ellos, podemos decir que la probabilidad de que salga un número es de 1/6.\n",
    "\n",
    "Esto lo podemos representar en una gráfica."
   ]
  },
  {
   "cell_type": "code",
   "execution_count": null,
   "id": "8458d0e4",
   "metadata": {},
   "outputs": [],
   "source": [
    "probabilidades = np.ones(6)/6\n",
    "\n",
    "probabilidades"
   ]
  },
  {
   "cell_type": "code",
   "execution_count": null,
   "id": "7654fc59",
   "metadata": {},
   "outputs": [],
   "source": [
    "plt.bar(range(1, 7), probabilidades)\n",
    "plt.show()"
   ]
  },
  {
   "cell_type": "markdown",
   "id": "f9af21ac",
   "metadata": {},
   "source": [
    "**Esta distribución en particular se le conoce como _Distribución Uniforme_ porque todos los valores son el mismo.**"
   ]
  },
  {
   "cell_type": "markdown",
   "id": "249ecd1b",
   "metadata": {},
   "source": [
    "**Ejemplo 2**:\n",
    "\n",
    "Supongamos que ahora tenemos 2 dados, queremos ver cuales son los posibles resultados:\n",
    "\n",
    "- El menor valor de lanzar 2 dados sería: 2.\n",
    "- El mayor valor de lanzar 2 dados sería: 12."
   ]
  },
  {
   "cell_type": "code",
   "execution_count": null,
   "id": "099e60aa",
   "metadata": {
    "scrolled": true
   },
   "outputs": [],
   "source": [
    "# Posibles resultados\n",
    "\n",
    "resultados = list()\n",
    "\n",
    "for i in range(1, 7):\n",
    "    for j in range(1, 7):\n",
    "        resultados.append((i, j))\n",
    "        \n",
    "resultados"
   ]
  },
  {
   "cell_type": "code",
   "execution_count": null,
   "id": "d4f95a1b",
   "metadata": {},
   "outputs": [],
   "source": [
    "resultados_suma = [sum(res) for res in resultados]\n",
    "\n",
    "conteo = Counter(resultados_suma)\n",
    "\n",
    "for valor, cont in conteo.items():\n",
    "    print(f\"Valor: {valor}\\t Conteo: {cont}\\t Probabilidad: {cont/len(resultados)}\")"
   ]
  },
  {
   "cell_type": "markdown",
   "id": "1cd1552c",
   "metadata": {},
   "source": [
    "**Podemos calcular la probabilidad de que suceda diviendo entre el total de posibilidades, en este caso son 36.**\n",
    "\n",
    "Ahora con estos valores podemos mostrar una distribución de probabilidades."
   ]
  },
  {
   "cell_type": "code",
   "execution_count": null,
   "id": "d77bb76a",
   "metadata": {},
   "outputs": [],
   "source": [
    "probabilidad = [c/36 for c in conteo.values()]\n",
    "\n",
    "plt.bar(conteo.keys(), probabilidad)\n",
    "\n",
    "plt.show()"
   ]
  },
  {
   "cell_type": "markdown",
   "id": "febec1f6",
   "metadata": {},
   "source": [
    "### Distribución Normal\n",
    "\n",
    "La distribución normal (distribución gaussiana o distribución de campana) es una distribución que tiene la característica de:\n",
    "\n",
    "$$media = mediana = moda$$"
   ]
  },
  {
   "cell_type": "code",
   "execution_count": null,
   "id": "e60c7612-cbb3-42ec-8bb2-4d7dd6a56101",
   "metadata": {
    "tags": []
   },
   "outputs": [],
   "source": [
    "# Vamos a generar una lista de 10_000 números aleatorios con media 0 y std 1\n",
    "x = np.random.normal(loc = 0, scale = 1, size = 10_000)\n",
    "\n",
    "# Distribución\n",
    "sns.histplot(x, color = \"magenta\", kde = True)\n",
    "\n",
    "plt.grid()\n",
    "plt.show()"
   ]
  },
  {
   "cell_type": "code",
   "execution_count": null,
   "id": "dc053a86-ace1-431b-8bb3-234a165611fc",
   "metadata": {
    "tags": []
   },
   "outputs": [],
   "source": [
    "print(f\"Media: {np.mean(x)}\")\n",
    "print(f\"Mediana: {np.median(x)}\")"
   ]
  },
  {
   "cell_type": "markdown",
   "id": "f09af228",
   "metadata": {},
   "source": [
    "**Un ejemplo de una distribución normal es el tablero de Galton.**"
   ]
  },
  {
   "cell_type": "code",
   "execution_count": null,
   "id": "f5a7f9a8",
   "metadata": {},
   "outputs": [],
   "source": [
    "def galton_board(num_slots, num_balls):\n",
    "    balls = []\n",
    "\n",
    "    for _ in range(num_balls):\n",
    "        position = num_slots // 2\n",
    "        for _ in range(num_slots - 1):\n",
    "            direction = random.choice([-1, 1])\n",
    "            position = (position + direction) % num_slots\n",
    "            balls.append(position)\n",
    "\n",
    "    return balls\n",
    "\n",
    "x = galton_board(100,10_000)"
   ]
  },
  {
   "cell_type": "code",
   "execution_count": null,
   "id": "9ebf11fd",
   "metadata": {},
   "outputs": [],
   "source": [
    "plt.figure(figsize = (12, 7.5))\n",
    "\n",
    "sns.histplot(x, bins=75)\n",
    "\n",
    "plt.grid()\n",
    "plt.show()"
   ]
  },
  {
   "cell_type": "markdown",
   "id": "fb526016",
   "metadata": {},
   "source": [
    "### Estandarización\n",
    "\n",
    "La estandarización es el proceso de transformación de una variable con **media != 0** y con **std != 1** a **media == 0** y **std == 1**. Este proceso es muy útil cuando necesitamos comparar distribuciones de dos conjuntos de datos diferentes, ya que estaremos transformando ambas a una misma escala sin perder ninguna de las propiedades.\n",
    "\n",
    "Para esto, debemos transformar cada valor, siguiendo la siguiente formula: \n",
    "\n",
    "$$z = \\frac{x_{i} - \\overline{x}}{\\sigma_{x}} = \\frac{x_{i} - mean(x)}{std(x)}$$\n",
    "\n",
    "**Todas las distribuciones pueden ser estandarizadas.**"
   ]
  },
  {
   "cell_type": "code",
   "execution_count": null,
   "id": "e95d0a59",
   "metadata": {},
   "outputs": [],
   "source": [
    "sample = random.sample(x, k = 40)\n",
    "print(sample)"
   ]
  },
  {
   "cell_type": "code",
   "execution_count": null,
   "id": "eddb9216-3cd3-416d-b191-1fc9edcac711",
   "metadata": {
    "tags": []
   },
   "outputs": [],
   "source": [
    "print(f\"Media: {np.mean(sample)}\")\n",
    "print(f\"Mediana: {np.median(sample)}\")\n",
    "print(f\"Moda: {stats.mode(sample)[0]}\")\n",
    "\n",
    "print(f\"std: {np.std(sample)}\")"
   ]
  },
  {
   "cell_type": "code",
   "execution_count": null,
   "id": "2e37eaee",
   "metadata": {
    "scrolled": true
   },
   "outputs": [],
   "source": [
    "media = np.mean(sample)\n",
    "\n",
    "std = np.std(sample)\n",
    "\n",
    "resultados_estandar = [(x - media) / std for x in sample]\n",
    "\n",
    "print(resultados_estandar)"
   ]
  },
  {
   "cell_type": "code",
   "execution_count": null,
   "id": "4a105771",
   "metadata": {},
   "outputs": [],
   "source": [
    "plt.figure(figsize = (8, 5))\n",
    "\n",
    "# Eje X\n",
    "plt.axhline(0, color = \"black\")\n",
    "\n",
    "# Eje Y\n",
    "plt.axvline(0, color = \"black\")\n",
    "\n",
    "# Curva Original\n",
    "sns.kdeplot(sample, color = \"red\", label = \"Original\")\n",
    "\n",
    "# Curva Estandarizada\n",
    "sns.kdeplot(resultados_estandar, color = \"blue\", label = \"Estandar\")\n",
    "\n",
    "plt.legend()\n",
    "plt.grid()\n",
    "plt.show()"
   ]
  },
  {
   "cell_type": "markdown",
   "id": "d09a9fc9",
   "metadata": {},
   "source": [
    "**Ahora la distribución esta centrada en 0, tiene media = mediana = moda = 0 y desviación estandar = 1.**"
   ]
  },
  {
   "cell_type": "code",
   "execution_count": null,
   "id": "ad658c5a",
   "metadata": {},
   "outputs": [],
   "source": [
    "print(f\"Media: {np.mean(resultados_estandar)}\")\n",
    "print(f\"Mediana: {np.median(resultados_estandar)}\")\n",
    "print(f\"Moda: {stats.mode(resultados_estandar)[0]}\")\n",
    "\n",
    "print(f\"std: {np.std(resultados_estandar)}\")"
   ]
  },
  {
   "cell_type": "markdown",
   "id": "d949df6b",
   "metadata": {},
   "source": [
    "### Teorema de Limite Central\n",
    "\n",
    "Por lo general, trabajaremos con muestras de una población, estas muestras tendrán: media, mediana, moda, std, min, max...\n",
    "\n",
    "El Teorema de limite central establece que, si tenemos suficientes muestras diferentes de una población, la distribución de sus medias seguirá una **distribución normal**. A la distribución de medias se le conoce como **distribución de medias muestrales**.\n",
    "\n",
    "Además de que la media de las medias muestrales se aproximará más aún a la media de la población. Todo esto se puede inferir sin conocer la población."
   ]
  },
  {
   "cell_type": "code",
   "execution_count": null,
   "id": "972090e3-5b6e-4ccd-a603-5f03b2d0141a",
   "metadata": {
    "tags": []
   },
   "outputs": [],
   "source": [
    "# Usaremos de ejemplo una lista de números no aleatorios\n",
    "\n",
    "with open(file = \"../Data/tlc.pkl\", mode = \"br\") as file:\n",
    "    tlc = pickle.load(file)\n",
    "    \n",
    "print(len(tlc))"
   ]
  },
  {
   "cell_type": "code",
   "execution_count": null,
   "id": "087ba713",
   "metadata": {},
   "outputs": [],
   "source": [
    "# Vamos a generar un conjunto de 20 muestras aleatorias de un número aleatorio de muestras\n",
    "\n",
    "muestras = [random.sample(population = tlc, k = random.randint(150, 200)) for i in range(20)]\n",
    "\n",
    "print(len(muestras))\n",
    "\n",
    "# muestras[0]"
   ]
  },
  {
   "cell_type": "code",
   "execution_count": null,
   "id": "82345249-1f44-41ca-b11d-da13c11903aa",
   "metadata": {
    "tags": []
   },
   "outputs": [],
   "source": [
    "# Ahora calcularemos la media de cada muestra\n",
    "\n",
    "medias_muestrales = [np.mean(x) for x in muestras] \n",
    "\n",
    "print(medias_muestrales)"
   ]
  },
  {
   "cell_type": "code",
   "execution_count": null,
   "id": "7689fa6e",
   "metadata": {},
   "outputs": [],
   "source": [
    "# Veamos como se distribuyen\n",
    "\n",
    "sns.kdeplot(medias_muestrales, color = \"magenta\")\n",
    "\n",
    "plt.grid()\n",
    "plt.show()"
   ]
  },
  {
   "cell_type": "code",
   "execution_count": null,
   "id": "a8046b3f",
   "metadata": {},
   "outputs": [],
   "source": [
    "print(f\"Media: {np.mean(medias_muestrales)}\")\n",
    "print(f\"Mediana: {np.median(medias_muestrales)}\")\n",
    "print(f\"Moda: {stats.mode(medias_muestrales)[0]}\")\n",
    "\n",
    "print(f\"std: {np.std(medias_muestrales)}\")"
   ]
  },
  {
   "cell_type": "code",
   "execution_count": null,
   "id": "58b6f1b5-8f56-415a-ba33-edccd2297bc1",
   "metadata": {
    "tags": []
   },
   "outputs": [],
   "source": [
    "# Ahora veremos la media del conjunto original (población)\n",
    "\n",
    "np.mean(tlc)"
   ]
  },
  {
   "cell_type": "code",
   "execution_count": null,
   "id": "662025d2-43dc-4703-8716-716bb3241d6f",
   "metadata": {
    "tags": []
   },
   "outputs": [],
   "source": [
    "# Calculemos la diferencia\n",
    "\n",
    "np.abs(np.mean(medias_muestrales) - np.mean(tlc))\n",
    "\n",
    "# Si aumentamos el total de muestras o el tamaño de las muestras nos acercaremos más a la media de la población\n",
    "# Si reducimos el total de muestras o el tamaño de las muestras nos alejaremos más a la media de la población"
   ]
  },
  {
   "cell_type": "markdown",
   "id": "6cb85bc7-b673-4be7-ac25-dbc887fc90e3",
   "metadata": {},
   "source": [
    "### Coeficiente de asimetría (Skewness)\n",
    "\n",
    "Es una medida de la asimetría (falta de simetría) de un conjunto de datos numéricos $x_1, x_2, x_3... x_n$. \n",
    "\n",
    "El coeficiente de asimetría se define con la siguiente ecuación:\n",
    "\n",
    "$$sk = \\frac{1}{\\sigma^3}\\left(\\frac{1}{n}\\sum_{i=1}^{n}(x_i - \\bar{x})^3\\right) $$\n",
    "\n",
    "El coeficiente de asimetría **no posee unidad de medición, es un número que puede ser positivo, negativo o cero.**\n",
    "\n",
    "Su signo es positivo cuando la gráfica de frecuencias de los datos presenta una cola más alargada hacia la derecha de la media. \n",
    "\n",
    "En cambio, el signo del coeficiente de asimetría es negativo cuando la gráfica de frecuencias presenta una cola más alargada hacia la izquierda de la media."
   ]
  },
  {
   "attachments": {
    "5a8e2588-9e15-4a8f-863d-5871e08e8f26.png": {
     "image/png": "[encoded data removed]"
    }
   },
   "cell_type": "markdown",
   "id": "fd5b0c73-7c1c-4ed7-8753-35e0714a983c",
   "metadata": {},
   "source": [
    "<div align=\"center\">\n",
    "   <img src=\"attachment:5a8e2588-9e15-4a8f-863d-5871e08e8f26.png\">\n",
    "</div>"
   ]
  },
  {
   "cell_type": "markdown",
   "id": "8993a93b-0df1-4f76-90ae-b2ee11a71334",
   "metadata": {},
   "source": [
    "Por consiguiente, en el caso simétrico, cuando por cada dato $x_i$, a la izquierda de $\\bar{x}$ hay otro dato a la derecha y a la misma distancia de este punto central, el coeficiente de asimetría es cero."
   ]
  },
  {
   "cell_type": "code",
   "execution_count": null,
   "id": "8db28a77",
   "metadata": {},
   "outputs": [],
   "source": [
    "# Usaremos la lista del teorema del limite central\n",
    "\n",
    "sns.histplot(x = tlc, label = f\"Skewness: {stats.skew(tlc)}\")\n",
    "\n",
    "plt.legend()\n",
    "plt.grid()\n",
    "plt.show()"
   ]
  },
  {
   "cell_type": "markdown",
   "id": "478be3ff-3fc8-4ef2-b664-f28da0c67138",
   "metadata": {},
   "source": [
    "### Curtosis (Kurtosis)\n",
    "\n",
    "La curtosis es un número positivo que no tiene unidad de medición. Cuando una observación $x_i$ dista mucho de la media $\\bar{x}$, al elevar esta distancia a la cuarta potencia  hace que se magnifiquen las distancias grandes, por lo tanto, una curtosis grande puede indicar un mayor número de datos alejados de la media, hacia uno u otro lado.\n",
    "\n",
    "La curtorsis de una distribución normal estándar es igual a 3, la siguiente ecuación para calcular la kurtosis (llamada excess kurtosis) es:\n",
    "\n",
    "$$k_3 = \\frac{1}{s^4}\\left(\\frac{1}{n}\\sum_{i=1}^{n}(x_i - \\bar{x})^4\\right)-3$$"
   ]
  },
  {
   "attachments": {
    "7b6a6e3e-ef0f-4cfe-9e9e-20c34c7e6951.png": {
     "image/png": "[encoded data removed]"
    }
   },
   "cell_type": "markdown",
   "id": "bc234ad1-e33a-4635-ae0e-198902eec31b",
   "metadata": {},
   "source": [
    "<div align=\"center\">\n",
    "   <img src=\"attachment:7b6a6e3e-ef0f-4cfe-9e9e-20c34c7e6951.png\">\n",
    "</div>"
   ]
  },
  {
   "cell_type": "markdown",
   "id": "50294691-6c2b-4778-9b73-4c7878e47936",
   "metadata": {},
   "source": [
    "1. Leptocúrtica ($k_3 > 0$): Decaimiento rápido, cola ligera.\n",
    "2. Mesocúrtica ($k_3=0$): Curva normal.\n",
    "3. Paticúrtica ($k_3<0$ ): Decaimiento lento."
   ]
  },
  {
   "cell_type": "code",
   "execution_count": null,
   "id": "dd89b1af",
   "metadata": {},
   "outputs": [],
   "source": [
    "# Usaremos la lista del teorema del limite central\n",
    "\n",
    "sns.kdeplot(x = tlc, label = f\"Kurtosis: {stats.kurtosis(tlc)}\")\n",
    "\n",
    "plt.legend()\n",
    "plt.grid()\n",
    "plt.show()"
   ]
  },
  {
   "cell_type": "markdown",
   "id": "2b48eec8-bfb0-47d7-9780-069694a48da0",
   "metadata": {},
   "source": [
    "### La Regla 68 - 95 - 99.7 (Regla Empírica/Regla de los Tres Sigmas)\n",
    "\n",
    "En una distribución normal de media $\\mu$ y desviación estándar $\\sigma$:\n",
    "\n",
    "- El **68%** de todas las observaciones se encuentran dentro del intervalo: $\\mu \\pm \\sigma$\n",
    "\n",
    "\n",
    "- El **95%** de todas las observaciones se encuentran dentro del intervalo: $\\mu \\pm 2\\sigma$\n",
    "\n",
    "\n",
    "- El **99.7%** de todas las observaciones se encuentran dentro del intervalo: $\\mu \\pm 3\\sigma$"
   ]
  },
  {
   "attachments": {
    "89d56767-1fcf-4939-94cb-4180a543ed57.png": {
     "image/png": "[encoded data removed]"
    }
   },
   "cell_type": "markdown",
   "id": "8c6d5103-3e09-46c9-9abf-64db36362ffd",
   "metadata": {},
   "source": [
    "<div align=\"center\">\n",
    "   <img src=\"attachment:89d56767-1fcf-4939-94cb-4180a543ed57.png\">\n",
    "</div>"
   ]
  },
  {
   "cell_type": "code",
   "execution_count": null,
   "id": "be5e0a92-6842-4b86-85d9-f095848dd807",
   "metadata": {
    "tags": []
   },
   "outputs": [],
   "source": [
    "# Vamos a hacer un ejemplo: \n",
    "\n",
    "# Vamos a utilizar la lista del teorema del limite central\n",
    "# Hay que tener en cuenta que estos datos no representan una distribución normal\n",
    "# Primero vamos a estandarizar los datos\n",
    "\n",
    "media = np.mean(tlc)\n",
    "std = np.std(tlc)\n",
    "\n",
    "tlc_estandar = [(x - media) / std for x in tlc]\n",
    "\n",
    "# Original\n",
    "sns.kdeplot(tlc, color = \"blue\", label = \"Original\")\n",
    "\n",
    "# Estandarizado\n",
    "sns.kdeplot(tlc_estandar, color = \"magenta\", label = \"Estandarizado\")\n",
    "\n",
    "plt.legend()\n",
    "plt.grid()\n",
    "plt.show()"
   ]
  },
  {
   "cell_type": "code",
   "execution_count": null,
   "id": "1cbdfa7e-6009-4fd8-ba3c-d176434f9eb4",
   "metadata": {
    "tags": []
   },
   "outputs": [],
   "source": [
    "# Veamos la media y std de los datos estandarizados\n",
    "\n",
    "media = np.mean(tlc_estandar)\n",
    "std = np.std(tlc_estandar)\n",
    "\n",
    "print(f\"mean: {media}\")\n",
    "print(f\"std: {std}\")"
   ]
  },
  {
   "cell_type": "code",
   "execution_count": null,
   "id": "4a9049e6-8b9b-4120-b471-18fb191510d1",
   "metadata": {
    "tags": []
   },
   "outputs": [],
   "source": [
    "# Veamos la cantidad de elementos acotados en el 68%\n",
    "# Los datos entre 𝜇 ± 𝜎\n",
    "\n",
    "datos_acotados = [x for x in tlc_estandar if media - 1*std < x < media + 1*std]\n",
    "\n",
    "print(f\"Total de datos acotados: {len(datos_acotados)}\")\n",
    "print(f\"Total de datos: {len(tlc_estandar)}\")\n",
    "print(f\"Porcentaje: {len(datos_acotados)/len(tlc_estandar)*100}\")"
   ]
  },
  {
   "cell_type": "code",
   "execution_count": null,
   "id": "df4223ec-bb84-4334-8269-a33de3102bed",
   "metadata": {
    "tags": []
   },
   "outputs": [],
   "source": [
    "# Veamos la cantidad de elementos acotados en el 95%\n",
    "# Los datos entre 𝜇 ± 2𝜎\n",
    "\n",
    "datos_acotados = [x for x in tlc_estandar if media - 2*std < x < media + 2*std]\n",
    "\n",
    "print(f\"Total de datos acotados: {len(datos_acotados)}\")\n",
    "print(f\"Total de datos: {len(tlc_estandar)}\")\n",
    "print(f\"Porcentaje: {len(datos_acotados)/len(tlc_estandar)*100}\")"
   ]
  },
  {
   "cell_type": "code",
   "execution_count": null,
   "id": "8e21c452-b55d-4678-877e-a0d24b92d9b2",
   "metadata": {
    "tags": []
   },
   "outputs": [],
   "source": [
    "# Veamos la cantidad de elementos acotados en el 99.7%\n",
    "# Los datos entre 𝜇 ± 3𝜎\n",
    "\n",
    "datos_acotados = [x for x in tlc_estandar if media - 3*std < x < media + 3*std]\n",
    "\n",
    "print(f\"Total de datos acotados: {len(datos_acotados)}\")\n",
    "print(f\"Total de datos: {len(tlc_estandar)}\")\n",
    "print(f\"Porcentaje: {len(datos_acotados)/len(tlc_estandar)*100}\")"
   ]
  },
  {
   "cell_type": "code",
   "execution_count": null,
   "id": "06b156a1-1e58-4f73-85a1-4c25f6296070",
   "metadata": {
    "tags": []
   },
   "outputs": [],
   "source": [
    "# Veamos con una gráfica\n",
    "\n",
    "# 𝜇 ± 1𝜎\n",
    "plt.axvline(media + 1*std, color = \"black\", linestyle = \"--\", alpha = 0.25)\n",
    "plt.axvline(media - 1*std, color = \"black\", linestyle = \"--\", alpha = 0.25)\n",
    "\n",
    "# 𝜇 ± 2𝜎\n",
    "plt.axvline(media + 2*std, color = \"black\", linestyle = \"--\", alpha = 0.50)\n",
    "plt.axvline(media - 2*std, color = \"black\", linestyle = \"--\", alpha = 0.50)\n",
    "\n",
    "# 𝜇 ± 3𝜎\n",
    "plt.axvline(media + 3*std, color = \"black\", linestyle = \"--\", alpha = 0.75)\n",
    "plt.axvline(media - 3*std, color = \"black\", linestyle = \"--\", alpha = 0.75)\n",
    "\n",
    "# Estandarizado\n",
    "sns.kdeplot(tlc_estandar, color = \"magenta\")\n",
    "\n",
    "plt.grid(alpha = 0.2)\n",
    "plt.show()"
   ]
  },
  {
   "cell_type": "code",
   "execution_count": null,
   "id": "9dc93a1f-6c11-4e81-811e-74fccf612dd7",
   "metadata": {},
   "outputs": [],
   "source": [
    "################################################################################################################################"
   ]
  }
 ],
 "metadata": {
  "kernelspec": {
   "display_name": "Python 3 (ipykernel)",
   "language": "python",
   "name": "python3"
  },
  "language_info": {
   "codemirror_mode": {
    "name": "ipython",
    "version": 3
   },
   "file_extension": ".py",
   "mimetype": "text/x-python",
   "name": "python",
   "nbconvert_exporter": "python",
   "pygments_lexer": "ipython3",
   "version": "3.11.5"
  }
 },
 "nbformat": 4,
 "nbformat_minor": 5
}
