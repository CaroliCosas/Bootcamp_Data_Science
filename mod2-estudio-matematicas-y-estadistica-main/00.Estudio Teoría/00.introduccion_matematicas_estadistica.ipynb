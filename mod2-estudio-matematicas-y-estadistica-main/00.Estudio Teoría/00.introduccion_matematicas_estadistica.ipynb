{
 "cells": [
  {
   "cell_type": "markdown",
   "id": "86d641a5-79d9-4ba2-8dc7-c3ccba933723",
   "metadata": {},
   "source": [
    "<div align=\"center\">\n",
    "   <img src=\"attachment:7dce9b53-82d7-42bd-b191-cdef50207424.png\" width=\"700\">\n",
    "</div>"
   ]
  },
  {
   "cell_type": "markdown",
   "id": "6cd118ac-5321-4003-a7e9-3206c39b5e51",
   "metadata": {},
   "source": [
    "**NumPy** (_Numerical Python_) es una libería que da soporte para crear vectores y matrices multidimensionales, junto con una gran colección de funciones matemáticas de alto nivel.\n",
    "\n",
    "Es una de las librerías principales para **Data Science** porque ofrece:\n",
    "\n",
    "- **Gran variedad de funciones matemáticas**: funciones trigonométricas y logarítimicas, funciones para cálculo diferencial y algebra lineal, también estadística y muchas otras areas de la matemática.\n",
    "\n",
    "- **Arreglos o estructuras multidimensionales**: Como vectores, matrices o tensores (matrices de 3+ dimensiones).\n",
    "\n",
    "- **Es open-source y cuenta con una gran comunidad activa.**\n",
    "\n",
    "- **Eficiencia**: **NumPy** está implementado en **C** y optimizado para el rendimiento, lo que significa que las operaciones realizadas en arreglos o estructuras de **NumPy** son mucho más rápidas que operaciones similares realizadas con las estructuras estándar de Python.\n",
    "\n",
    "- **Integración**: Se integra fácilmente con otras librerías de Python enfocadas a **Data Science**, como **pandas**, **matplotlib**, **SciKit-Learn** o **SciPy**.\n",
    "\n",
    "\n",
    "con Pandas se programa menos,m tiene más funciones hechoas\n",
    "para aprender matematicas y redes neuronales desde cero, mejor con scikit-learn\n",
    "\n"
   ]
  },
  {
   "cell_type": "markdown",
   "id": "cabcf41c-1b72-421a-8327-aad1da34ba10",
   "metadata": {},
   "source": [
    "Para instalar **NumPy** podemos ejecutar la siguiente linea en la terminal de **Anaconda**:\n",
    "```\n",
    "pip install numpy\n",
    "```\n",
    "\n",
    "Si queremos la última versión podemos ejecutar:\n",
    "```\n",
    "pip install -U numpy\n",
    "```\n",
    "\n",
    "Por lo general, al importar la librería **NumPy** se abrevia como **np**."
   ]
  },
  {
   "cell_type": "code",
   "execution_count": 4,
   "id": "98f2edf4",
   "metadata": {},
   "outputs": [
    {
     "name": "stdout",
     "output_type": "stream",
     "text": [
      "Collecting numpy\n",
      "  Downloading numpy-2.2.0-cp313-cp313-win_amd64.whl.metadata (60 kB)\n",
      "Downloading numpy-2.2.0-cp313-cp313-win_amd64.whl (12.6 MB)\n",
      "   ---------------------------------------- 0.0/12.6 MB ? eta -:--:--\n",
      "   ------------------- -------------------- 6.3/12.6 MB 41.1 MB/s eta 0:00:01\n",
      "   ----------------------------- ---------- 9.2/12.6 MB 25.8 MB/s eta 0:00:01\n",
      "   ---------------------------------------- 12.6/12.6 MB 27.6 MB/s eta 0:00:00\n",
      "Installing collected packages: numpy\n",
      "Successfully installed numpy-2.2.0\n"
     ]
    }
   ],
   "source": [
    "! pip install numpy"
   ]
  },
  {
   "cell_type": "code",
   "execution_count": null,
   "id": "c37467e8-c32b-4d89-8dd8-8f28f38bd74b",
   "metadata": {
    "tags": []
   },
   "outputs": [],
   "source": [
    "import numpy as np # llamaremos al numpy con np"
   ]
  },
  {
   "cell_type": "code",
   "execution_count": 8,
   "id": "eb1fd208-d4d6-476f-bc84-32988aee98c3",
   "metadata": {
    "tags": []
   },
   "outputs": [
    {
     "name": "stdout",
     "output_type": "stream",
     "text": [
      "numpy==2.2.0\n"
     ]
    }
   ],
   "source": [
    "# Versión de NumPy\n",
    "\n",
    "print(f\"numpy=={np.__version__}\")"
   ]
  },
  {
   "cell_type": "markdown",
   "id": "b49f8152-670e-45d4-acc0-dfd47e4626ef",
   "metadata": {},
   "source": [
    "<div align=\"center\">\n",
    "   <img src=\"attachment:f3cced82-fa9b-4c2c-a260-9421f3583cd6.png\" width=\"700\">\n",
    "</div>"
   ]
  },
  {
   "cell_type": "markdown",
   "id": "2f0838a2-9f05-4f48-9f1c-aee2db360e5a",
   "metadata": {},
   "source": [
    "**Matplotlib** (_Mathematical Plot Library_) es una librería ampliamente utilizada para crear visualizaciones de datos."
   ]
  },
  {
   "cell_type": "markdown",
   "id": "80c4d911-ac8a-492d-b6e9-70d396652256",
   "metadata": {},
   "source": [
    "Es una de las librerías principales para visualizaciones en Python:\n",
    "\n",
    "- Amplia variedad de gráficos.\n",
    "\n",
    "- Personalización y control de gráficos.\n",
    "\n",
    "- Compatibilidad con diversos formatos de salida.\n",
    "\n",
    "- Integración con otras librerías de Python, como **NumPy**, **SciPy** o **pandas**.\n",
    "\n",
    "- Es la base para otras librerías de visualización de datos, como **seaborn**."
   ]
  },
  {
   "cell_type": "markdown",
   "id": "1529edee-6b12-44dd-9d60-f414db8abe43",
   "metadata": {},
   "source": [
    "Para instalar **Matplotlib** podemos ejecutar la siguiente linea en la terminal de **Anaconda**:\n",
    "```\n",
    "pip install matplotlib\n",
    "```\n",
    "\n",
    "Si queremos la última versión podemos ejecutar:\n",
    "```\n",
    "pip install -U matplotlib\n",
    "```\n",
    "\n",
    "Por lo general vamos a importar el modulo de **pyplot** de **Matplotlib** y lo abreviaremos como **plt**."
   ]
  },
  {
   "cell_type": "code",
   "execution_count": 7,
   "id": "24fe4bf9",
   "metadata": {},
   "outputs": [
    {
     "name": "stdout",
     "output_type": "stream",
     "text": [
      "Collecting matplotlib\n",
      "  Downloading matplotlib-3.10.0-cp313-cp313-win_amd64.whl.metadata (11 kB)\n",
      "Collecting contourpy>=1.0.1 (from matplotlib)\n",
      "  Downloading contourpy-1.3.1-cp313-cp313-win_amd64.whl.metadata (5.4 kB)\n",
      "Collecting cycler>=0.10 (from matplotlib)\n",
      "  Downloading cycler-0.12.1-py3-none-any.whl.metadata (3.8 kB)\n",
      "Collecting fonttools>=4.22.0 (from matplotlib)\n",
      "  Downloading fonttools-4.55.3-cp313-cp313-win_amd64.whl.metadata (168 kB)\n",
      "Collecting kiwisolver>=1.3.1 (from matplotlib)\n",
      "  Downloading kiwisolver-1.4.7-cp313-cp313-win_amd64.whl.metadata (6.4 kB)\n",
      "Requirement already satisfied: numpy>=1.23 in c:\\users\\carol\\appdata\\local\\programs\\python\\python313\\lib\\site-packages (from matplotlib) (2.2.0)\n",
      "Requirement already satisfied: packaging>=20.0 in c:\\users\\carol\\appdata\\roaming\\python\\python313\\site-packages (from matplotlib) (24.2)\n",
      "Collecting pillow>=8 (from matplotlib)\n",
      "  Downloading pillow-11.0.0-cp313-cp313-win_amd64.whl.metadata (9.3 kB)\n",
      "Collecting pyparsing>=2.3.1 (from matplotlib)\n",
      "  Downloading pyparsing-3.2.0-py3-none-any.whl.metadata (5.0 kB)\n",
      "Requirement already satisfied: python-dateutil>=2.7 in c:\\users\\carol\\appdata\\roaming\\python\\python313\\site-packages (from matplotlib) (2.9.0.post0)\n",
      "Requirement already satisfied: six>=1.5 in c:\\users\\carol\\appdata\\roaming\\python\\python313\\site-packages (from python-dateutil>=2.7->matplotlib) (1.17.0)\n",
      "Downloading matplotlib-3.10.0-cp313-cp313-win_amd64.whl (8.0 MB)\n",
      "   ---------------------------------------- 0.0/8.0 MB ? eta -:--:--\n",
      "   --------------------------- ------------ 5.5/8.0 MB 34.1 MB/s eta 0:00:01\n",
      "   ---------------------------------------- 8.0/8.0 MB 39.7 MB/s eta 0:00:00\n",
      "Downloading contourpy-1.3.1-cp313-cp313-win_amd64.whl (220 kB)\n",
      "Downloading cycler-0.12.1-py3-none-any.whl (8.3 kB)\n",
      "Downloading fonttools-4.55.3-cp313-cp313-win_amd64.whl (2.2 MB)\n",
      "   ---------------------------------------- 0.0/2.2 MB ? eta -:--:--\n",
      "   ---------------------------------------- 2.2/2.2 MB 67.0 MB/s eta 0:00:00\n",
      "Downloading kiwisolver-1.4.7-cp313-cp313-win_amd64.whl (55 kB)\n",
      "Downloading pillow-11.0.0-cp313-cp313-win_amd64.whl (2.6 MB)\n",
      "   ---------------------------------------- 0.0/2.6 MB ? eta -:--:--\n",
      "   ---------------------------------------- 2.6/2.6 MB 73.3 MB/s eta 0:00:00\n",
      "Downloading pyparsing-3.2.0-py3-none-any.whl (106 kB)\n",
      "Installing collected packages: pyparsing, pillow, kiwisolver, fonttools, cycler, contourpy, matplotlib\n",
      "Successfully installed contourpy-1.3.1 cycler-0.12.1 fonttools-4.55.3 kiwisolver-1.4.7 matplotlib-3.10.0 pillow-11.0.0 pyparsing-3.2.0\n"
     ]
    }
   ],
   "source": [
    "! pip install matplotlib"
   ]
  },
  {
   "cell_type": "code",
   "execution_count": 9,
   "id": "9640b2e1-d1f8-47ba-a16b-2cdd3ecd62a9",
   "metadata": {
    "tags": []
   },
   "outputs": [],
   "source": [
    "import matplotlib # Importamos de esta forma para verificar la versión\n",
    "import matplotlib.pyplot as plt #paara llamar al matplotlib usaremos solo plt"
   ]
  },
  {
   "cell_type": "code",
   "execution_count": 10,
   "id": "1a64fb51-70a1-46f0-995d-e9348c27326d",
   "metadata": {
    "tags": []
   },
   "outputs": [
    {
     "name": "stdout",
     "output_type": "stream",
     "text": [
      "matplotlib==3.10.0\n"
     ]
    }
   ],
   "source": [
    "# Versión de Matplotlib\n",
    "\n",
    "print(f\"matplotlib=={matplotlib.__version__}\")"
   ]
  },
  {
   "cell_type": "markdown",
   "id": "b9b454b9-5ab4-43ae-919d-3d1950bd4627",
   "metadata": {},
   "source": [
    "En este modulo utilizaremos principalmente **NumPy** para la manipulación de datos, enforma de vectores o matrices, y la librería **Matplotlib** para las visualizaciones.\n",
    "\n",
    "**Contenido**:\n",
    "\n",
    "- Geometría\n",
    "- Álgebra Lineal\n",
    "- Cálculo Diferencial\n",
    "- Estadístisca\n",
    "- Probabilidad"
   ]
  },
  {
   "cell_type": "code",
   "execution_count": null,
   "id": "5c697093-403a-4681-810a-6ddc49209131",
   "metadata": {
    "tags": []
   },
   "outputs": [],
   "source": [
    "##############################################################################################################################"
   ]
  }
 ],
 "metadata": {
  "kernelspec": {
   "display_name": "Python 3",
   "language": "python",
   "name": "python3"
  },
  "language_info": {
   "codemirror_mode": {
    "name": "ipython",
    "version": 3
   },
   "file_extension": ".py",
   "mimetype": "text/x-python",
   "name": "python",
   "nbconvert_exporter": "python",
   "pygments_lexer": "ipython3",
   "version": "3.13.1"
  }
 },
 "nbformat": 4,
 "nbformat_minor": 5
}
