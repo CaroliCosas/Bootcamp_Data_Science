{
 "cells": [
  {
   "cell_type": "markdown",
   "metadata": {},
   "source": [
    "## Cálculo Diferencial\n",
    "- Funciones Matemáticas\n",
    "- Transformaciones\n",
    "- Derivada\n",
    "- Gradiente Descendente (Algoritmo)"
   ]
  },
  {
   "cell_type": "code",
   "execution_count": null,
   "metadata": {},
   "outputs": [],
   "source": [
    "import numpy as np\n",
    "import matplotlib\n",
    "import matplotlib.pyplot as plt\n",
    "import random"
   ]
  },
  {
   "cell_type": "code",
   "execution_count": null,
   "metadata": {
    "tags": []
   },
   "outputs": [],
   "source": [
    "# Versiones\n",
    "\n",
    "print(f\"numpy=={np.__version__}\")\n",
    "print(f\"matplotlib=={matplotlib.__version__}\")"
   ]
  },
  {
   "cell_type": "markdown",
   "metadata": {},
   "source": [
    "### Funciones Matemáticas"
   ]
  },
  {
   "cell_type": "markdown",
   "metadata": {},
   "source": [
    "Podemos definir una función matemática como un generador de números.\n",
    "\n",
    "Un ejemplo muy simple sería: si se le da de \"comer\" un punto $x$ a una función $f(x)$ esta función va a \"devolver\" un valor $y$.\n",
    "\n",
    "Algunas funciones nos ayudarán para transformar el valor de una lista de números."
   ]
  },
  {
   "cell_type": "markdown",
   "metadata": {},
   "source": [
    "- El **dominio** de una función es el conjunto de salida y representa todos los valores que puede tomar la variable independiente.\n",
    "\n",
    "- El **rango** o \"codominio\" de una función es el conjunto de llegada y representa todos los valores que retorna la función."
   ]
  },
  {
   "cell_type": "markdown",
   "metadata": {},
   "source": [
    "<div align=\"center\">\n",
    "   <img src=\"attachment:531d6ebe-55f1-4d21-ac29-c67c181df8bb.png\" width=\"500\">\n",
    "</div>"
   ]
  },
  {
   "cell_type": "markdown",
   "metadata": {},
   "source": [
    "### Ejemplos de funciones:"
   ]
  },
  {
   "cell_type": "markdown",
   "metadata": {},
   "source": [
    "### Recta\n",
    "\n",
    "$$f(x) = x$$"
   ]
  },
  {
   "cell_type": "code",
   "execution_count": null,
   "metadata": {
    "tags": []
   },
   "outputs": [],
   "source": [
    "# Función Identidad o Recta\n",
    "\n",
    "X = np.linspace(-2, 2)\n",
    "Y = X\n",
    "\n",
    "# Eje X\n",
    "plt.axhline(0, color = \"black\")\n",
    "\n",
    "# Eje Y\n",
    "plt.axvline(0, color = \"black\")\n",
    "\n",
    "# Curva de la Función\n",
    "plt.plot(X, Y, color = \"magenta\")\n",
    "\n",
    "plt.grid()\n",
    "plt.show()"
   ]
  },
  {
   "cell_type": "markdown",
   "metadata": {},
   "source": [
    "#### Ecuación Cuadrática\n",
    "$$f(x) = x^2 - 1$$"
   ]
  },
  {
   "cell_type": "code",
   "execution_count": null,
   "metadata": {
    "tags": []
   },
   "outputs": [],
   "source": [
    "# Función cuadrada x**2 - 1\n",
    "\n",
    "X = np.linspace(-2, 2, 1_000)\n",
    "Y = X**2 - 1\n",
    "\n",
    "# Eje X\n",
    "plt.axhline(0, color = \"black\")\n",
    "\n",
    "# Eje Y\n",
    "plt.axvline(0, color = \"black\")\n",
    "\n",
    "# Curva de la Función\n",
    "plt.plot(X, Y, color = \"magenta\")\n",
    "\n",
    "# Linea horizontal punteada\n",
    "plt.axhline(-1, linestyle = \":\", color = \"black\")\n",
    "\n",
    "\n",
    "plt.grid()\n",
    "plt.show()"
   ]
  },
  {
   "cell_type": "markdown",
   "metadata": {
    "tags": []
   },
   "source": [
    "### Función Raíz Cuadrada\n",
    "\n",
    "$$f(x) = \\sqrt[]{x}$$"
   ]
  },
  {
   "cell_type": "code",
   "execution_count": null,
   "metadata": {
    "tags": []
   },
   "outputs": [],
   "source": [
    "# Función raíz cuadrada\n",
    "\n",
    "plt.figure(figsize = (12, 4))\n",
    "\n",
    "X = np.linspace(0, 100, 1_000)\n",
    "Y = np.sqrt(X)\n",
    "\n",
    "# Eje X\n",
    "plt.axhline(0, color = \"black\")\n",
    "\n",
    "# Eje Y\n",
    "plt.axvline(0, color = \"black\")\n",
    "\n",
    "# Curva de la Función\n",
    "plt.plot(X, Y, color = \"magenta\")\n",
    "\n",
    "\n",
    "plt.grid()\n",
    "plt.show()"
   ]
  },
  {
   "cell_type": "markdown",
   "metadata": {},
   "source": [
    "#### \"Campana de Gauss\"\n",
    "\n",
    "$$f(x) = \\frac{1}{1 + x^2}$$"
   ]
  },
  {
   "cell_type": "code",
   "execution_count": null,
   "metadata": {
    "tags": []
   },
   "outputs": [],
   "source": [
    "# \"Campana de Gauss\"\n",
    "\n",
    "plt.figure(figsize = (12, 4))\n",
    "\n",
    "X = np.linspace(-10, 10, 1_000)\n",
    "Y = 1 / (1 + X**2)\n",
    "\n",
    "# Eje X\n",
    "plt.axhline(0, color = \"black\")\n",
    "\n",
    "# Eje Y\n",
    "plt.axvline(0, color = \"black\")\n",
    "\n",
    "# Curva de la Función\n",
    "plt.plot(X, Y, color = \"magenta\")\n",
    "\n",
    "# Linea horizontal punteada\n",
    "plt.axhline(1, linestyle = \":\", color = \"black\")\n",
    "\n",
    "# Función para acotar los límites de la gráfica\n",
    "plt.axis([-10, 10, -1, 2])\n",
    "\n",
    "plt.grid()\n",
    "plt.show()"
   ]
  },
  {
   "cell_type": "markdown",
   "metadata": {},
   "source": [
    "#### Función Sigmoid\n",
    "\n",
    "$$f(x) = \\frac{1}{1 + e^{-x}}$$"
   ]
  },
  {
   "cell_type": "code",
   "execution_count": null,
   "metadata": {
    "tags": []
   },
   "outputs": [],
   "source": [
    "# Función Sigmoid\n",
    "\n",
    "plt.figure(figsize = (12, 4))\n",
    "\n",
    "X = np.linspace(-10, 10, 1_000)\n",
    "Y = 1 / (1 + np.exp(-X))\n",
    "\n",
    "# Eje X\n",
    "plt.axhline(0, color = \"black\")\n",
    "\n",
    "# Eje Y\n",
    "plt.axvline(0, color = \"black\")\n",
    "\n",
    "# Curva de la Función\n",
    "plt.plot(X, Y, color = \"magenta\")\n",
    "\n",
    "# Linea horizontal punteada\n",
    "plt.axhline(1, linestyle = \":\", color = \"black\")\n",
    "\n",
    "\n",
    "# Función para acotar los límites de la gráfica\n",
    "plt.axis([-10, 10, -1, 2])\n",
    "\n",
    "\n",
    "plt.grid()\n",
    "plt.show()"
   ]
  },
  {
   "cell_type": "markdown",
   "metadata": {},
   "source": [
    "#### Función Seno\n",
    "\n",
    "$$f(x) = sin(x)$$"
   ]
  },
  {
   "cell_type": "code",
   "execution_count": null,
   "metadata": {
    "tags": []
   },
   "outputs": [],
   "source": [
    "# Función Seno\n",
    "\n",
    "# Función para cambiar de tamaño la gráfica\n",
    "plt.figure(figsize = (12, 4))\n",
    "\n",
    "X = np.linspace(-10, 10, 1_000)\n",
    "Y = np.sin(X)\n",
    "\n",
    "# Eje X\n",
    "plt.axhline(0, color = \"black\")\n",
    "\n",
    "# Eje Y\n",
    "plt.axvline(0, color = \"black\")\n",
    "\n",
    "# Curva de la Función\n",
    "plt.plot(X, Y, color = \"magenta\")\n",
    "\n",
    "# Linea horizontal punteada\n",
    "plt.axhline(1, linestyle = \":\", color = \"black\")\n",
    "plt.axhline(-1, linestyle = \":\", color = \"black\")\n",
    "\n",
    "# Función para acotar los límites de la gráfica\n",
    "plt.axis([-10, 10, -1.25, 1.25])\n",
    "\n",
    "\n",
    "plt.grid()\n",
    "plt.show()\n",
    "\n",
    "# Se puede probar también con la función Coseno (np.cos())"
   ]
  },
  {
   "cell_type": "markdown",
   "metadata": {},
   "source": [
    "#### Función Logaritmo Neperiano o Natural\n",
    "\n",
    "$$f(x) = log_{e}(x) = ln(x)$$"
   ]
  },
  {
   "cell_type": "code",
   "execution_count": null,
   "metadata": {
    "tags": []
   },
   "outputs": [],
   "source": [
    "# Función Logaritmo Natural\n",
    "\n",
    "plt.figure(figsize = (12, 4))\n",
    "\n",
    "X = np.linspace(0.0001, 10, 1_000)\n",
    "Y = np.log(X)\n",
    "\n",
    "# Eje X\n",
    "plt.axhline(0, color = \"black\")\n",
    "\n",
    "# Eje Y\n",
    "plt.axvline(0, color = \"black\")\n",
    "\n",
    "# Curva de la Función\n",
    "plt.plot(X, Y, color = \"magenta\")\n",
    "\n",
    "# Función para acotar los límites de la gráfica\n",
    "plt.axis([-0.5, 10, -9, 3])\n",
    "\n",
    "plt.grid()\n",
    "plt.show()"
   ]
  },
  {
   "cell_type": "markdown",
   "metadata": {},
   "source": [
    "### Transformación de Datos\n",
    "\n",
    "Podemos transformar datos de un array usando alguna función matemática. Entre las más usadas se encuentran:\n",
    "\n",
    "- Raíz cuadrada: $f(x) = \\sqrt[]{x}$\n",
    "- Logaritmo Natural: $f(x) = log_{e}(x)$\n",
    "- Sigmoid: $f(x) = \\frac{1}{1 + e^{-x}}$"
   ]
  },
  {
   "cell_type": "code",
   "execution_count": null,
   "metadata": {
    "tags": []
   },
   "outputs": [],
   "source": [
    "# Vamos a generar una lista de datos aleatorios\n",
    "\n",
    "datos = [random.randint(1, 100) for i in range(100)]\n",
    "\n",
    "datos = np.array(datos)\n",
    "\n",
    "datos"
   ]
  },
  {
   "cell_type": "code",
   "execution_count": null,
   "metadata": {
    "tags": []
   },
   "outputs": [],
   "source": [
    "# Vamos a Transformar los datos\n",
    "# Raíz cuadrada\n",
    "\n",
    "np.sqrt(datos)"
   ]
  },
  {
   "cell_type": "code",
   "execution_count": null,
   "metadata": {
    "tags": []
   },
   "outputs": [],
   "source": [
    "# Logaritmo Natural\n",
    "\n",
    "np.log(datos)"
   ]
  },
  {
   "cell_type": "code",
   "execution_count": null,
   "metadata": {
    "tags": []
   },
   "outputs": [],
   "source": [
    "# Sigmoid\n",
    "\n",
    "1 / (1 + np.exp(-datos))"
   ]
  },
  {
   "cell_type": "markdown",
   "metadata": {},
   "source": [
    "### Derivada\n",
    "\n",
    "La derivada de una función mide **la tasa de cambio instantánea de la función en un punto dado**, es decir, indica cómo cambia el valor de la función a medida que cambia su variable independiente.\n",
    "\n",
    "Sea $f(x)$ una función derivable en $x$, la derivada de $f(x)$ viene dada por:\n",
    "\n",
    "$$\n",
    "\\large f'(x) = \\frac{dy}{dx} = \\lim_{h \\to 0} \\frac{f(x + h) - f(x)}{h}\n",
    "$$\n",
    "\n",
    "La derivada puede usarse para **encontrar puntos de máximo, mínimo y puntos de inflexión** en la gráfica de una función.\n",
    "\n",
    "Para encontrar la derivada de $f(x)$ en un punto $x$ debemos definir un valor para $h$ que sea lo más pequeño posible. Mientras más pequeño sea este valor más nos acercaremos al valor real de la derivada. Nosotros usaremos $h = 0.0000001$.\n",
    "\n",
    "- **Ejemplo 1**:\n",
    "\n",
    "$$\n",
    "f(x) = x^2\\\\\n",
    "f'(x) = \\frac{dy}{dx} = \\lim_{h \\to 0} \\frac{(x + h)^2 - (x)^2}{h}\n",
    "$$\n",
    "\n",
    "- **Ejemplo 2**:\n",
    "\n",
    "$$\n",
    "f(x) = \\sqrt[]{x}\\\\\n",
    "f'(x) = \\frac{dy}{dx} = \\lim_{h \\to 0} \\frac{\\sqrt[]{x + h} - \\sqrt[]{x}}{h}\n",
    "$$\n",
    "\n",
    "Nota: Usamos la definición de derivada para aplicarla en el algoritmo de **Gradiente Descendente** (_Gradient Descent_) que explicaremos más adelante."
   ]
  },
  {
   "cell_type": "code",
   "execution_count": null,
   "metadata": {
    "tags": []
   },
   "outputs": [],
   "source": [
    "# Funcion x**2\n",
    "\n",
    "h = 1e-7 # 0.0000001\n",
    "x = 3\n",
    "\n",
    "# Derivada de f(x) en el punto x\n",
    "((x + h)**2 - (x)**2) / h"
   ]
  },
  {
   "cell_type": "code",
   "execution_count": null,
   "metadata": {
    "tags": []
   },
   "outputs": [],
   "source": [
    "# Funcion np.sqrt(x)\n",
    "\n",
    "h = 1e-7 # 0.0000001\n",
    "x = 3\n",
    "\n",
    "# Derivada de f(x) en el punto x\n",
    "(np.sqrt(x + h) - np.sqrt(x)) / h"
   ]
  },
  {
   "cell_type": "code",
   "execution_count": null,
   "metadata": {
    "tags": []
   },
   "outputs": [],
   "source": [
    "# Podemos usar cualquier función, siempre y cuando exista en el punto x\n",
    "# Función np.log()\n",
    "\n",
    "h = 1e-7 # 0.0000001\n",
    "x = 3\n",
    "\n",
    "# Derivada de f(x) en el punto x\n",
    "(np.log(x + h) - np.log(x)) / h"
   ]
  },
  {
   "cell_type": "code",
   "execution_count": null,
   "metadata": {
    "tags": []
   },
   "outputs": [],
   "source": [
    "# En este ejemplo, la función np.log() no permite x = 0\n",
    "# Función np.log()\n",
    "\n",
    "h = 1e-7 # 0.0000001\n",
    "x = 0\n",
    "\n",
    "# Derivada de f(x) en el punto x\n",
    "(np.log(x + h) - np.log(x)) / h\n",
    "\n",
    "# NumPy retorna \"inf\", porque la función no es derivable en x = 0"
   ]
  },
  {
   "cell_type": "markdown",
   "metadata": {},
   "source": [
    "### Mínimos y Máximos de una función / Recta Tangente \n",
    "\n",
    "Para **encontrar los mínimos y máximos** de una función derivable hacemos uso de la **recta tangente** en un punto $a$.\n",
    "\n",
    "Para calcular la **recta tangente** podemos usar la siguiente formula:\n",
    "\n",
    "$$\n",
    "\\large y = f'(a)\\cdot(x - a) + f(a)\n",
    "$$\n",
    "\n",
    "Donde $a$ es un punto que pertence a la función y $f'(a)$ es la derivada de la función en ese punto.\n",
    "\n",
    "Para **encontrar los mínimos y máximos** buscamos los valores de $a$ para que la recta sea $y = 0$.\n",
    "\n",
    "- **Ejemplo**:\n",
    "\n",
    "$$\n",
    "f(x) = x^2\\\\\n",
    "a = 0\\\\\n",
    "f(a) = a^2 \\longrightarrow f(0) = 0^2 = 0\\\\\n",
    "h = 0.0000001\\\\\n",
    "f'(a) = \\frac{(a + h)^2 - (a)^2}{h} \\longrightarrow f'(0) = \\frac{(0 + h)^2 - (0)^2}{h} = 0\\\\\n",
    "y = f'(a)\\cdot(x - a) + f(a) \\longrightarrow y = 0\\cdot(x - 0) + 0 \\longrightarrow y = 0\n",
    "$$\n"
   ]
  },
  {
   "cell_type": "code",
   "execution_count": null,
   "metadata": {},
   "outputs": [],
   "source": [
    "# ########## Derivada ##########\n",
    "# Función x**2\n",
    "\n",
    "x = np.linspace(-10, 10, 100)\n",
    "y = x**2 # Función\n",
    "\n",
    "h = 1e-7 # 0.0000001\n",
    "a = 0\n",
    "\n",
    "# Punto Tangente\n",
    "\n",
    "punto_tangente = (a)**2\n",
    "\n",
    "# Derivada de f(x) en el punto a -> f'(a)\n",
    "derivada_a = ((a + h)**2 - (a)**2) / h\n",
    "\n",
    "recta_tangente = derivada_a*(x - a) + punto_tangente\n",
    "\n",
    "# ########## Gráfica ##########\n",
    "\n",
    "# Eje X\n",
    "plt.axhline(0, color = \"black\")\n",
    "\n",
    "# Eje Y\n",
    "plt.axvline(0, color = \"black\")\n",
    "\n",
    "# Función\n",
    "plt.plot(x, y, label = \"Función\")\n",
    "\n",
    "# Punto Tangente (a, f(a))\n",
    "plt.plot(a, punto_tangente, marker = \"o\", label = \"Punto Tangente\")\n",
    "\n",
    "# Recta Tangente\n",
    "plt.plot(x, recta_tangente, label = \"Recta Tangente\")\n",
    "\n",
    "# Función para acotar los límites de la gráfica\n",
    "plt.axis([-10, 10, -10, 100])\n",
    "\n",
    "plt.legend(loc = \"upper right\")\n",
    "plt.grid()\n",
    "plt.show()"
   ]
  },
  {
   "cell_type": "code",
   "execution_count": null,
   "metadata": {
    "tags": []
   },
   "outputs": [],
   "source": [
    "# ########## Derivada ##########\n",
    "# Función x**2 + 100\n",
    "\n",
    "x = np.linspace(-10, 10, 100)\n",
    "y = x**2 + 100 # Función\n",
    "\n",
    "h = 1e-7 # 0.0000001\n",
    "a = 0\n",
    "\n",
    "# Punto Tangente\n",
    "\n",
    "punto_tangente = (a)**2 + 100\n",
    "\n",
    "# Derivada de f(x) en el punto a -> f'(a)\n",
    "derivada_a = ((a + h)**2 + 100 - ((a)**2 + 100)) / h\n",
    "\n",
    "recta_tangente = derivada_a*(x - a) + punto_tangente\n",
    "\n",
    "# ########## Gráfica ##########\n",
    "\n",
    "# Eje X\n",
    "plt.axhline(0, color = \"black\")\n",
    "\n",
    "# Eje Y\n",
    "plt.axvline(0, color = \"black\")\n",
    "\n",
    "# Función\n",
    "plt.plot(x, y, label = \"Función\")\n",
    "\n",
    "# Punto Tangente (a, f(a))\n",
    "plt.plot(a, punto_tangente, marker = \"o\", label = \"Punto Tangente\")\n",
    "\n",
    "# Recta Tangente\n",
    "plt.plot(x, recta_tangente, label = \"Recta Tangente\")\n",
    "\n",
    "# Función para acotar los límites de la gráfica\n",
    "plt.axis([-10, 10, -10, 200])\n",
    "\n",
    "plt.legend(loc = \"upper right\")\n",
    "plt.grid()\n",
    "plt.show()"
   ]
  },
  {
   "cell_type": "code",
   "execution_count": null,
   "metadata": {
    "tags": []
   },
   "outputs": [],
   "source": [
    "# Podriamos hacer una función en Python para calcular varios puntos\n",
    "\n",
    "def derivada_recta_tangente(valores):\n",
    "    \n",
    "    # ########## Derivada ##########\n",
    "    # Función x**2\n",
    "    \n",
    "    x = np.linspace(-10, 10, 100)\n",
    "    y = x**2 # Función\n",
    "\n",
    "    h = 1e-7 # 0.0000001\n",
    "\n",
    "    # Puntos Tangentes\n",
    "    \n",
    "    valores_punto_tangente = [a**2 for a in valores]\n",
    "\n",
    "    # Derivada de f(x) en el punto a -> f'(a)\n",
    "    valores_derivada_a = [((a + h)**2 - (a)**2) / h for a in valores]\n",
    "\n",
    "    valores_recta_tangente = [derivada_a*(x - a) + punto_tangente for a, punto_tangente, derivada_a in zip(valores, valores_punto_tangente, valores_derivada_a)]\n",
    "\n",
    "    # ########## Gráfica ##########\n",
    "\n",
    "    # Eje X\n",
    "    plt.axhline(0, color = \"black\")\n",
    "\n",
    "    # Eje Y\n",
    "    plt.axvline(0, color = \"black\")\n",
    "\n",
    "    # Función\n",
    "    plt.plot(x, y)\n",
    "    \n",
    "    for i in range(len(valores)):\n",
    "        \n",
    "        # Punto Tangente (a, f(a))\n",
    "        plt.plot(valores[i], valores_punto_tangente[i], marker = \"o\", label = f\"f'({valores[i]}) = {valores_punto_tangente[i]}\")\n",
    "\n",
    "        # Recta Tangente\n",
    "        plt.plot(x, valores_recta_tangente[i])\n",
    "\n",
    "        # Función para acotar los límites de la gráfica\n",
    "        # plt.axis([-10, 10, -10, 200])\n",
    "\n",
    "    plt.legend(loc = \"upper right\")\n",
    "    plt.grid()\n",
    "    plt.show()"
   ]
  },
  {
   "cell_type": "code",
   "execution_count": null,
   "metadata": {
    "tags": []
   },
   "outputs": [],
   "source": [
    "# Probamos la función\n",
    "\n",
    "derivada_recta_tangente([-5, 0, 5])"
   ]
  },
  {
   "cell_type": "markdown",
   "metadata": {},
   "source": [
    "\n"
   ]
  },
  {
   "cell_type": "markdown",
   "metadata": {},
   "source": [
    "### Gradiente Descendente (_Gradient Descent_)\n",
    "\n",
    "Es un algoritmo iterativo para **encontrar el mínimo de una función**. Se utiliza en en diferentes contextos, en Data Science se utiliza en el entrenamiento de Redes Neuronales (_Deep Learning_) y otros modelos de Machine Learning"
   ]
  },
  {
   "cell_type": "markdown",
   "metadata": {},
   "source": [
    "<div align=\"center\">\n",
    "   <img src=\"attachment:9a2e5e72-f5f4-4d42-998d-9b3e3c86cfa7.png\">\n",
    "</div>"
   ]
  },
  {
   "cell_type": "markdown",
   "metadata": {},
   "source": [
    "Para calcular el **Gradiente Descendente** debemos definir algunos parámetros:\n",
    "- $X_0$: El valor inicial que usaremos para recorrer la función.\n",
    "- $\\text {Learning Rate}$ o $lr$: La velocidad de cambio, la velocidad en la que vamos a mover o recorrer la función.\n",
    "- $f(x)$: La función.\n",
    "- $f'(x)$ o $\\frac{dy}{dx}$: La derivada de la función.\n",
    "\n",
    "Con estos datos podemos empezar a buscar iterativamente el mínimo de la función."
   ]
  },
  {
   "cell_type": "markdown",
   "metadata": {},
   "source": [
    "**Parametros iniciales**:\n",
    "\n",
    "$$\n",
    "X_0 = 3 \\\\\n",
    "\\text {Learning Rate} = lr =  0.01\\\\\n",
    "f(x) = (x + 5)^2\\\\\n",
    "f'(x) = \\frac{dy}{dx} = \\frac{d}{dx} (x + 5)^2 = 2*(x + 5)\n",
    "$$\n",
    "\n",
    "**Primera Iteración**:\n",
    "\n",
    "$$\n",
    "X_1 = X_0 - lr * \\frac{dy}{dx}(X_0)\\\\\n",
    "X_1 = 3 - 0.001*2*(3 + 5) = 2.84\n",
    "$$\n",
    "\n",
    "**Segunda Iteración**:\n",
    "\n",
    "$$\n",
    "X_2 = X_1 - lr * \\frac{dy}{dx}(X_1)\\\\\n",
    "X_2 = 2.84 - 0.001*2*(2.84 + 5) = 2.6832\n",
    "$$\n",
    "\n",
    "**n-èsima Iteración**:\n",
    "\n",
    "$$\n",
    "X_n = X_{n-1} - lr * \\frac{dy}{dx}(X_{n-1})\\\\\n",
    "$$"
   ]
  },
  {
   "cell_type": "markdown",
   "metadata": {},
   "source": [
    "Consideraciones del **Gradiente Descendente**:\n",
    "- Es un algoritmo simple y eficiente.\n",
    "- Es adaptable a una amplia variedad de problemas o funciones.\n",
    "- El **Gradiente Descendente** puede quedar atrapado en mínimos locales, que no son el mínimo global de la función.\n",
    "- La velocidad de convergencia del **Gradiente Descendente** puede ser lenta si se fija el valor del _**learning rate**_ muy pequeño.\n",
    "\n",
    "**Hablaremos más en profundidad en el modulo de _Deep Learning_. Por el momento solo interesa conocer el concepto y su relevancia en Data Science.**"
   ]
  },
  {
   "cell_type": "code",
   "execution_count": null,
   "metadata": {
    "tags": []
   },
   "outputs": [],
   "source": [
    "# Función: (x + 5)**2\n",
    "\n",
    "x0 = 3\n",
    "lr = 0.01\n",
    "\n",
    "valores = [x0]\n",
    "\n",
    "tol = 0.000001\n",
    "\n",
    "def funcion(x):\n",
    "    return (x + 5)**2\n",
    "\n",
    "def funcion_derivada(x):\n",
    "    return 2*(x + 5)\n",
    "\n",
    "while True:\n",
    "    \n",
    "    xn = valores[-1]-lr*funcion_derivada(x = valores[-1])\n",
    "    \n",
    "    valores.append(xn)\n",
    "        \n",
    "    if abs(valores[-2] - valores[-1]) < tol:\n",
    "        break\n",
    "        \n",
    "valores = np.array(valores)        \n",
    "y = (valores + 5)**2\n",
    "\n",
    "print(f\"Numero de iteraciones: {len(y)}\")\n",
    "print(f\"Primer valor: {x0}\")\n",
    "print(f\"Último valor: {valores[-1]}\")\n",
    "print(f\"f({valores[-1]}) = {funcion(valores[-1])}\")"
   ]
  },
  {
   "cell_type": "code",
   "execution_count": null,
   "metadata": {
    "tags": []
   },
   "outputs": [],
   "source": [
    "# Vamos a graficar la función y el resultado del gradiente descendente\n",
    "\n",
    "X = np.linspace(-15, 5, 1_000)\n",
    "Y = (X + 5)**2\n",
    "\n",
    "# Función\n",
    "plt.plot(X, Y, color = \"magenta\", alpha = 0.5)\n",
    "\n",
    "# Valores Gradient Descent\n",
    "plt.plot(valores, y, color = \"black\", linestyle = \"--\")\n",
    "\n",
    "# Primer punto\n",
    "plt.plot(valores[0], y[0], color = \"black\", marker = \"o\")\n",
    "\n",
    "# Ultimo punto\n",
    "plt.plot(valores[-1], y[-1], color = \"black\", marker = \"o\")\n",
    "\n",
    "# Punto medio\n",
    "plt.plot(valores[23], y[23], color = \"black\", marker = \"o\")\n",
    "\n",
    "plt.grid(alpha = 0.3)\n",
    "plt.show()"
   ]
  },
  {
   "cell_type": "code",
   "execution_count": null,
   "metadata": {},
   "outputs": [],
   "source": [
    "################################################################################################################################"
   ]
  }
 ],
 "metadata": {
  "kernelspec": {
   "display_name": "Python 3 (ipykernel)",
   "language": "python",
   "name": "python3"
  },
  "language_info": {
   "codemirror_mode": {
    "name": "ipython",
    "version": 3
   },
   "file_extension": ".py",
   "mimetype": "text/x-python",
   "name": "python",
   "nbconvert_exporter": "python",
   "pygments_lexer": "ipython3",
   "version": "3.11.5"
  }
 },
 "nbformat": 4,
 "nbformat_minor": 4
}
