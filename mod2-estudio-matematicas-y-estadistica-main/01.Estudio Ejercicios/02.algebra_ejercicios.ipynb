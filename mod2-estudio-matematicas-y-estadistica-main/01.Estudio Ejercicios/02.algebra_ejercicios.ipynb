{
 "cells": [
  {
   "cell_type": "markdown",
   "id": "1ace7bee-b24c-400e-9d93-7a84eec5d2e1",
   "metadata": {},
   "source": [
    "## Ejercicios - Algebra"
   ]
  },
  {
   "cell_type": "code",
   "execution_count": 1,
   "id": "2ab86bce-70ec-4791-92e0-5062aa3b751c",
   "metadata": {
    "tags": []
   },
   "outputs": [],
   "source": [
    "import numpy as np\n",
    "\n",
    "import random"
   ]
  },
  {
   "cell_type": "code",
   "execution_count": 2,
   "id": "0baa6b5f-63c7-4738-a9ba-f12c6636a4ec",
   "metadata": {
    "tags": []
   },
   "outputs": [
    {
     "name": "stdout",
     "output_type": "stream",
     "text": [
      "numpy==2.2.0\n"
     ]
    }
   ],
   "source": [
    "# Versiones\n",
    "print(f\"numpy=={np.__version__}\")"
   ]
  },
  {
   "cell_type": "markdown",
   "id": "9cad9f27-4d1e-429d-b0ac-fa89e8490ef2",
   "metadata": {},
   "source": [
    "### Ejercicio 1:\n",
    "- Usando la librería _**random**_, genera una matriz de $4x4$ de números enteros del 1 al 100, usando bucles.\n",
    "- El resultado debe ser un _**np.array()**_."
   ]
  },
  {
   "cell_type": "code",
   "execution_count": null,
   "id": "6b8fc7ff",
   "metadata": {},
   "outputs": [],
   "source": []
  },
  {
   "cell_type": "code",
   "execution_count": 3,
   "id": "b4eb665c-fffe-4448-8048-0bdba9380795",
   "metadata": {
    "tags": []
   },
   "outputs": [
    {
     "name": "stdout",
     "output_type": "stream",
     "text": [
      "[[1 2 3]\n",
      " [1 2 3]]\n",
      "(2, 3)\n"
     ]
    }
   ],
   "source": [
    "matriz = np.array([[1, 2, 3], [1, 2, 3]])\n",
    "print(matriz)\n",
    "print(matriz.shape)  #primero da las filas y luego las columnas"
   ]
  },
  {
   "cell_type": "code",
   "execution_count": 4,
   "id": "118c8228-d2bd-42de-933a-87eec7cf8352",
   "metadata": {},
   "outputs": [],
   "source": [
    "# en el ejercicio se pide 4x4\n"
   ]
  },
  {
   "cell_type": "code",
   "execution_count": 5,
   "id": "a7ecb18b-aff0-4806-9ae2-84798f8c453b",
   "metadata": {},
   "outputs": [
    {
     "name": "stdout",
     "output_type": "stream",
     "text": [
      "[[1 2 3]\n",
      " [1 2 3]]\n",
      "(2, 3)\n"
     ]
    }
   ],
   "source": [
    "matriz = np.array([[1, 2, 3], [1, 2, 3]])\n",
    "print(matriz)\n",
    "print(matriz.shape)  #primero da las filas y luego las columnas\n",
    "# Uso de bucles for para crear una lista en Python y pasarla a array de numpy"
   ]
  },
  {
   "cell_type": "code",
   "execution_count": 6,
   "id": "1d9fa8ac",
   "metadata": {},
   "outputs": [
    {
     "name": "stdout",
     "output_type": "stream",
     "text": [
      "[[51, 88, 94, 19], [23, 69, 46, 82], [69, 59, 68, 43], [89, 13, 33, 8]]\n"
     ]
    },
    {
     "data": {
      "text/plain": [
       "array([[51, 88, 94, 19],\n",
       "       [23, 69, 46, 82],\n",
       "       [69, 59, 68, 43],\n",
       "       [89, 13, 33,  8]])"
      ]
     },
     "execution_count": 6,
     "metadata": {},
     "output_type": "execute_result"
    }
   ],
   "source": [
    "matriz = list()\n",
    "import random\n",
    "for i in range(4):\n",
    "    fila = list()\n",
    "    for j in range(4):\n",
    "        # numero_aleatorio = 1  para descomponer el problema en partes y ver si funciona\n",
    "        # numero_aleatorio = j       \n",
    "        numero_aleatorio = random.randint(1, 100)\n",
    "        fila.append(numero_aleatorio)\n",
    "        \n",
    "    matriz.append(fila)\n",
    "     \n",
    "print(matriz)    \n",
    "np.array(matriz)\n"
   ]
  },
  {
   "cell_type": "code",
   "execution_count": 7,
   "id": "8da2281f",
   "metadata": {},
   "outputs": [
    {
     "data": {
      "text/plain": [
       "array([[87, 77, 90,  9],\n",
       "       [61, 57,  1, 63],\n",
       "       [97, 20, 79, 77],\n",
       "       [86, 19, 21,  3]])"
      ]
     },
     "execution_count": 7,
     "metadata": {},
     "output_type": "execute_result"
    }
   ],
   "source": [
    "#se puede poner comprimido:\n",
    "np.array([[random.randint(1, 100) for j in range(4)] for i in range(4)])"
   ]
  },
  {
   "cell_type": "markdown",
   "id": "110e057c-629b-4991-a908-eb7677bfa647",
   "metadata": {},
   "source": [
    "### Ejercicio 2:\n",
    "\n",
    "- Define una función que tome como parámetro de entrada 2 valores enteros ($m$, $n$).\n",
    "- La función debe generar, usando la librería _**random**_, una matriz de $mxn$ de números enteros del 1 al 100, usando bucles.\n",
    "- La función debe retornar la matriz, la matriz debe ser un _**np.array()**_."
   ]
  },
  {
   "cell_type": "code",
   "execution_count": 26,
   "id": "71ae4ac4-8dae-4b9a-80ec-e67be3509e13",
   "metadata": {},
   "outputs": [
    {
     "data": {
      "text/plain": [
       "array([[89, 15, 44, 50, 30, 30],\n",
       "       [ 7, 82, 84, 22, 89, 37],\n",
       "       [ 1, 61, 35, 26, 60, 87],\n",
       "       [28, 84, 95, 71, 33, 82]])"
      ]
     },
     "execution_count": 26,
     "metadata": {},
     "output_type": "execute_result"
    }
   ],
   "source": [
    "# en este caso es una matriz dinamica, de mxn\n",
    "# hay que crear una función\n",
    "def generar_matriz(m=4, n=4): # añadiendo un valor nos aseguramos que al menos tendrá estas dimensiones si se introducen m y n mal\n",
    "    matriz = []\n",
    "    if m<=0 or n<=0:\n",
    "        raise ValueError(\"Dimensiones incorrectas\")\n",
    "    \n",
    "    for i in range(m):\n",
    "        fila = []\n",
    "        for j in range(n):\n",
    "            numero_aleatorio = random.randint(1, 100)\n",
    "            fila.append(numero_aleatorio)\n",
    "        \n",
    "        matriz.append(fila)\n",
    "    return np.array(matriz)\n",
    "\n",
    "generar_matriz(4, 6)\n"
   ]
  },
  {
   "cell_type": "code",
   "execution_count": null,
   "id": "be4ba55d",
   "metadata": {},
   "outputs": [],
   "source": []
  },
  {
   "cell_type": "code",
   "execution_count": null,
   "id": "78c6fc12",
   "metadata": {},
   "outputs": [],
   "source": []
  },
  {
   "cell_type": "code",
   "execution_count": null,
   "id": "2d146afc",
   "metadata": {},
   "outputs": [],
   "source": []
  },
  {
   "cell_type": "code",
   "execution_count": 9,
   "id": "268b9042-48df-44fa-a28a-75a32febe065",
   "metadata": {
    "tags": []
   },
   "outputs": [],
   "source": [
    "##############################################################################################################################"
   ]
  }
 ],
 "metadata": {
  "kernelspec": {
   "display_name": "Python 3",
   "language": "python",
   "name": "python3"
  },
  "language_info": {
   "codemirror_mode": {
    "name": "ipython",
    "version": 3
   },
   "file_extension": ".py",
   "mimetype": "text/x-python",
   "name": "python",
   "nbconvert_exporter": "python",
   "pygments_lexer": "ipython3",
   "version": "3.13.1"
  }
 },
 "nbformat": 4,
 "nbformat_minor": 5
}
