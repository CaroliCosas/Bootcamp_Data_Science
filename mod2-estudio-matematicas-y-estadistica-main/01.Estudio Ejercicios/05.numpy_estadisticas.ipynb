{
 "cells": [
  {
   "cell_type": "markdown",
   "metadata": {
    "vscode": {
     "languageId": "plaintext"
    }
   },
   "source": [
    "Cargar el dataset FuelConsumptionCo2.csv en numpy\n",
    "\n",
    "lo habitual es cargarlo con pandas"
   ]
  },
  {
   "cell_type": "code",
   "execution_count": 1,
   "metadata": {},
   "outputs": [],
   "source": [
    "import numpy as np\n",
    "import matplotlib\n",
    "import matplotlib.pyplot as plt\n",
    "import scipy\n",
    "from scipy import stats\n",
    "\n",
    "import random\n",
    "import pickle as pkl"
   ]
  },
  {
   "cell_type": "code",
   "execution_count": 2,
   "metadata": {},
   "outputs": [
    {
     "data": {
      "text/plain": [
       "array([ 9.9, 11.2,  6. , ..., 13.4, 12.9, 14.9], shape=(1067,))"
      ]
     },
     "execution_count": 2,
     "metadata": {},
     "output_type": "execute_result"
    }
   ],
   "source": [
    "with open(\"../Data/FUELCONSUMPTION_CITY.pkl\", \"br\") as f:\n",
    "    city_consumption = pkl.load(f)\n",
    "    \n",
    "city_consumption"
   ]
  },
  {
   "cell_type": "code",
   "execution_count": 3,
   "metadata": {},
   "outputs": [
    {
     "name": "stdout",
     "output_type": "stream",
     "text": [
      "float64\n"
     ]
    }
   ],
   "source": [
    "print(city_consumption.dtype)"
   ]
  },
  {
   "cell_type": "code",
   "execution_count": 25,
   "metadata": {},
   "outputs": [
    {
     "data": {
      "text/plain": [
       "array([ 6.7,  7.7,  5.8, ...,  9.8,  9.3, 10.2],\n",
       "      shape=(1067,), dtype=float32)"
      ]
     },
     "execution_count": 25,
     "metadata": {},
     "output_type": "execute_result"
    }
   ],
   "source": [
    "\n",
    "# Cargamos la columna 8 del CSV en un array de numpy: es la columna de consumo de combustible por ciudad\n",
    "# city_consumption = np.genfromtxt(\"../Data/FuelConsumptionCo2.csv\", usecols=(8), delimiter=\",\", skip_header=1) # float64\n",
    "city_consumption = np.genfromtxt(\"../Data/FuelConsumptionCo2.csv\", usecols=(8), delimiter=\",\", skip_header=1, dtype=np.float32)\n",
    "road_consumption = np.genfromtxt(\"../Data/FuelConsumptionCo2.csv\", usecols=(9), delimiter=\",\", skip_header=1, dtype=np.float32)\n",
    "manufacturers = np.genfromtxt(\"../Data/FuelConsumptionCo2.csv\", usecols=(1), delimiter=\",\", skip_header=1, dtype=str)\n",
    "\n",
    "city_consumption\n",
    "road_consumption"
   ]
  },
  {
   "cell_type": "code",
   "execution_count": 5,
   "metadata": {},
   "outputs": [
    {
     "name": "stdout",
     "output_type": "stream",
     "text": [
      "float32\n",
      "(1067,)\n"
     ]
    }
   ],
   "source": [
    "print(city_consumption.dtype)\n",
    "print(city_consumption.shape)"
   ]
  },
  {
   "cell_type": "code",
   "execution_count": 6,
   "metadata": {},
   "outputs": [
    {
     "data": {
      "text/plain": [
       "array(['ACURA', 'ACURA', 'ACURA', ..., 'VOLVO', 'VOLVO', 'VOLVO'],\n",
       "      shape=(1067,), dtype='<U13')"
      ]
     },
     "execution_count": 6,
     "metadata": {},
     "output_type": "execute_result"
    }
   ],
   "source": [
    "manufacturers = np.genfromtxt(\"../Data/FuelConsumptionCo2.csv\", usecols=(1), delimiter=\",\", skip_header=1, dtype=str)\n",
    "manufacturers"
   ]
  },
  {
   "cell_type": "code",
   "execution_count": 26,
   "metadata": {},
   "outputs": [
    {
     "name": "stdout",
     "output_type": "stream",
     "text": [
      "<U13\n",
      "(1067,)\n"
     ]
    }
   ],
   "source": [
    "print(manufacturers.dtype)\n",
    "print(manufacturers.shape)"
   ]
  },
  {
   "cell_type": "code",
   "execution_count": 27,
   "metadata": {},
   "outputs": [
    {
     "name": "stdout",
     "output_type": "stream",
     "text": [
      "Consumo medio en ciudad: 13.29653263092041\n",
      "Consumo medio en carretera: 9.474601745605469\n",
      "Consumo medio en ciudad: 13.29653263092041\n",
      "Consumo medio en ciudad: 13.300000190734863\n",
      "Consumo medio en ciudad: 13.300000190734863\n",
      "Consumo medio en ciudad: 13.29653263092041\n",
      "Consumo medio en ciudad: 13.30\n",
      "Consumo medio en ciudad: 13.30\n"
     ]
    }
   ],
   "source": [
    "print(f\"Consumo medio en ciudad: {np.mean(city_consumption)}\")\n",
    "print(f\"Consumo medio en carretera: {np.mean(road_consumption)}\")\n",
    "\n",
    "\n",
    "\n",
    "print(f\"Consumo medio en ciudad: {np.mean(city_consumption)}\")\n",
    "print(f\"Consumo medio en ciudad: {np.around(np.mean(city_consumption), 2)}\")\n",
    "print(f\"Consumo medio en ciudad: {round(np.mean(city_consumption), 2)}\")\n",
    "\n",
    "\n",
    "print(f\"Consumo medio en ciudad: {np.mean(city_consumption)}\")\n",
    "print(f\"Consumo medio en ciudad: {np.around(np.mean(city_consumption), 2):.2f}\")\n",
    "print(f\"Consumo medio en ciudad: {round(np.mean(city_consumption), 2):.2f}\")"
   ]
  },
  {
   "cell_type": "code",
   "execution_count": 28,
   "metadata": {},
   "outputs": [
    {
     "name": "stdout",
     "output_type": "stream",
     "text": [
      "Mediana de combustible en ciudad: 12.600000381469727\n",
      "Mediana de combustible en carretera: 8.800000190734863\n"
     ]
    }
   ],
   "source": [
    "print(f\"Mediana de combustible en ciudad: {np.median(city_consumption)}\")\n",
    "print(f\"Mediana de combustible en carretera: {np.median(road_consumption)}\")\n",
    "\n"
   ]
  },
  {
   "cell_type": "code",
   "execution_count": 31,
   "metadata": {},
   "outputs": [
    {
     "name": "stdout",
     "output_type": "stream",
     "text": [
      "Coche que más combustible consume en ciudad: 30.200000762939453\n",
      "Coche que más combustible consume en carretera: 20.5\n"
     ]
    }
   ],
   "source": [
    "print(f\"Coche que más combustible consume en ciudad: {np.max(city_consumption)}\")\n",
    "print(f\"Coche que más combustible consume en carretera: {np.max(road_consumption)}\")\n",
    "\n",
    "\n"
   ]
  },
  {
   "cell_type": "code",
   "execution_count": 34,
   "metadata": {},
   "outputs": [
    {
     "name": "stdout",
     "output_type": "stream",
     "text": [
      "Coche que menos combustible consume en ciudad: 4.599999904632568\n",
      "Coche que menos combustible consume en carretera: 4.900000095367432\n"
     ]
    }
   ],
   "source": [
    "print(f\"Coche que menos combustible consume en ciudad: {np.min(city_consumption)}\")\n",
    "print(f\"Coche que menos combustible consume en carretera: {np.min(road_consumption)}\")\n",
    "\n"
   ]
  },
  {
   "cell_type": "code",
   "execution_count": 39,
   "metadata": {},
   "outputs": [
    {
     "data": {
      "image/png": "[encoded data removed]",
      "text/plain": [
       "<Figure size 640x480 with 1 Axes>"
      ]
     },
     "metadata": {},
     "output_type": "display_data"
    }
   ],
   "source": [
    "plt.hist(city_consumption, bins=40);\n",
    "plt.grid()"
   ]
  },
  {
   "cell_type": "code",
   "execution_count": 40,
   "metadata": {},
   "outputs": [
    {
     "data": {
      "image/png": "[encoded data removed]",
      "text/plain": [
       "<Figure size 640x480 with 1 Axes>"
      ]
     },
     "metadata": {},
     "output_type": "display_data"
    }
   ],
   "source": [
    "plt.hist(road_consumption, bins=40);\n",
    "plt.grid()"
   ]
  },
  {
   "cell_type": "code",
   "execution_count": null,
   "metadata": {},
   "outputs": [
    {
     "data": {
      "image/png": "[encoded data removed]",
      "text/plain": [
       "<Figure size 640x480 with 1 Axes>"
      ]
     },
     "metadata": {},
     "output_type": "display_data"
    }
   ],
   "source": [
    "plt.hist(city_consumption, bins=40);\n",
    "plt.hist(road_consumption, bins=40);\n",
    "plt.xlabel(\"Consumo en litros a los 100 km hora o lo que sea\")\n",
    "plt.ylabel(\"Número de coches\")\n",
    "plt.axvline(20, color='red') # limite de compra \n",
    "plt.grid()"
   ]
  },
  {
   "cell_type": "code",
   "execution_count": 48,
   "metadata": {},
   "outputs": [
    {
     "name": "stdout",
     "output_type": "stream",
     "text": [
      "12.6\n",
      "12.6\n"
     ]
    }
   ],
   "source": [
    "\n",
    "print(np.quantile(a = city_consumption, \n",
    "            q = 0.5,   # 50% === mediana sirve para calcular valores anómalos\n",
    "            interpolation = \"lower\"))\n",
    "\n",
    "print(np.median(city_consumption))\n",
    "\n"
   ]
  },
  {
   "cell_type": "code",
   "execution_count": 51,
   "metadata": {},
   "outputs": [
    {
     "name": "stdout",
     "output_type": "stream",
     "text": [
      "[10.2 12.6 15.5]\n"
     ]
    }
   ],
   "source": [
    "print(np.quantile(a = city_consumption, \n",
    "            q = [0.25, 0.50, 0.75],\n",
    "            interpolation = \"lower\"))\n",
    "\n",
    "# primer quartil (Q1): 10.2 L/ 100 km - El 25% de los coches consumen menos de 10,2 litros\n",
    "# Mediana (Q2): 12,6 L / 100 km - El 50% de los coches consumen menos de 12,6 litros\n",
    "# Tercer cuartil (Q3): 15,5 L / 100 km - El 75% de los coches consumen menos de 15,5 litros\n"
   ]
  },
  {
   "cell_type": "code",
   "execution_count": null,
   "metadata": {},
   "outputs": [],
   "source": []
  },
  {
   "cell_type": "code",
   "execution_count": null,
   "metadata": {},
   "outputs": [],
   "source": []
  },
  {
   "cell_type": "code",
   "execution_count": null,
   "metadata": {},
   "outputs": [],
   "source": []
  },
  {
   "cell_type": "code",
   "execution_count": null,
   "metadata": {},
   "outputs": [],
   "source": []
  },
  {
   "cell_type": "code",
   "execution_count": null,
   "metadata": {},
   "outputs": [],
   "source": []
  },
  {
   "cell_type": "code",
   "execution_count": null,
   "metadata": {},
   "outputs": [],
   "source": []
  },
  {
   "cell_type": "code",
   "execution_count": null,
   "metadata": {},
   "outputs": [],
   "source": []
  },
  {
   "cell_type": "code",
   "execution_count": null,
   "metadata": {},
   "outputs": [],
   "source": []
  },
  {
   "cell_type": "code",
   "execution_count": null,
   "metadata": {},
   "outputs": [],
   "source": []
  },
  {
   "cell_type": "code",
   "execution_count": null,
   "metadata": {},
   "outputs": [],
   "source": []
  },
  {
   "cell_type": "code",
   "execution_count": null,
   "metadata": {},
   "outputs": [],
   "source": []
  },
  {
   "cell_type": "code",
   "execution_count": null,
   "metadata": {},
   "outputs": [],
   "source": []
  },
  {
   "cell_type": "code",
   "execution_count": null,
   "metadata": {},
   "outputs": [],
   "source": []
  },
  {
   "cell_type": "code",
   "execution_count": null,
   "metadata": {},
   "outputs": [],
   "source": []
  },
  {
   "cell_type": "code",
   "execution_count": null,
   "metadata": {},
   "outputs": [],
   "source": []
  }
 ],
 "metadata": {
  "kernelspec": {
   "display_name": "Python 3",
   "language": "python",
   "name": "python3"
  },
  "language_info": {
   "codemirror_mode": {
    "name": "ipython",
    "version": 3
   },
   "file_extension": ".py",
   "mimetype": "text/x-python",
   "name": "python",
   "nbconvert_exporter": "python",
   "pygments_lexer": "ipython3",
   "version": "3.13.1"
  }
 },
 "nbformat": 4,
 "nbformat_minor": 2
}
