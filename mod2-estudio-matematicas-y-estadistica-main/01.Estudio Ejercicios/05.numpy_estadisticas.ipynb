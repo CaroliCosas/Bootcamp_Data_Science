{
 "cells": [
  {
   "cell_type": "markdown",
   "metadata": {
    "vscode": {
     "languageId": "plaintext"
    }
   },
   "source": [
    "Cargar el dataset FuelConsumptionCo2.csv en numpy\n",
    "\n",
    "lo habitual es cargarlo con pandas"
   ]
  },
  {
   "cell_type": "code",
   "execution_count": 27,
   "metadata": {},
   "outputs": [],
   "source": [
    "import numpy as np\n",
    "import matplotlib\n",
    "import matplotlib.pyplot as plt\n",
    "import scipy\n",
    "from scipy import stats\n",
    "\n",
    "import random\n",
    "import pickle as pkl"
   ]
  },
  {
   "cell_type": "code",
   "execution_count": 2,
   "metadata": {},
   "outputs": [
    {
     "data": {
      "text/plain": [
       "array([ 9.9, 11.2,  6. , ..., 13.4, 12.9, 14.9])"
      ]
     },
     "execution_count": 2,
     "metadata": {},
     "output_type": "execute_result"
    }
   ],
   "source": [
    "with open(\"../Data/FUELCONSUMPTION_CITY.pkl\", \"br\") as f:\n",
    "    city_consumption = pkl.load(f)\n",
    "    \n",
    "city_consumption"
   ]
  },
  {
   "cell_type": "code",
   "execution_count": 3,
   "metadata": {},
   "outputs": [
    {
     "name": "stdout",
     "output_type": "stream",
     "text": [
      "float64\n"
     ]
    }
   ],
   "source": [
    "print(city_consumption.dtype)"
   ]
  },
  {
   "cell_type": "code",
   "execution_count": 4,
   "metadata": {},
   "outputs": [
    {
     "data": {
      "text/plain": [
       "array([ 6.7,  7.7,  5.8, ...,  9.8,  9.3, 10.2], dtype=float32)"
      ]
     },
     "execution_count": 4,
     "metadata": {},
     "output_type": "execute_result"
    }
   ],
   "source": [
    "\n",
    "# Cargamos la columna 8 del CSV en un array de numpy: es la columna de consumo de combustible por ciudad\n",
    "# city_consumption = np.genfromtxt(\"../Data/FuelConsumptionCo2.csv\", usecols=(8), delimiter=\",\", skip_header=1) # float64\n",
    "city_consumption = np.genfromtxt(\"../Data/FuelConsumptionCo2.csv\", usecols=(8), delimiter=\",\", skip_header=1, dtype=np.float32)\n",
    "road_consumption = np.genfromtxt(\"../Data/FuelConsumptionCo2.csv\", usecols=(9), delimiter=\",\", skip_header=1, dtype=np.float32)\n",
    "manufacturers = np.genfromtxt(\"../Data/FuelConsumptionCo2.csv\", usecols=(1), delimiter=\",\", skip_header=1, dtype=str)\n",
    "\n",
    "city_consumption\n",
    "road_consumption"
   ]
  },
  {
   "cell_type": "code",
   "execution_count": 5,
   "metadata": {},
   "outputs": [
    {
     "name": "stdout",
     "output_type": "stream",
     "text": [
      "float32\n",
      "(1067,)\n"
     ]
    }
   ],
   "source": [
    "print(city_consumption.dtype)\n",
    "print(city_consumption.shape)"
   ]
  },
  {
   "cell_type": "code",
   "execution_count": 6,
   "metadata": {},
   "outputs": [
    {
     "data": {
      "text/plain": [
       "array(['ACURA', 'ACURA', 'ACURA', ..., 'VOLVO', 'VOLVO', 'VOLVO'],\n",
       "      dtype='<U13')"
      ]
     },
     "execution_count": 6,
     "metadata": {},
     "output_type": "execute_result"
    }
   ],
   "source": [
    "manufacturers = np.genfromtxt(\"../Data/FuelConsumptionCo2.csv\", usecols=(1), delimiter=\",\", skip_header=1, dtype=str)\n",
    "manufacturers"
   ]
  },
  {
   "cell_type": "code",
   "execution_count": 7,
   "metadata": {},
   "outputs": [
    {
     "name": "stdout",
     "output_type": "stream",
     "text": [
      "<U13\n",
      "(1067,)\n"
     ]
    }
   ],
   "source": [
    "print(manufacturers.dtype)\n",
    "print(manufacturers.shape)"
   ]
  },
  {
   "cell_type": "code",
   "execution_count": 8,
   "metadata": {},
   "outputs": [
    {
     "name": "stdout",
     "output_type": "stream",
     "text": [
      "Consumo medio en ciudad: 13.29653263092041\n",
      "Consumo medio en carretera: 9.474601745605469\n",
      "Consumo medio en ciudad: 13.29653263092041\n",
      "Consumo medio en ciudad: 13.300000190734863\n",
      "Consumo medio en ciudad: 13.300000190734863\n",
      "Consumo medio en ciudad: 13.29653263092041\n",
      "Consumo medio en ciudad: 13.30\n",
      "Consumo medio en ciudad: 13.30\n"
     ]
    }
   ],
   "source": [
    "print(f\"Consumo medio en ciudad: {np.mean(city_consumption)}\")\n",
    "print(f\"Consumo medio en carretera: {np.mean(road_consumption)}\")\n",
    "\n",
    "\n",
    "\n",
    "print(f\"Consumo medio en ciudad: {np.mean(city_consumption)}\")\n",
    "print(f\"Consumo medio en ciudad: {np.around(np.mean(city_consumption), 2)}\")\n",
    "print(f\"Consumo medio en ciudad: {round(np.mean(city_consumption), 2)}\")\n",
    "\n",
    "\n",
    "print(f\"Consumo medio en ciudad: {np.mean(city_consumption)}\")\n",
    "print(f\"Consumo medio en ciudad: {np.around(np.mean(city_consumption), 2):.2f}\")\n",
    "print(f\"Consumo medio en ciudad: {round(np.mean(city_consumption), 2):.2f}\")"
   ]
  },
  {
   "cell_type": "code",
   "execution_count": 9,
   "metadata": {},
   "outputs": [
    {
     "name": "stdout",
     "output_type": "stream",
     "text": [
      "Mediana de combustible en ciudad: 12.600000381469727\n",
      "Mediana de combustible en carretera: 8.800000190734863\n"
     ]
    }
   ],
   "source": [
    "print(f\"Mediana de combustible en ciudad: {np.median(city_consumption)}\")\n",
    "print(f\"Mediana de combustible en carretera: {np.median(road_consumption)}\")\n",
    "\n"
   ]
  },
  {
   "cell_type": "code",
   "execution_count": 10,
   "metadata": {},
   "outputs": [
    {
     "name": "stdout",
     "output_type": "stream",
     "text": [
      "Coche que más combustible consume en ciudad: 30.200000762939453\n",
      "Coche que más combustible consume en carretera: 20.5\n"
     ]
    }
   ],
   "source": [
    "print(f\"Coche que más combustible consume en ciudad: {np.max(city_consumption)}\")\n",
    "print(f\"Coche que más combustible consume en carretera: {np.max(road_consumption)}\")\n",
    "\n",
    "\n"
   ]
  },
  {
   "cell_type": "code",
   "execution_count": 11,
   "metadata": {},
   "outputs": [
    {
     "name": "stdout",
     "output_type": "stream",
     "text": [
      "Coche que menos combustible consume en ciudad: 4.599999904632568\n",
      "Coche que menos combustible consume en carretera: 4.900000095367432\n"
     ]
    }
   ],
   "source": [
    "print(f\"Coche que menos combustible consume en ciudad: {np.min(city_consumption)}\")\n",
    "print(f\"Coche que menos combustible consume en carretera: {np.min(road_consumption)}\")\n",
    "\n"
   ]
  },
  {
   "cell_type": "code",
   "execution_count": 12,
   "metadata": {},
   "outputs": [
    {
     "data": {
      "image/png": "[encoded data removed]",
      "text/plain": [
       "<Figure size 640x480 with 1 Axes>"
      ]
     },
     "metadata": {},
     "output_type": "display_data"
    }
   ],
   "source": [
    "plt.hist(city_consumption, bins=40);\n",
    "plt.grid()"
   ]
  },
  {
   "cell_type": "code",
   "execution_count": 13,
   "metadata": {},
   "outputs": [
    {
     "data": {
      "image/png": "[encoded data removed]",
      "text/plain": [
       "<Figure size 640x480 with 1 Axes>"
      ]
     },
     "metadata": {},
     "output_type": "display_data"
    }
   ],
   "source": [
    "plt.hist(road_consumption, bins=40);\n",
    "plt.grid()"
   ]
  },
  {
   "cell_type": "code",
   "execution_count": 14,
   "metadata": {},
   "outputs": [
    {
     "data": {
      "image/png": "[encoded data removed]",
      "text/plain": [
       "<Figure size 640x480 with 1 Axes>"
      ]
     },
     "metadata": {},
     "output_type": "display_data"
    }
   ],
   "source": [
    "plt.hist(city_consumption, bins=40);\n",
    "plt.hist(road_consumption, bins=40);\n",
    "plt.xlabel(\"Consumo en litros a los 100 km hora o lo que sea\")\n",
    "plt.ylabel(\"Número de coches\")\n",
    "plt.axvline(20, color='red') # limite de compra \n",
    "plt.grid()"
   ]
  },
  {
   "cell_type": "code",
   "execution_count": 15,
   "metadata": {},
   "outputs": [
    {
     "name": "stdout",
     "output_type": "stream",
     "text": [
      "12.6\n",
      "12.6\n"
     ]
    }
   ],
   "source": [
    "\n",
    "print(np.quantile(a = city_consumption, \n",
    "            q = 0.5,   # 50% === mediana sirve para calcular valores anómalos\n",
    "            interpolation = \"lower\"))\n",
    "\n",
    "print(np.median(city_consumption))\n",
    "\n"
   ]
  },
  {
   "cell_type": "code",
   "execution_count": 16,
   "metadata": {},
   "outputs": [
    {
     "name": "stdout",
     "output_type": "stream",
     "text": [
      "[10.2 12.6 15.5]\n"
     ]
    }
   ],
   "source": [
    "print(np.quantile(a = city_consumption, \n",
    "            q = [0.25, 0.50, 0.75],\n",
    "            interpolation = \"lower\"))\n",
    "\n",
    "# primer quartil (Q1): 10.2 L/ 100 km - El 25% de los coches consumen menos de 10,2 litros\n",
    "# Mediana (Q2): 12,6 L / 100 km - El 50% de los coches consumen menos de 12,6 litros\n",
    "# Tercer cuartil (Q3): 15,5 L / 100 km - El 75% de los coches consumen menos de 15,5 litros\n",
    "# Esto nos intereasa para poder detectar calores anómalis o que están muy alejados del 50% de los datos\n"
   ]
  },
  {
   "cell_type": "code",
   "execution_count": 17,
   "metadata": {},
   "outputs": [
    {
     "data": {
      "text/plain": [
       "array([30. , 30.2, 26.7, 30. , 30.2], dtype=float32)"
      ]
     },
     "execution_count": 17,
     "metadata": {},
     "output_type": "execute_result"
    }
   ],
   "source": [
    "# np.where\n",
    "# Filtros: máscara booleana\n",
    "city_consumption[city_consumption >= 26]\n",
    "# df[df[\"city_consumption\"] >= 26]"
   ]
  },
  {
   "cell_type": "code",
   "execution_count": 18,
   "metadata": {},
   "outputs": [
    {
     "name": "stdout",
     "output_type": "stream",
     "text": [
      "Rango consumo ciudad: 25.600000381469727\n",
      "Rango consumo carretera: 15.899999618530273\n"
     ]
    }
   ],
   "source": [
    "# rango\n",
    "print(f\"Rango consumo ciudad: {np.max(city_consumption) - np.min(city_consumption)}\")\n",
    "print(f\"Rango consumo carretera: {np.max(road_consumption) - np.min(city_consumption)}\")\n"
   ]
  },
  {
   "cell_type": "code",
   "execution_count": 19,
   "metadata": {},
   "outputs": [
    {
     "name": "stdout",
     "output_type": "stream",
     "text": [
      "[10.2]\n",
      "[12.6]\n",
      "[15.5]\n",
      "[5.3]\n"
     ]
    }
   ],
   "source": [
    "# rango intercuartilico IQR: am,plitud entre el primer cuartil (Q1) y el tercer quartil (Q3): Vemos la variabilidad central de los datos\n",
    "# lo usaremos para calcular valores que sean anómalos, que están myuy alejados de ese 50% central de los datos\n",
    "# como están distribuidos los datos alrededor de la mediana\n",
    "# 1.5 veces el IQR alejado se puede considerar un outlier o \n",
    "print(np.quantile(a = city_consumption, q = [0.25], interpolation = \"lower\"))\n",
    "print(np.quantile(a = city_consumption, q = [0.50], interpolation = \"lower\"))\n",
    "print(np.quantile(a = city_consumption, q = [0.75], interpolation = \"lower\"))\n",
    "\n",
    "Q1 = np.quantile(a = city_consumption, q = [0.25], interpolation = \"lower\")\n",
    "Q2 = np.quantile(a = city_consumption, q = [0.50], interpolation = \"lower\")\n",
    "Q3 = np.quantile(a = city_consumption, q = [0.75], interpolation = \"lower\")\n",
    "\n",
    "IQR = Q3 - Q1\n",
    "print(IQR)\n",
    "\n",
    "# def remove_outliers(array):\n",
    "    "
   ]
  },
  {
   "cell_type": "code",
   "execution_count": 25,
   "metadata": {},
   "outputs": [
    {
     "name": "stdout",
     "output_type": "stream",
     "text": [
      "10.2\n",
      "15.5\n"
     ]
    },
    {
     "data": {
      "image/png": "[encoded data removed]",
      "text/plain": [
       "<Figure size 1000x600 with 1 Axes>"
      ]
     },
     "metadata": {},
     "output_type": "display_data"
    }
   ],
   "source": [
    "# pintar media, mediana, q1, q3, min, max en un histograma\n",
    "\n",
    "\n",
    "city_mean = np.mean(city_consumption)\n",
    "city_median = np.median(city_consumption)\n",
    "city_min = np.min(city_consumption)\n",
    "city_max = np.max(city_consumption)\n",
    "city_q1 = np.quantile(a = city_consumption, q = 0.25, interpolation = \"lower\")\n",
    "city_q3 = np.quantile(a = city_consumption, q = 0.75, interpolation = \"lower\")\n",
    "print(city_q1)\n",
    "print(city_q3)\n",
    "\n",
    "plt.figure(figsize=(10, 6))\n",
    "plt.hist(city_consumption, bins=25, color='blue', alpha=0.5)\n",
    "plt.axvline(city_mean, color='red', linestyle='dashed', linewidth=1, label=f'mean; {city_mean:.1f}')\n",
    "plt.axvline(city_median, color='green', linestyle='dashed', linewidth=1, label=f'mediana; {city_median:.1f}')\n",
    "#plt.axvline(city_min, color='black', linestyle='dashed', linewidth=1, label=f'min; {city_min:.1f}')\n",
    "#plt.axvline(city_max, color='black', linestyle='dashed', linewidth=1, label=f'max; {city_max:.1f}')\n",
    "plt.axvline(city_q1, color='purple', linestyle='dashed', linewidth=1, label=f'Q1: {city_q1:.1f}')\n",
    "plt.axvline(city_q3, color='purple', linestyle='dashed', linewidth=1, label=f'Q3: {city_q3:.1f}')\n",
    "plt.legend()\n",
    "plt.grid()\n",
    "plt.show()\n",
    "\n",
    "\n",
    "\n"
   ]
  },
  {
   "cell_type": "code",
   "execution_count": 82,
   "metadata": {},
   "outputs": [
    {
     "data": {
      "image/png": "[encoded data removed]",
      "text/plain": [
       "<Figure size 640x480 with 1 Axes>"
      ]
     },
     "metadata": {},
     "output_type": "display_data"
    }
   ],
   "source": [
    "# boxplot\n",
    "# punto y coma se pone al final para evitar que muestre textos encima del grafico, solo cuando es la ultima linea de la celda (y solo para Jupyter)\n",
    "plt.boxplot(city_consumption, showmeans=True);"
   ]
  },
  {
   "cell_type": "code",
   "execution_count": 76,
   "metadata": {},
   "outputs": [
    {
     "name": "stdout",
     "output_type": "stream",
     "text": [
      "percentil_10: 8.699999809265137\n",
      "percentil_90: 18.799999237060547\n",
      "10 % coches menor consumo\n",
      "(114,)\n",
      "media: 7.8307013511657715\n",
      "10 % coches mayor consumo\n",
      "(115,)\n",
      "media: 21.574783325195312\n"
     ]
    }
   ],
   "source": [
    "# Filtrar usando percentiles\n",
    "#distintos medios (alias) de hacer lo mismo\n",
    "#print(np.quantile(city_consumption, 0.5))\n",
    "#print(np.percentile(city_consumption, 50))\n",
    "\n",
    "# filtramos un porcentaje de los coches\n",
    "percentil_10 = np.percentile(city_consumption, 10)\n",
    "percentil_90 = np.percentile(city_consumption, 90)\n",
    "print(f\"percentil_10: {percentil_10}\")\n",
    "print(f\"percentil_90: {percentil_90}\")\n",
    "\n",
    "\n",
    "#Coches en el 10% inferior (10% de coches que menos consumen)\n",
    "coches_menor_consumo = city_consumption[city_consumption <= percentil_10]\n",
    "\n",
    "# 10% de coches que más consumen\n",
    "coches_mayor_consumo = city_consumption[city_consumption >= percentil_90]\n",
    "\n",
    "print(\"10 % coches menor consumo\")\n",
    "print(coches_menor_consumo.shape)\n",
    "print(f\"media: {np.mean(coches_menor_consumo)}\")\n",
    "print(\"10 % coches mayor consumo\")\n",
    "print(coches_mayor_consumo.shape)\n",
    "print(f\"media: {np.mean(coches_mayor_consumo)}\")\n",
    "\n"
   ]
  },
  {
   "cell_type": "code",
   "execution_count": 22,
   "metadata": {},
   "outputs": [
    {
     "data": {
      "text/plain": [
       "16.804516"
      ]
     },
     "execution_count": 22,
     "metadata": {},
     "output_type": "execute_result"
    }
   ],
   "source": [
    "# Varianza: mide la dispersion de los consumos con respecto a la media\n",
    "np.var(city_consumption)"
   ]
  },
  {
   "cell_type": "code",
   "execution_count": 26,
   "metadata": {},
   "outputs": [
    {
     "data": {
      "text/plain": [
       "4.0993314"
      ]
     },
     "execution_count": 26,
     "metadata": {},
     "output_type": "execute_result"
    }
   ],
   "source": [
    "# desviacion estandar: raiz cuadrada de la varianza, permite una mejor interpretación ya que estaría en las mismas unidades\n",
    "\n",
    "np.std(city_consumption)\n",
    "# de media, los consumops se desvian 4,1 litros de la media "
   ]
  },
  {
   "cell_type": "code",
   "execution_count": 40,
   "metadata": {},
   "outputs": [
    {
     "data": {
      "text/plain": [
       "array(['ACURA', 'ACURA', 'ACURA', ..., 'VOLVO', 'VOLVO', 'VOLVO'],\n",
       "      dtype='<U13')"
      ]
     },
     "execution_count": 40,
     "metadata": {},
     "output_type": "execute_result"
    }
   ],
   "source": [
    "manufacturers"
   ]
  },
  {
   "cell_type": "code",
   "execution_count": 42,
   "metadata": {},
   "outputs": [
    {
     "name": "stdout",
     "output_type": "stream",
     "text": [
      "Fabricante FORD tiene 90 coches\n",
      "Fabricante CHEVROLET tiene 86 coches\n",
      "Fabricante BMW tiene 64 coches\n",
      "Fabricante MERCEDES-BENZ tiene 59 coches\n",
      "Fabricante AUDI tiene 49 coches\n",
      "Fabricante GMC tiene 49 coches\n",
      "Fabricante TOYOTA tiene 49 coches\n",
      "Fabricante PORSCHE tiene 44 coches\n",
      "Fabricante VOLKSWAGEN tiene 42 coches\n",
      "Fabricante DODGE tiene 39 coches\n"
     ]
    }
   ],
   "source": [
    "from collections import Counter\n",
    "contador = Counter(manufacturers) # obtenemos como un diccionario\n",
    "\n",
    "# contador.most_common(5)  # da los 5 fabricantes de coches más comunes en este dataset\n",
    "top_10 = contador.most_common(10)\n",
    "for fabricante, count in top_10:\n",
    "    print(f\"Fabricante {fabricante} tiene {count} coches\")\n",
    "\n",
    "# podemos hacer una grafica con plt.bar\n",
    "# en pandas sería: sns.countplot()\n",
    "\n"
   ]
  },
  {
   "cell_type": "code",
   "execution_count": 72,
   "metadata": {},
   "outputs": [
    {
     "name": "stdout",
     "output_type": "stream",
     "text": [
      "ACURA 12\n",
      "ASTON MARTIN 7\n",
      "AUDI 49\n",
      "BENTLEY 8\n",
      "BMW 64\n",
      "BUICK 16\n",
      "CADILLAC 32\n",
      "CHEVROLET 86\n",
      "CHRYSLER 19\n",
      "DODGE 39\n",
      "FIAT 10\n",
      "FORD 90\n",
      "GMC 49\n",
      "HONDA 21\n",
      "HYUNDAI 24\n",
      "INFINITI 21\n",
      "JAGUAR 22\n",
      "JEEP 31\n",
      "KIA 33\n",
      "LAMBORGHINI 3\n",
      "LAND ROVER 19\n",
      "LEXUS 22\n",
      "LINCOLN 11\n",
      "MASERATI 6\n",
      "MAZDA 27\n",
      "MERCEDES-BENZ 59\n",
      "MINI 36\n",
      "MITSUBISHI 16\n",
      "NISSAN 33\n",
      "PORSCHE 44\n",
      "RAM 13\n",
      "ROLLS-ROYCE 7\n",
      "SCION 9\n",
      "SMART 2\n",
      "SRT 2\n",
      "SUBARU 23\n",
      "TOYOTA 49\n",
      "VOLKSWAGEN 42\n",
      "VOLVO 11\n",
      "FORD 90\n",
      "GMC 49\n",
      "HONDA 21\n",
      "HYUNDAI 24\n",
      "INFINITI 21\n",
      "JAGUAR 22\n",
      "JEEP 31\n",
      "KIA 33\n",
      "LAMBORGHINI 3\n"
     ]
    }
   ],
   "source": [
    "from collections import Counter\n",
    "contador = Counter(manufacturers)\n",
    "contador.items()\n",
    "for i in contador.items():\n",
    "    print(f\"{i[0]} {i[1]}\")\n",
    "\n",
    "#for fabricante, count in contador:\n",
    "#    print(f\"Fabricante {fabricante} tiene {count} coches\")\n",
    "    \n",
    "for position, vehicle in enumerate(contador.items()):    \n",
    "    \n",
    "    if 20 > position > 10:\n",
    "        print(f\"{vehicle[0]} {vehicle[1]}\")"
   ]
  },
  {
   "cell_type": "code",
   "execution_count": 46,
   "metadata": {},
   "outputs": [
    {
     "data": {
      "text/plain": [
       "[('FORD', 90),\n",
       " ('CHEVROLET', 86),\n",
       " ('BMW', 64),\n",
       " ('MERCEDES-BENZ', 59),\n",
       " ('AUDI', 49),\n",
       " ('GMC', 49),\n",
       " ('TOYOTA', 49),\n",
       " ('PORSCHE', 44),\n",
       " ('VOLKSWAGEN', 42),\n",
       " ('DODGE', 39)]"
      ]
     },
     "execution_count": 46,
     "metadata": {},
     "output_type": "execute_result"
    }
   ],
   "source": [
    "top_10"
   ]
  },
  {
   "cell_type": "code",
   "execution_count": 45,
   "metadata": {},
   "outputs": [
    {
     "name": "stdout",
     "output_type": "stream",
     "text": [
      "('FORD', 'CHEVROLET', 'BMW', 'MERCEDES-BENZ', 'AUDI', 'GMC', 'TOYOTA', 'PORSCHE', 'VOLKSWAGEN', 'DODGE')\n",
      "(90, 86, 64, 59, 49, 49, 49, 44, 42, 39)\n"
     ]
    }
   ],
   "source": [
    "# plt.bar()\n",
    "fabricantes, conteos = zip(*top_10) # tb lo podemos sacar en la celda anterior, dentro del blcle, haciendo append a una lista de cada\n",
    "\n",
    "\n",
    "print(fabricantes)\n",
    "print(conteos)\n"
   ]
  },
  {
   "cell_type": "code",
   "execution_count": 60,
   "metadata": {},
   "outputs": [
    {
     "data": {
      "image/png": "[encoded data removed]",
      "text/plain": [
       "<Figure size 640x480 with 1 Axes>"
      ]
     },
     "metadata": {},
     "output_type": "display_data"
    }
   ],
   "source": [
    "#plt.figure(figsize=(12, 8))\n",
    "plt.bar(fabricantes, conteos, color='orange')\n",
    "plt.xticks(rotation=60);\n",
    "\n",
    "plt.grid()\n"
   ]
  },
  {
   "cell_type": "code",
   "execution_count": 59,
   "metadata": {},
   "outputs": [
    {
     "data": {
      "image/png": "[encoded data removed]",
      "text/plain": [
       "<Figure size 640x480 with 1 Axes>"
      ]
     },
     "metadata": {},
     "output_type": "display_data"
    }
   ],
   "source": [
    "#plt.figure(figsize=(12, 8))\n",
    "plt.barh(fabricantes, conteos)\n",
    "plt.xticks(rotation=45);\n",
    "plt.grid()\n"
   ]
  },
  {
   "cell_type": "code",
   "execution_count": 61,
   "metadata": {},
   "outputs": [
    {
     "ename": "TypeError",
     "evalue": "Argument `a` is not recognized as numeric. Support for input that cannot be coerced to a numeric array was deprecated in SciPy 1.9.0 and removed in SciPy 1.11.0. Please consider `np.unique`.",
     "output_type": "error",
     "traceback": [
      "\u001b[1;31m---------------------------------------------------------------------------\u001b[0m",
      "\u001b[1;31mTypeError\u001b[0m                                 Traceback (most recent call last)",
      "\u001b[1;32m~\\AppData\\Local\\Temp\\ipykernel_26600\\4145057744.py\u001b[0m in \u001b[0;36m?\u001b[1;34m()\u001b[0m\n\u001b[0;32m      1\u001b[0m \u001b[1;31m# moda de manufacturers\u001b[0m\u001b[1;33m\u001b[0m\u001b[1;33m\u001b[0m\u001b[0m\n\u001b[1;32m----> 2\u001b[1;33m \u001b[0mstats\u001b[0m\u001b[1;33m.\u001b[0m\u001b[0mmode\u001b[0m\u001b[1;33m(\u001b[0m\u001b[0mmanufacturers\u001b[0m\u001b[1;33m)\u001b[0m\u001b[1;33m\u001b[0m\u001b[1;33m\u001b[0m\u001b[0m\n\u001b[0m\u001b[0;32m      3\u001b[0m \u001b[1;33m\u001b[0m\u001b[0m\n\u001b[0;32m      4\u001b[0m \u001b[1;33m\u001b[0m\u001b[0m\n",
      "\u001b[1;32mc:\\Users\\carol\\anaconda3\\Lib\\site-packages\\scipy\\stats\\_axis_nan_policy.py\u001b[0m in \u001b[0;36m?\u001b[1;34m(***failed resolving arguments***)\u001b[0m\n\u001b[0;32m    527\u001b[0m                 \u001b[1;31m# behavior of those would break backward compatibility.\u001b[0m\u001b[1;33m\u001b[0m\u001b[1;33m\u001b[0m\u001b[0m\n\u001b[0;32m    528\u001b[0m \u001b[1;33m\u001b[0m\u001b[0m\n\u001b[0;32m    529\u001b[0m                 \u001b[1;32mif\u001b[0m \u001b[0msentinel\u001b[0m\u001b[1;33m:\u001b[0m\u001b[1;33m\u001b[0m\u001b[1;33m\u001b[0m\u001b[0m\n\u001b[0;32m    530\u001b[0m                     \u001b[0msamples\u001b[0m \u001b[1;33m=\u001b[0m \u001b[0m_remove_sentinel\u001b[0m\u001b[1;33m(\u001b[0m\u001b[0msamples\u001b[0m\u001b[1;33m,\u001b[0m \u001b[0mpaired\u001b[0m\u001b[1;33m,\u001b[0m \u001b[0msentinel\u001b[0m\u001b[1;33m)\u001b[0m\u001b[1;33m\u001b[0m\u001b[1;33m\u001b[0m\u001b[0m\n\u001b[1;32m--> 531\u001b[1;33m                 \u001b[0mres\u001b[0m \u001b[1;33m=\u001b[0m \u001b[0mhypotest_fun_out\u001b[0m\u001b[1;33m(\u001b[0m\u001b[1;33m*\u001b[0m\u001b[0msamples\u001b[0m\u001b[1;33m,\u001b[0m \u001b[1;33m**\u001b[0m\u001b[0mkwds\u001b[0m\u001b[1;33m)\u001b[0m\u001b[1;33m\u001b[0m\u001b[1;33m\u001b[0m\u001b[0m\n\u001b[0m\u001b[0;32m    532\u001b[0m                 \u001b[0mres\u001b[0m \u001b[1;33m=\u001b[0m \u001b[0mresult_to_tuple\u001b[0m\u001b[1;33m(\u001b[0m\u001b[0mres\u001b[0m\u001b[1;33m)\u001b[0m\u001b[1;33m\u001b[0m\u001b[1;33m\u001b[0m\u001b[0m\n\u001b[0;32m    533\u001b[0m                 \u001b[0mres\u001b[0m \u001b[1;33m=\u001b[0m \u001b[0m_add_reduced_axes\u001b[0m\u001b[1;33m(\u001b[0m\u001b[0mres\u001b[0m\u001b[1;33m,\u001b[0m \u001b[0mreduced_axes\u001b[0m\u001b[1;33m,\u001b[0m \u001b[0mkeepdims\u001b[0m\u001b[1;33m)\u001b[0m\u001b[1;33m\u001b[0m\u001b[1;33m\u001b[0m\u001b[0m\n\u001b[0;32m    534\u001b[0m                 \u001b[1;32mreturn\u001b[0m \u001b[0mtuple_to_result\u001b[0m\u001b[1;33m(\u001b[0m\u001b[1;33m*\u001b[0m\u001b[0mres\u001b[0m\u001b[1;33m)\u001b[0m\u001b[1;33m\u001b[0m\u001b[1;33m\u001b[0m\u001b[0m\n",
      "\u001b[1;32mc:\\Users\\carol\\anaconda3\\Lib\\site-packages\\scipy\\stats\\_stats_py.py\u001b[0m in \u001b[0;36m?\u001b[1;34m(a, axis, nan_policy, keepdims)\u001b[0m\n\u001b[0;32m    518\u001b[0m         message = (\"Argument `a` is not recognized as numeric. \"\n\u001b[0;32m    519\u001b[0m                    \u001b[1;34m\"Support for input that cannot be coerced to a numeric \"\u001b[0m\u001b[1;33m\u001b[0m\u001b[1;33m\u001b[0m\u001b[0m\n\u001b[0;32m    520\u001b[0m                    \u001b[1;34m\"array was deprecated in SciPy 1.9.0 and removed in SciPy \"\u001b[0m\u001b[1;33m\u001b[0m\u001b[1;33m\u001b[0m\u001b[0m\n\u001b[0;32m    521\u001b[0m                    \u001b[1;34m\"1.11.0. Please consider `np.unique`.\"\u001b[0m\u001b[1;33m)\u001b[0m\u001b[1;33m\u001b[0m\u001b[1;33m\u001b[0m\u001b[0m\n\u001b[1;32m--> 522\u001b[1;33m         \u001b[1;32mraise\u001b[0m \u001b[0mTypeError\u001b[0m\u001b[1;33m(\u001b[0m\u001b[0mmessage\u001b[0m\u001b[1;33m)\u001b[0m\u001b[1;33m\u001b[0m\u001b[1;33m\u001b[0m\u001b[0m\n\u001b[0m\u001b[0;32m    523\u001b[0m \u001b[1;33m\u001b[0m\u001b[0m\n\u001b[0;32m    524\u001b[0m     \u001b[1;32mif\u001b[0m \u001b[0ma\u001b[0m\u001b[1;33m.\u001b[0m\u001b[0msize\u001b[0m \u001b[1;33m==\u001b[0m \u001b[1;36m0\u001b[0m\u001b[1;33m:\u001b[0m\u001b[1;33m\u001b[0m\u001b[1;33m\u001b[0m\u001b[0m\n\u001b[0;32m    525\u001b[0m         \u001b[0mNaN\u001b[0m \u001b[1;33m=\u001b[0m \u001b[0m_get_nan\u001b[0m\u001b[1;33m(\u001b[0m\u001b[0ma\u001b[0m\u001b[1;33m)\u001b[0m\u001b[1;33m\u001b[0m\u001b[1;33m\u001b[0m\u001b[0m\n",
      "\u001b[1;31mTypeError\u001b[0m: Argument `a` is not recognized as numeric. Support for input that cannot be coerced to a numeric array was deprecated in SciPy 1.9.0 and removed in SciPy 1.11.0. Please consider `np.unique`."
     ]
    }
   ],
   "source": [
    "# moda de manufacturers\n",
    "stats.mode(manufacturers)\n",
    "\n",
    "\n"
   ]
  },
  {
   "cell_type": "code",
   "execution_count": 73,
   "metadata": {},
   "outputs": [
    {
     "ename": "SyntaxError",
     "evalue": "expected ':' (1364102751.py, line 3)",
     "output_type": "error",
     "traceback": [
      "\u001b[1;36m  Cell \u001b[1;32mIn[73], line 3\u001b[1;36m\u001b[0m\n\u001b[1;33m    def filtrar_outliers(array)\u001b[0m\n\u001b[1;37m                               ^\u001b[0m\n\u001b[1;31mSyntaxError\u001b[0m\u001b[1;31m:\u001b[0m expected ':'\n"
     ]
    }
   ],
   "source": [
    "# metodo para ver outliers\n",
    "\n",
    "def filtrar_outliers(array)\n",
    "\n",
    "    # calcular el Q1\n",
    "    # calcular el Q3\n",
    "    # calcular IQR\n",
    "    # Filtro sobre array de 1.5 veces el IQR para limite inferior y limite superior\n",
    "    # retornar array_filtrado\n",
    "    \n",
    "    pass"
   ]
  },
  {
   "cell_type": "code",
   "execution_count": 62,
   "metadata": {},
   "outputs": [
    {
     "ename": "NameError",
     "evalue": "name 'filtrar_outliers' is not defined",
     "output_type": "error",
     "traceback": [
      "\u001b[1;31m---------------------------------------------------------------------------\u001b[0m",
      "\u001b[1;31mNameError\u001b[0m                                 Traceback (most recent call last)",
      "Cell \u001b[1;32mIn[62], line 2\u001b[0m\n\u001b[0;32m      1\u001b[0m city_consumption \u001b[38;5;66;03m# 1067\u001b[39;00m\n\u001b[1;32m----> 2\u001b[0m filtrados \u001b[38;5;241m=\u001b[39m \u001b[43mfiltrar_outliers\u001b[49m\n",
      "\u001b[1;31mNameError\u001b[0m: name 'filtrar_outliers' is not defined"
     ]
    }
   ],
   "source": [
    "city_consumption # 1067\n",
    "filtrados = filtrar_outliers"
   ]
  },
  {
   "cell_type": "code",
   "execution_count": null,
   "metadata": {},
   "outputs": [],
   "source": []
  },
  {
   "cell_type": "code",
   "execution_count": null,
   "metadata": {},
   "outputs": [],
   "source": []
  },
  {
   "cell_type": "code",
   "execution_count": null,
   "metadata": {},
   "outputs": [],
   "source": []
  },
  {
   "cell_type": "code",
   "execution_count": null,
   "metadata": {},
   "outputs": [],
   "source": []
  }
 ],
 "metadata": {
  "kernelspec": {
   "display_name": "base",
   "language": "python",
   "name": "python3"
  },
  "language_info": {
   "codemirror_mode": {
    "name": "ipython",
    "version": 3
   },
   "file_extension": ".py",
   "mimetype": "text/x-python",
   "name": "python",
   "nbconvert_exporter": "python",
   "pygments_lexer": "ipython3",
   "version": "3.12.7"
  }
 },
 "nbformat": 4,
 "nbformat_minor": 2
}
