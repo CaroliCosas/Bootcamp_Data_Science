{
 "cells": [
  {
   "cell_type": "markdown",
   "metadata": {
    "vscode": {
     "languageId": "plaintext"
    }
   },
   "source": [
    "Cargar el dataset FuelConsumptionCo2.csv en numpy\n",
    "\n",
    "lo habitual es cargarlo con pandas"
   ]
  },
  {
   "cell_type": "code",
   "execution_count": 1,
   "metadata": {},
   "outputs": [],
   "source": [
    "import numpy as np\n",
    "import matplotlib\n",
    "import matplotlib.pyplot as plt\n",
    "import scipy\n",
    "from scipy import stats\n",
    "\n",
    "import random\n",
    "import pickle as pkl"
   ]
  },
  {
   "cell_type": "code",
   "execution_count": 2,
   "metadata": {},
   "outputs": [
    {
     "data": {
      "text/plain": [
       "array([ 9.9, 11.2,  6. , ..., 13.4, 12.9, 14.9])"
      ]
     },
     "execution_count": 2,
     "metadata": {},
     "output_type": "execute_result"
    }
   ],
   "source": [
    "with open(\"../Data/FUELCONSUMPTION_CITY.pkl\", \"br\") as f:\n",
    "    city_consumption = pkl.load(f)\n",
    "    \n",
    "city_consumption"
   ]
  },
  {
   "cell_type": "code",
   "execution_count": 3,
   "metadata": {},
   "outputs": [
    {
     "name": "stdout",
     "output_type": "stream",
     "text": [
      "float64\n"
     ]
    }
   ],
   "source": [
    "print(city_consumption.dtype)"
   ]
  },
  {
   "cell_type": "code",
   "execution_count": null,
   "metadata": {},
   "outputs": [
    {
     "data": {
      "text/plain": [
       "array([ 6.7,  7.7,  5.8, ...,  9.8,  9.3, 10.2], dtype=float32)"
      ]
     },
     "execution_count": 4,
     "metadata": {},
     "output_type": "execute_result"
    }
   ],
   "source": [
    "\n",
    "# Cargamos la columna 8 del CSV en un array de numpy: es la columna de consumo de combustible por ciudad\n",
    "# city_consumption = np.genfromtxt(\"../Data/FuelConsumptionCo2.csv\", usecols=(8), delimiter=\",\", skip_header=1) # float64\n",
    "city_consumption = np.genfromtxt(\"../Data/FuelConsumptionCo2.csv\", usecols=(8), delimiter=\",\", skip_header=1, dtype=np.float32)\n",
    "road_consumption = np.genfromtxt(\"../Data/FuelConsumptionCo2.csv\", usecols=(9), delimiter=\",\", skip_header=1, dtype=np.float32)\n",
    "manufacturers = np.genfromtxt(\"../Data/FuelConsumptionCo2.csv\", usecols=(1), delimiter=\",\", skip_header=1, dtype=str)\n",
    "\n",
    "city_consumption\n",
    "road_consumption"
   ]
  },
  {
   "cell_type": "code",
   "execution_count": 5,
   "metadata": {},
   "outputs": [
    {
     "name": "stdout",
     "output_type": "stream",
     "text": [
      "float32\n",
      "(1067,)\n"
     ]
    }
   ],
   "source": [
    "print(city_consumption.dtype)\n",
    "print(city_consumption.shape)"
   ]
  },
  {
   "cell_type": "code",
   "execution_count": 6,
   "metadata": {},
   "outputs": [
    {
     "data": {
      "text/plain": [
       "array(['ACURA', 'ACURA', 'ACURA', ..., 'VOLVO', 'VOLVO', 'VOLVO'],\n",
       "      dtype='<U13')"
      ]
     },
     "execution_count": 6,
     "metadata": {},
     "output_type": "execute_result"
    }
   ],
   "source": [
    "manufacturers = np.genfromtxt(\"../Data/FuelConsumptionCo2.csv\", usecols=(1), delimiter=\",\", skip_header=1, dtype=str)\n",
    "manufacturers"
   ]
  },
  {
   "cell_type": "code",
   "execution_count": 7,
   "metadata": {},
   "outputs": [
    {
     "name": "stdout",
     "output_type": "stream",
     "text": [
      "<U13\n",
      "(1067,)\n"
     ]
    }
   ],
   "source": [
    "print(manufacturers.dtype)\n",
    "print(manufacturers.shape)"
   ]
  },
  {
   "cell_type": "code",
   "execution_count": 8,
   "metadata": {},
   "outputs": [
    {
     "name": "stdout",
     "output_type": "stream",
     "text": [
      "Consumo medio en ciudad: 13.29653263092041\n",
      "Consumo medio en carretera: 9.474601745605469\n",
      "Consumo medio en ciudad: 13.29653263092041\n",
      "Consumo medio en ciudad: 13.300000190734863\n",
      "Consumo medio en ciudad: 13.300000190734863\n",
      "Consumo medio en ciudad: 13.29653263092041\n",
      "Consumo medio en ciudad: 13.30\n",
      "Consumo medio en ciudad: 13.30\n"
     ]
    }
   ],
   "source": [
    "print(f\"Consumo medio en ciudad: {np.mean(city_consumption)}\")\n",
    "print(f\"Consumo medio en carretera: {np.mean(road_consumption)}\")\n",
    "\n",
    "\n",
    "\n",
    "print(f\"Consumo medio en ciudad: {np.mean(city_consumption)}\")\n",
    "print(f\"Consumo medio en ciudad: {np.around(np.mean(city_consumption), 2)}\")\n",
    "print(f\"Consumo medio en ciudad: {round(np.mean(city_consumption), 2)}\")\n",
    "\n",
    "\n",
    "print(f\"Consumo medio en ciudad: {np.mean(city_consumption)}\")\n",
    "print(f\"Consumo medio en ciudad: {np.around(np.mean(city_consumption), 2):.2f}\")\n",
    "print(f\"Consumo medio en ciudad: {round(np.mean(city_consumption), 2):.2f}\")"
   ]
  },
  {
   "cell_type": "code",
   "execution_count": 9,
   "metadata": {},
   "outputs": [
    {
     "name": "stdout",
     "output_type": "stream",
     "text": [
      "Mediana de combustible en ciudad: 12.600000381469727\n",
      "Mediana de combustible en carretera: 8.800000190734863\n"
     ]
    }
   ],
   "source": [
    "print(f\"Mediana de combustible en ciudad: {np.median(city_consumption)}\")\n",
    "print(f\"Mediana de combustible en carretera: {np.median(road_consumption)}\")\n",
    "\n"
   ]
  },
  {
   "cell_type": "code",
   "execution_count": 10,
   "metadata": {},
   "outputs": [
    {
     "name": "stdout",
     "output_type": "stream",
     "text": [
      "Coche que más combustible consume en ciudad: 30.200000762939453\n",
      "Coche que más combustible consume en carretera: 20.5\n"
     ]
    }
   ],
   "source": [
    "print(f\"Coche que más combustible consume en ciudad: {np.max(city_consumption)}\")\n",
    "print(f\"Coche que más combustible consume en carretera: {np.max(road_consumption)}\")\n",
    "\n",
    "\n"
   ]
  },
  {
   "cell_type": "code",
   "execution_count": 11,
   "metadata": {},
   "outputs": [
    {
     "name": "stdout",
     "output_type": "stream",
     "text": [
      "Coche que menos combustible consume en ciudad: 4.599999904632568\n",
      "Coche que menos combustible consume en carretera: 4.900000095367432\n"
     ]
    }
   ],
   "source": [
    "print(f\"Coche que menos combustible consume en ciudad: {np.min(city_consumption)}\")\n",
    "print(f\"Coche que menos combustible consume en carretera: {np.min(road_consumption)}\")\n",
    "\n"
   ]
  },
  {
   "cell_type": "code",
   "execution_count": 12,
   "metadata": {},
   "outputs": [
    {
     "data": {
      "image/png": "[encoded data removed]",
      "text/plain": [
       "<Figure size 640x480 with 1 Axes>"
      ]
     },
     "metadata": {},
     "output_type": "display_data"
    }
   ],
   "source": [
    "plt.hist(city_consumption, bins=40);\n",
    "plt.grid()"
   ]
  },
  {
   "cell_type": "code",
   "execution_count": 13,
   "metadata": {},
   "outputs": [
    {
     "data": {
      "image/png": "[encoded data removed]",
      "text/plain": [
       "<Figure size 640x480 with 1 Axes>"
      ]
     },
     "metadata": {},
     "output_type": "display_data"
    }
   ],
   "source": [
    "plt.hist(road_consumption, bins=40);\n",
    "plt.grid()"
   ]
  },
  {
   "cell_type": "code",
   "execution_count": 14,
   "metadata": {},
   "outputs": [
    {
     "data": {
      "image/png": "[encoded data removed]",
      "text/plain": [
       "<Figure size 640x480 with 1 Axes>"
      ]
     },
     "metadata": {},
     "output_type": "display_data"
    }
   ],
   "source": [
    "plt.hist(city_consumption, bins=40);\n",
    "plt.hist(road_consumption, bins=40);\n",
    "plt.xlabel(\"Consumo en litros a los 100 km hora o lo que sea\")\n",
    "plt.ylabel(\"Número de coches\")\n",
    "plt.axvline(20, color='red') # limite de compra \n",
    "plt.grid()"
   ]
  },
  {
   "cell_type": "code",
   "execution_count": 15,
   "metadata": {},
   "outputs": [
    {
     "name": "stdout",
     "output_type": "stream",
     "text": [
      "12.6\n",
      "12.6\n"
     ]
    }
   ],
   "source": [
    "\n",
    "print(np.quantile(a = city_consumption, \n",
    "            q = 0.5,   # 50% === mediana sirve para calcular valores anómalos\n",
    "            interpolation = \"lower\"))\n",
    "\n",
    "print(np.median(city_consumption))\n",
    "\n"
   ]
  },
  {
   "cell_type": "code",
   "execution_count": 16,
   "metadata": {},
   "outputs": [
    {
     "name": "stdout",
     "output_type": "stream",
     "text": [
      "[10.2 12.6 15.5]\n"
     ]
    }
   ],
   "source": [
    "print(np.quantile(a = city_consumption, \n",
    "            q = [0.25, 0.50, 0.75],\n",
    "            interpolation = \"lower\"))\n",
    "\n",
    "# primer quartil (Q1): 10.2 L/ 100 km - El 25% de los coches consumen menos de 10,2 litros\n",
    "# Mediana (Q2): 12,6 L / 100 km - El 50% de los coches consumen menos de 12,6 litros\n",
    "# Tercer cuartil (Q3): 15,5 L / 100 km - El 75% de los coches consumen menos de 15,5 litros\n",
    "# Esto nos intereasa para poder detectar calores anómalis o que están muy alejados del 50% de los datos\n"
   ]
  },
  {
   "cell_type": "code",
   "execution_count": 17,
   "metadata": {},
   "outputs": [
    {
     "data": {
      "text/plain": [
       "array([30. , 30.2, 26.7, 30. , 30.2], dtype=float32)"
      ]
     },
     "execution_count": 17,
     "metadata": {},
     "output_type": "execute_result"
    }
   ],
   "source": [
    "# np.where\n",
    "# Filtros: máscara booleana\n",
    "city_consumption[city_consumption >= 26]\n",
    "# df[df[\"city_consumption\"] >= 26]"
   ]
  },
  {
   "cell_type": "code",
   "execution_count": 18,
   "metadata": {},
   "outputs": [
    {
     "name": "stdout",
     "output_type": "stream",
     "text": [
      "Rango consumo ciudad: 25.600000381469727\n",
      "Rango consumo carretera: 15.899999618530273\n"
     ]
    }
   ],
   "source": [
    "# rango\n",
    "print(f\"Rango consumo ciudad: {np.max(city_consumption) - np.min(city_consumption)}\")\n",
    "print(f\"Rango consumo carretera: {np.max(road_consumption) - np.min(city_consumption)}\")\n"
   ]
  },
  {
   "cell_type": "code",
   "execution_count": 19,
   "metadata": {},
   "outputs": [
    {
     "name": "stdout",
     "output_type": "stream",
     "text": [
      "[10.2]\n",
      "[12.6]\n",
      "[15.5]\n",
      "[5.3]\n"
     ]
    }
   ],
   "source": [
    "# rango intercuartilico IQR: am,plitud entre el primer cuartil (Q1) y el tercer quartil (Q3): Vemos la variabilidad central de los datos\n",
    "# lo usaremos para calcular valores que sean anómalos, que están myuy alejados de ese 50% central de los datos\n",
    "# como están distribuidos los datos alrededor de la mediana\n",
    "# 1.5 veces el IQR alejado se puede considerar un outlier o \n",
    "print(np.quantile(a = city_consumption, q = [0.25], interpolation = \"lower\"))\n",
    "print(np.quantile(a = city_consumption, q = [0.50], interpolation = \"lower\"))\n",
    "print(np.quantile(a = city_consumption, q = [0.75], interpolation = \"lower\"))\n",
    "\n",
    "Q1 = np.quantile(a = city_consumption, q = [0.25], interpolation = \"lower\")\n",
    "Q2 = np.quantile(a = city_consumption, q = [0.50], interpolation = \"lower\")\n",
    "Q3 = np.quantile(a = city_consumption, q = [0.75], interpolation = \"lower\")\n",
    "\n",
    "IQR = Q3 - Q1\n",
    "print(IQR)\n",
    "\n",
    "# def remove_outliers(array):\n",
    "    "
   ]
  },
  {
   "cell_type": "code",
   "execution_count": 25,
   "metadata": {},
   "outputs": [
    {
     "name": "stdout",
     "output_type": "stream",
     "text": [
      "10.2\n",
      "15.5\n"
     ]
    },
    {
     "data": {
      "image/png": "[encoded data removed]",
      "text/plain": [
       "<Figure size 1000x600 with 1 Axes>"
      ]
     },
     "metadata": {},
     "output_type": "display_data"
    }
   ],
   "source": [
    "# pintar media, mediana, q1, q3, min, max en un histograma\n",
    "\n",
    "\n",
    "city_mean = np.mean(city_consumption)\n",
    "city_median = np.median(city_consumption)\n",
    "city_min = np.min(city_consumption)\n",
    "city_max = np.max(city_consumption)\n",
    "city_q1 = np.quantile(a = city_consumption, q = 0.25, interpolation = \"lower\")\n",
    "city_q3 = np.quantile(a = city_consumption, q = 0.75, interpolation = \"lower\")\n",
    "print(city_q1)\n",
    "print(city_q3)\n",
    "\n",
    "plt.figure(figsize=(10, 6))\n",
    "plt.hist(city_consumption, bins=25, color='blue', alpha=0.5)\n",
    "plt.axvline(city_mean, color='red', linestyle='dashed', linewidth=1, label=f'mean; {city_mean:.1f}')\n",
    "plt.axvline(city_median, color='green', linestyle='dashed', linewidth=1, label=f'mediana; {city_median:.1f}')\n",
    "#plt.axvline(city_min, color='black', linestyle='dashed', linewidth=1, label=f'min; {city_min:.1f}')\n",
    "#plt.axvline(city_max, color='black', linestyle='dashed', linewidth=1, label=f'max; {city_max:.1f}')\n",
    "plt.axvline(city_q1, color='purple', linestyle='dashed', linewidth=1, label=f'Q1: {city_q1:.1f}')\n",
    "plt.axvline(city_q3, color='purple', linestyle='dashed', linewidth=1, label=f'Q3: {city_q3:.1f}')\n",
    "plt.legend()\n",
    "plt.grid()\n",
    "plt.show()\n",
    "\n",
    "\n",
    "\n"
   ]
  },
  {
   "cell_type": "code",
   "execution_count": 82,
   "metadata": {},
   "outputs": [
    {
     "data": {
      "image/png": "[encoded data removed]",
      "text/plain": [
       "<Figure size 640x480 with 1 Axes>"
      ]
     },
     "metadata": {},
     "output_type": "display_data"
    }
   ],
   "source": [
    "# boxplot\n",
    "# punto y coma se pone al final para evitar que muestre textos encima del grafico, solo cuando es la ultima linea de la celda (y solo para Jupyter)\n",
    "plt.boxplot(city_consumption, showmeans=True);"
   ]
  },
  {
   "cell_type": "code",
   "execution_count": 76,
   "metadata": {},
   "outputs": [
    {
     "name": "stdout",
     "output_type": "stream",
     "text": [
      "percentil_10: 8.699999809265137\n",
      "percentil_90: 18.799999237060547\n",
      "10 % coches menor consumo\n",
      "(114,)\n",
      "media: 7.8307013511657715\n",
      "10 % coches mayor consumo\n",
      "(115,)\n",
      "media: 21.574783325195312\n"
     ]
    }
   ],
   "source": [
    "# Filtrar usando percentiles\n",
    "#distintos medios (alias) de hacer lo mismo\n",
    "#print(np.quantile(city_consumption, 0.5))\n",
    "#print(np.percentile(city_consumption, 50))\n",
    "\n",
    "# filtramos un porcentaje de los coches\n",
    "percentil_10 = np.percentile(city_consumption, 10)\n",
    "percentil_90 = np.percentile(city_consumption, 90)\n",
    "print(f\"percentil_10: {percentil_10}\")\n",
    "print(f\"percentil_90: {percentil_90}\")\n",
    "\n",
    "\n",
    "#Coches en el 10% inferior (10% de coches que menos consumen)\n",
    "coches_menor_consumo = city_consumption[city_consumption <= percentil_10]\n",
    "\n",
    "# 10% de coches que más consumen\n",
    "coches_mayor_consumo = city_consumption[city_consumption >= percentil_90]\n",
    "\n",
    "print(\"10 % coches menor consumo\")\n",
    "print(coches_menor_consumo.shape)\n",
    "print(f\"media: {np.mean(coches_menor_consumo)}\")\n",
    "print(\"10 % coches mayor consumo\")\n",
    "print(coches_mayor_consumo.shape)\n",
    "print(f\"media: {np.mean(coches_mayor_consumo)}\")\n",
    "\n"
   ]
  },
  {
   "cell_type": "code",
   "execution_count": 22,
   "metadata": {},
   "outputs": [
    {
     "data": {
      "text/plain": [
       "16.804516"
      ]
     },
     "execution_count": 22,
     "metadata": {},
     "output_type": "execute_result"
    }
   ],
   "source": [
    "# Varianza: mide la dispersion de los consumos con respecto a la media\n",
    "np.var(city_consumption)"
   ]
  },
  {
   "cell_type": "code",
   "execution_count": 26,
   "metadata": {},
   "outputs": [
    {
     "data": {
      "text/plain": [
       "4.0993314"
      ]
     },
     "execution_count": 26,
     "metadata": {},
     "output_type": "execute_result"
    }
   ],
   "source": [
    "# desviacion estandar: raiz cuadrada de la varianza, permite una mejor interpretación ya que estaría en las mismas unidades\n",
    "\n",
    "np.std(city_consumption)\n",
    "# de media, los consumops se desvian 4,1 litros de la media "
   ]
  },
  {
   "cell_type": "code",
   "execution_count": null,
   "metadata": {},
   "outputs": [],
   "source": [
    "# moda de manufacturers\n"
   ]
  },
  {
   "cell_type": "code",
   "execution_count": null,
   "metadata": {},
   "outputs": [],
   "source": [
    "# metodo para ver ouliers\n"
   ]
  },
  {
   "cell_type": "code",
   "execution_count": null,
   "metadata": {},
   "outputs": [],
   "source": []
  },
  {
   "cell_type": "code",
   "execution_count": null,
   "metadata": {},
   "outputs": [],
   "source": []
  },
  {
   "cell_type": "code",
   "execution_count": null,
   "metadata": {},
   "outputs": [],
   "source": []
  },
  {
   "cell_type": "code",
   "execution_count": null,
   "metadata": {},
   "outputs": [],
   "source": []
  },
  {
   "cell_type": "code",
   "execution_count": null,
   "metadata": {},
   "outputs": [],
   "source": []
  }
 ],
 "metadata": {
  "kernelspec": {
   "display_name": "base",
   "language": "python",
   "name": "python3"
  },
  "language_info": {
   "codemirror_mode": {
    "name": "ipython",
    "version": 3
   },
   "file_extension": ".py",
   "mimetype": "text/x-python",
   "name": "python",
   "nbconvert_exporter": "python",
   "pygments_lexer": "ipython3",
   "version": "3.12.7"
  }
 },
 "nbformat": 4,
 "nbformat_minor": 2
}
